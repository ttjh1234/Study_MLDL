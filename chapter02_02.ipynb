{
  "nbformat": 4,
  "nbformat_minor": 0,
  "metadata": {
    "colab": {
      "name": "chapter02_02.ipynb",
      "provenance": [],
      "collapsed_sections": [],
      "authorship_tag": "ABX9TyN7Qx4HeUWZMCCfTTrSQVrD",
      "include_colab_link": true
    },
    "kernelspec": {
      "name": "python3",
      "display_name": "Python 3"
    }
  },
  "cells": [
    {
      "cell_type": "markdown",
      "metadata": {
        "id": "view-in-github",
        "colab_type": "text"
      },
      "source": [
        "<a href=\"https://colab.research.google.com/github/ttjh1234/Study_MLDL/blob/main/chapter02_02.ipynb\" target=\"_parent\"><img src=\"https://colab.research.google.com/assets/colab-badge.svg\" alt=\"Open In Colab\"/></a>"
      ]
    },
    {
      "cell_type": "markdown",
      "metadata": {
        "id": "ZF3xwiaq8SFB"
      },
      "source": [
        "#생선 분류 문제"
      ]
    },
    {
      "cell_type": "markdown",
      "metadata": {
        "id": "n7NhV7efAPAf"
      },
      "source": [
        "##데이터 전처리"
      ]
    },
    {
      "cell_type": "markdown",
      "metadata": {
        "id": "1gsh2bGqAaOO"
      },
      "source": [
        "###Numpy를 활용하여 데이터 전처리"
      ]
    },
    {
      "cell_type": "markdown",
      "metadata": {
        "id": "5s8NoQqoB6Mp"
      },
      "source": [
        "chapter1에서 사용한 Kaggle 생선 데이터 이어서 사용.\r\n",
        "\r\n",
        "Numpy의 함수를 사용하여 데이터 준비\r\n",
        "\r\n",
        "**np.column_stack()**:두 리스트를 일렬로 세운 다음 연결, 매개변수는 **튜플**로 전달\r\n",
        "\r\n",
        "**np.concatenate()**:첫 리스트 차원을 이용하여 그대로 연결, 매개밴셔는 **튜플**로 전달\r\n",
        "\r\n",
        "**np.ones()**:1을 채운 배열을 만들어 주는 함수\r\n",
        "\r\n",
        "**np.zeros()**:0을 채운 배열을 만들어 주는 함수\r\n"
      ]
    },
    {
      "cell_type": "code",
      "metadata": {
        "id": "PfQvaeNmBt-Z"
      },
      "source": [
        "fish_length = [25.4, 26.3, 26.5, 29.0, 29.0, 29.7, 29.7, 30.0, 30.0, 30.7, 31.0, 31.0, \r\n",
        "                31.5, 32.0, 32.0, 32.0, 33.0, 33.0, 33.5, 33.5, 34.0, 34.0, 34.5, 35.0, \r\n",
        "                35.0, 35.0, 35.0, 36.0, 36.0, 37.0, 38.5, 38.5, 39.5, 41.0, 41.0, 9.8, \r\n",
        "                10.5, 10.6, 11.0, 11.2, 11.3, 11.8, 11.8, 12.0, 12.2, 12.4, 13.0, 14.3, 15.0]\r\n",
        "fish_weight = [242.0, 290.0, 340.0, 363.0, 430.0, 450.0, 500.0, 390.0, 450.0, 500.0, 475.0, 500.0, \r\n",
        "                500.0, 340.0, 600.0, 600.0, 700.0, 700.0, 610.0, 650.0, 575.0, 685.0, 620.0, 680.0, \r\n",
        "                700.0, 725.0, 720.0, 714.0, 850.0, 1000.0, 920.0, 955.0, 925.0, 975.0, 950.0, 6.7, \r\n",
        "                7.5, 7.0, 9.7, 9.8, 8.7, 10.0, 9.9, 9.8, 12.2, 13.4, 12.2, 19.7, 19.9]"
      ],
      "execution_count": 1,
      "outputs": []
    },
    {
      "cell_type": "code",
      "metadata": {
        "id": "oYNNq2O_DICA"
      },
      "source": [
        "import numpy as np"
      ],
      "execution_count": 2,
      "outputs": []
    },
    {
      "cell_type": "code",
      "metadata": {
        "id": "D4L4rGGWDK4f"
      },
      "source": [
        "fish_data=np.column_stack((fish_length,fish_weight))"
      ],
      "execution_count": 3,
      "outputs": []
    },
    {
      "cell_type": "code",
      "metadata": {
        "colab": {
          "base_uri": "https://localhost:8080/"
        },
        "id": "VkLVDM2qDUXr",
        "outputId": "9717fed5-e2ba-4de1-9a9b-918e8adf8aff"
      },
      "source": [
        "print(fish_data[:5])"
      ],
      "execution_count": 4,
      "outputs": [
        {
          "output_type": "stream",
          "text": [
            "[[ 25.4 242. ]\n",
            " [ 26.3 290. ]\n",
            " [ 26.5 340. ]\n",
            " [ 29.  363. ]\n",
            " [ 29.  430. ]]\n"
          ],
          "name": "stdout"
        }
      ]
    },
    {
      "cell_type": "code",
      "metadata": {
        "colab": {
          "base_uri": "https://localhost:8080/"
        },
        "id": "LID6l8RPDYvA",
        "outputId": "1a2d5d57-8f6c-4b7b-ee57-988895bfb159"
      },
      "source": [
        "print(np.ones(5))"
      ],
      "execution_count": 5,
      "outputs": [
        {
          "output_type": "stream",
          "text": [
            "[1. 1. 1. 1. 1.]\n"
          ],
          "name": "stdout"
        }
      ]
    },
    {
      "cell_type": "code",
      "metadata": {
        "id": "luw4e1tgDdB_"
      },
      "source": [
        "fish_target=np.concatenate((np.ones(35),np.zeros(14)))"
      ],
      "execution_count": 6,
      "outputs": []
    },
    {
      "cell_type": "code",
      "metadata": {
        "colab": {
          "base_uri": "https://localhost:8080/"
        },
        "id": "qqRz5AMLDkpX",
        "outputId": "b03ee21c-1dbf-4ff9-dbc9-029e7ef66c65"
      },
      "source": [
        "print(fish_target)"
      ],
      "execution_count": 7,
      "outputs": [
        {
          "output_type": "stream",
          "text": [
            "[1. 1. 1. 1. 1. 1. 1. 1. 1. 1. 1. 1. 1. 1. 1. 1. 1. 1. 1. 1. 1. 1. 1. 1.\n",
            " 1. 1. 1. 1. 1. 1. 1. 1. 1. 1. 1. 0. 0. 0. 0. 0. 0. 0. 0. 0. 0. 0. 0. 0.\n",
            " 0.]\n"
          ],
          "name": "stdout"
        }
      ]
    },
    {
      "cell_type": "markdown",
      "metadata": {
        "id": "Om6wjyjgA8r9"
      },
      "source": [
        "###Sklearn으로 test_set, train_set 나누기"
      ]
    },
    {
      "cell_type": "markdown",
      "metadata": {
        "id": "pNbzceW3Gu76"
      },
      "source": [
        "**Sklearn**이 제공하는 **train_test_split** 함수는 기본적으로 25%를 test_set으로 분리.\r\n",
        "\r\n",
        "**random_state** 매개변수는 일종의 시드값을 설정하는 요소\r\n"
      ]
    },
    {
      "cell_type": "code",
      "metadata": {
        "id": "0TeXslMyBvKI"
      },
      "source": [
        "from sklearn.model_selection import train_test_split"
      ],
      "execution_count": 8,
      "outputs": []
    },
    {
      "cell_type": "code",
      "metadata": {
        "id": "qiHdX3FMDuQ-"
      },
      "source": [
        "train_input,test_input,train_target,test_target=train_test_split(fish_data,fish_target,random_state=42)"
      ],
      "execution_count": 9,
      "outputs": []
    },
    {
      "cell_type": "code",
      "metadata": {
        "colab": {
          "base_uri": "https://localhost:8080/"
        },
        "id": "G2DC8T2DD7G_",
        "outputId": "bfed86e8-546f-499d-84b2-05ed4effd65b"
      },
      "source": [
        "print(train_input.shape,test_input.shape,'\\n')\r\n",
        "print(train_target.shape,test_target.shape,'\\n')\r\n",
        "print(np.unique(train_target,return_counts=True))\r\n",
        "print(np.unique(test_target,return_counts=True))"
      ],
      "execution_count": 10,
      "outputs": [
        {
          "output_type": "stream",
          "text": [
            "(36, 2) (13, 2) \n",
            "\n",
            "(36,) (13,) \n",
            "\n",
            "(array([0., 1.]), array([11, 25]))\n",
            "(array([0., 1.]), array([ 3, 10]))\n"
          ],
          "name": "stdout"
        }
      ]
    },
    {
      "cell_type": "markdown",
      "metadata": {
        "id": "9wUOf9LtEPwX"
      },
      "source": [
        "test_set과 train_set을 나눴지만 타겟 변수의 셋을 보면 \r\n",
        "\r\n",
        "전체 데이터셋의 도미와 빙어 비율 : **2.5:1**\r\n",
        "\r\n",
        "test_set과 train_set의 빙어 비율 : **3.3:1** ,**2.27:1**\r\n",
        "\r\n",
        "샘플링 편향이 일어났다. 특히 일부 클래스의 개수가 적을 때 이런 현상이 생길 수 있음\r\n",
        "\r\n",
        "이를 해결하기 위해 **stratify** 매개변수에 타깃 데이터를 지정하면 비율에 맞게 데이터를 나눔\r\n"
      ]
    },
    {
      "cell_type": "code",
      "metadata": {
        "colab": {
          "base_uri": "https://localhost:8080/"
        },
        "id": "8uFpf32AENhr",
        "outputId": "f1d30c37-251c-437a-8a19-c30f2f643933"
      },
      "source": [
        "train_input,test_input,train_target,test_target=train_test_split(fish_data,fish_target,stratify=fish_target,\r\n",
        "                                                                 random_state=42)\r\n",
        "\r\n",
        "print(np.unique(train_target,return_counts=True))\r\n",
        "print(np.unique(test_target,return_counts=True))"
      ],
      "execution_count": 11,
      "outputs": [
        {
          "output_type": "stream",
          "text": [
            "(array([0., 1.]), array([10, 26]))\n",
            "(array([0., 1.]), array([4, 9]))\n"
          ],
          "name": "stdout"
        }
      ]
    },
    {
      "cell_type": "markdown",
      "metadata": {
        "id": "ltosbayLAoS3"
      },
      "source": [
        "###수상한 데이터 적용"
      ]
    },
    {
      "cell_type": "markdown",
      "metadata": {
        "id": "X2CKjgUIIft6"
      },
      "source": [
        "문제에서 제시한 특성 (25, 150)을 가지는 생선(도미) 분류 문제"
      ]
    },
    {
      "cell_type": "code",
      "metadata": {
        "colab": {
          "base_uri": "https://localhost:8080/"
        },
        "id": "fh0RPMuDBx8n",
        "outputId": "493df1c9-1348-4961-8e79-d23c7cbd8331"
      },
      "source": [
        "from sklearn.neighbors import KNeighborsClassifier\r\n",
        "kn=KNeighborsClassifier()\r\n",
        "kn.fit(train_input,train_target)\r\n",
        "print(kn.score(test_input,test_target))"
      ],
      "execution_count": 12,
      "outputs": [
        {
          "output_type": "stream",
          "text": [
            "1.0\n"
          ],
          "name": "stdout"
        }
      ]
    },
    {
      "cell_type": "code",
      "metadata": {
        "colab": {
          "base_uri": "https://localhost:8080/"
        },
        "id": "kf_3NR6GJBAJ",
        "outputId": "3837866c-d1f6-4625-be9b-cc863c3489b1"
      },
      "source": [
        "print(kn.predict([[25,150]]))"
      ],
      "execution_count": 13,
      "outputs": [
        {
          "output_type": "stream",
          "text": [
            "[0.]\n"
          ],
          "name": "stdout"
        }
      ]
    },
    {
      "cell_type": "code",
      "metadata": {
        "colab": {
          "base_uri": "https://localhost:8080/",
          "height": 279
        },
        "id": "As2jfM8gJGYg",
        "outputId": "9725cc07-c6c6-4b58-ad8f-341b2573bcc6"
      },
      "source": [
        "import matplotlib.pyplot as plt\r\n",
        "plt.scatter(train_input[:,0],train_input[:,1])\r\n",
        "plt.scatter(25,150,marker='^')\r\n",
        "plt.xlabel('length')\r\n",
        "plt.ylabel('weight')\r\n",
        "plt.show()"
      ],
      "execution_count": 14,
      "outputs": [
        {
          "output_type": "display_data",
          "data": {
            "image/png": "[encoded data removed]",
            "text/plain": [
              "<Figure size 432x288 with 1 Axes>"
            ]
          },
          "metadata": {
            "tags": [],
            "needs_background": "light"
          }
        }
      ]
    },
    {
      "cell_type": "markdown",
      "metadata": {
        "id": "xZmJFWiHKA7E"
      },
      "source": [
        "**kn.kneighbors()**는 주어진 샘플에서 가장 가까운 이웃을 찾아주며, 거리와 인덱스를 반환"
      ]
    },
    {
      "cell_type": "code",
      "metadata": {
        "colab": {
          "base_uri": "https://localhost:8080/",
          "height": 295
        },
        "id": "nKS0NAlWJXWV",
        "outputId": "24ce0e1e-cc26-454b-d6b6-70b7a4c928c8"
      },
      "source": [
        "distances,indexes=kn.kneighbors([[25,150]])\r\n",
        "plt.scatter(train_input[:,0],train_input[:,1])\r\n",
        "plt.scatter(25,150,marker='^')\r\n",
        "plt.scatter(train_input[indexes,0],train_input[indexes,1],marker='D')\r\n",
        "plt.xlabel('length')\r\n",
        "plt.ylabel('weight')\r\n",
        "plt.title('Before Scaling')\r\n",
        "plt.show()"
      ],
      "execution_count": 15,
      "outputs": [
        {
          "output_type": "display_data",
          "data": {
            "image/png": "[encoded data removed]",
            "text/plain": [
              "<Figure size 432x288 with 1 Axes>"
            ]
          },
          "metadata": {
            "tags": [],
            "needs_background": "light"
          }
        }
      ]
    },
    {
      "cell_type": "code",
      "metadata": {
        "colab": {
          "base_uri": "https://localhost:8080/"
        },
        "id": "Gr-aS_JpJzM3",
        "outputId": "9a5d1f1c-f06a-42bd-dbff-aa8e7b3cf806"
      },
      "source": [
        "print(train_input[indexes])\r\n",
        "print(train_target[indexes])\r\n",
        "print(distances)"
      ],
      "execution_count": 16,
      "outputs": [
        {
          "output_type": "stream",
          "text": [
            "[[[ 25.4 242. ]\n",
            "  [ 15.   19.9]\n",
            "  [ 14.3  19.7]\n",
            "  [ 13.   12.2]\n",
            "  [ 12.2  12.2]]]\n",
            "[[1. 0. 0. 0. 0.]]\n",
            "[[ 92.00086956 130.48375378 130.73859415 138.32150953 138.39320793]]\n"
          ],
          "name": "stdout"
        }
      ]
    },
    {
      "cell_type": "markdown",
      "metadata": {
        "id": "LD-YGiunBX-k"
      },
      "source": [
        "###Scale 처리하기"
      ]
    },
    {
      "cell_type": "markdown",
      "metadata": {
        "id": "IyqMn3-AKfeO"
      },
      "source": [
        "위 모델은 두 특성간 **스케일**이 다르기 때문에 적절한 모형이 아니다.\r\n",
        "\r\n",
        "데이터를 표현하는 기준이 다르면 알고리즘이 올바르게 예측하기 어렵다.\r\n",
        "\r\n",
        "주로 **거리 기반** 알고리즘일 때 나타난다. \r\n",
        "\r\n",
        "따라서 제대로 사용하기 위해서는 특성값을 일정한 기준으로 맞추는 **전처리 작업**이 필요하다."
      ]
    },
    {
      "cell_type": "code",
      "metadata": {
        "colab": {
          "base_uri": "https://localhost:8080/",
          "height": 279
        },
        "id": "Z6bPDgScB0KI",
        "outputId": "972ed61a-8c9c-4bd6-c066-0a2886107a55"
      },
      "source": [
        "plt.scatter(train_input[:,0],train_input[:,1])\r\n",
        "plt.scatter(25,150,marker='^')\r\n",
        "plt.scatter(train_input[indexes,0],train_input[indexes,1],marker='D')\r\n",
        "plt.xlim((0,1000))\r\n",
        "plt.xlabel('length')\r\n",
        "plt.ylabel('weight')\r\n",
        "plt.show()"
      ],
      "execution_count": 17,
      "outputs": [
        {
          "output_type": "display_data",
          "data": {
            "image/png": "[encoded data removed]",
            "text/plain": [
              "<Figure size 432x288 with 1 Axes>"
            ]
          },
          "metadata": {
            "tags": [],
            "needs_background": "light"
          }
        }
      ]
    },
    {
      "cell_type": "markdown",
      "metadata": {
        "id": "BgSJdX79LS42"
      },
      "source": [
        "위 산점도의 x,y축의 스케일을 같게 해서 보면, \r\n",
        "\r\n",
        "x축 데이터(길이)는 데이터들간의 거리에 **영향을 많이 끼치지 못하다**는 것을 알 수 있다.\r\n",
        "\r\n",
        "따라서 **표준화**를 진행해야한다."
      ]
    },
    {
      "cell_type": "code",
      "metadata": {
        "colab": {
          "base_uri": "https://localhost:8080/"
        },
        "id": "FGQbdHQ_L3eH",
        "outputId": "f163891a-08c6-40f1-91fb-6997d8b03845"
      },
      "source": [
        "mean=np.mean(train_input,axis=0)\r\n",
        "std=np.std(train_input,axis=0)\r\n",
        "print(mean,std)\r\n",
        "train_scaled=(train_input-mean)/std\r\n",
        "print(train_scaled[:5])"
      ],
      "execution_count": 18,
      "outputs": [
        {
          "output_type": "stream",
          "text": [
            "[ 27.29722222 454.09722222] [  9.98244253 323.29893931]\n",
            "[[ 0.24070039  0.14198246]\n",
            " [-1.51237757 -1.36683783]\n",
            " [ 0.5712808   0.76060496]\n",
            " [-1.60253587 -1.37766373]\n",
            " [ 1.22242404  1.45655528]]\n"
          ],
          "name": "stdout"
        }
      ]
    },
    {
      "cell_type": "markdown",
      "metadata": {
        "id": "RDKb-aWcBlUj"
      },
      "source": [
        "###Scale 처리한 데이터로 모델 훈련 및 평가"
      ]
    },
    {
      "cell_type": "code",
      "metadata": {
        "colab": {
          "base_uri": "https://localhost:8080/",
          "height": 279
        },
        "id": "MhHGVw-RB04V",
        "outputId": "4333fc09-8ca5-4445-a111-6e5853ee12b9"
      },
      "source": [
        "plt.scatter(train_scaled[:,0],train_scaled[:,1])\r\n",
        "plt.scatter(25,150,marker='^')\r\n",
        "plt.xlabel('length')\r\n",
        "plt.ylabel('weight')\r\n",
        "plt.show()"
      ],
      "execution_count": 19,
      "outputs": [
        {
          "output_type": "display_data",
          "data": {
            "image/png": "[encoded data removed]",
            "text/plain": [
              "<Figure size 432x288 with 1 Axes>"
            ]
          },
          "metadata": {
            "tags": [],
            "needs_background": "light"
          }
        }
      ]
    },
    {
      "cell_type": "markdown",
      "metadata": {
        "id": "w65m-n0DMpgB"
      },
      "source": [
        "위 산점도를 보면 train_set은 **표준화**가 진행되었으나\r\n",
        "\r\n",
        "예측에 사용할 변수와 test_set은 **표준화**가 진행되지않았다.\r\n",
        "\r\n",
        "동일 조건을 유지하기 위해 **train_set에서 사용한 평균과 표준편차**를 사용하여 표준화를 진행한다."
      ]
    },
    {
      "cell_type": "code",
      "metadata": {
        "colab": {
          "base_uri": "https://localhost:8080/",
          "height": 279
        },
        "id": "k5z178xzMmXx",
        "outputId": "830b10df-ece3-48e7-e99a-dab4e2fd4aed"
      },
      "source": [
        "new=([25,150]-mean)/std\r\n",
        "plt.scatter(train_scaled[:,0],train_scaled[:,1])\r\n",
        "plt.scatter(new[0],new[1],marker='^')\r\n",
        "plt.xlabel('length')\r\n",
        "plt.ylabel('weight')\r\n",
        "plt.show()"
      ],
      "execution_count": 20,
      "outputs": [
        {
          "output_type": "display_data",
          "data": {
            "image/png": "[encoded data removed]",
            "text/plain": [
              "<Figure size 432x288 with 1 Axes>"
            ]
          },
          "metadata": {
            "tags": [],
            "needs_background": "light"
          }
        }
      ]
    }
  ]
}