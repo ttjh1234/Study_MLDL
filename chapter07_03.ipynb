{
  "nbformat": 4,
  "nbformat_minor": 0,
  "metadata": {
    "colab": {
      "name": "chapter07_03.ipynb",
      "provenance": [],
      "collapsed_sections": [],
      "authorship_tag": "ABX9TyNb5Xgq1jsYQufJXjrcV4q9",
      "include_colab_link": true
    },
    "kernelspec": {
      "name": "python3",
      "display_name": "Python 3"
    },
    "accelerator": "GPU"
  },
  "cells": [
    {
      "cell_type": "markdown",
      "metadata": {
        "id": "view-in-github",
        "colab_type": "text"
      },
      "source": [
        "<a href=\"https://colab.research.google.com/github/ttjh1234/Study_MLDL/blob/main/chapter07_03.ipynb\" target=\"_parent\"><img src=\"https://colab.research.google.com/assets/colab-badge.svg\" alt=\"Open In Colab\"/></a>"
      ]
    },
    {
      "cell_type": "markdown",
      "metadata": {
        "id": "xCOy7C4hvtBm"
      },
      "source": [
        "# 신경망 모델 훈련"
      ]
    },
    {
      "cell_type": "markdown",
      "metadata": {
        "id": "AqNuFaLUwmSI"
      },
      "source": [
        "인공 신경망 모델을 훈련하는 모범 사례와 필요한 도구들을 살펴보겠다.\r\n",
        "\r\n",
        "데이터는 전 절에서 사용한 패션MNIST dataset을 가지고 학습하겠다."
      ]
    },
    {
      "cell_type": "markdown",
      "metadata": {
        "id": "gueLy3fJvv2E"
      },
      "source": [
        "## 손실 곡선"
      ]
    },
    {
      "cell_type": "markdown",
      "metadata": {
        "id": "OmhMGTiAw0oB"
      },
      "source": [
        "패션 MNIST 데이터 셋을 적재하고 train_set과 valid_set으로 나누겠다.\r\n",
        "\r\n",
        "(keras.datasets을 load_data()를 써서 가져오면 자동으로 train_set과 test_set을 나눠준다.) "
      ]
    },
    {
      "cell_type": "code",
      "metadata": {
        "id": "tC3USEd1HhN5",
        "colab": {
          "base_uri": "https://localhost:8080/"
        },
        "outputId": "97705c85-a8c1-464f-b4a4-5a19c503b554"
      },
      "source": [
        "from tensorflow import keras\r\n",
        "from sklearn.model_selection import train_test_split\r\n",
        "(x_train,y_train),(x_test,y_test)=keras.datasets.fashion_mnist.load_data()\r\n",
        "x_train=x_train/255.0\r\n",
        "x_train,x_valid,y_train,y_valid=train_test_split(x_train,y_train,test_size=0.2,random_state=42)\r\n",
        "print(x_train.shape,x_test.shape,x_valid.shape)"
      ],
      "execution_count": 1,
      "outputs": [
        {
          "output_type": "stream",
          "text": [
            "Downloading data from https://storage.googleapis.com/tensorflow/tf-keras-datasets/train-labels-idx1-ubyte.gz\n",
            "32768/29515 [=================================] - 0s 0us/step\n",
            "Downloading data from https://storage.googleapis.com/tensorflow/tf-keras-datasets/train-images-idx3-ubyte.gz\n",
            "26427392/26421880 [==============================] - 0s 0us/step\n",
            "Downloading data from https://storage.googleapis.com/tensorflow/tf-keras-datasets/t10k-labels-idx1-ubyte.gz\n",
            "8192/5148 [===============================================] - 0s 0us/step\n",
            "Downloading data from https://storage.googleapis.com/tensorflow/tf-keras-datasets/t10k-images-idx3-ubyte.gz\n",
            "4423680/4422102 [==============================] - 0s 0us/step\n",
            "(48000, 28, 28) (10000, 28, 28) (12000, 28, 28)\n"
          ],
          "name": "stdout"
        }
      ]
    },
    {
      "cell_type": "markdown",
      "metadata": {
        "id": "Cg_RtcH11Yat"
      },
      "source": [
        "신경망 모델을 만드는 과정을 함수로 정의하여 만들어보겠다.\r\n",
        "\r\n",
        "전 절에서 배운 것처럼 Flatten함수를 사용하여 input_data를 \r\n",
        "\r\n",
        "1차원 배열로 만들지 않고 바로 사용하겠다.\r\n",
        "\r\n",
        "그 후 밀집층을 relu 함수를 적용해 만들고, 추가적으로 매개변수에 층을 전달하면, \r\n",
        "\r\n",
        "신경망에 층을 추가하는 식으로 만들었다.\r\n",
        "\r\n",
        "제일 마지막은 출력층을 만들어주며, 타깃값이 총 10개이므로 softmax함수를 사용해준다.\r\n"
      ]
    },
    {
      "cell_type": "code",
      "metadata": {
        "id": "vrZZFrRexm_P"
      },
      "source": [
        "def model_fn(a_layer=None):\r\n",
        "  model=keras.Sequential()\r\n",
        "  model.add(keras.layers.Flatten(input_shape=(28,28)))\r\n",
        "  model.add(keras.layers.Dense(100,activation='relu'))\r\n",
        "  if a_layer:\r\n",
        "    model.add(a_layer)\r\n",
        "  model.add(keras.layers.Dense(10,activation='softmax'))\r\n",
        "  return model"
      ],
      "execution_count": 2,
      "outputs": []
    },
    {
      "cell_type": "code",
      "metadata": {
        "colab": {
          "base_uri": "https://localhost:8080/"
        },
        "id": "n9eZcUeWyMuW",
        "outputId": "e57e7b6f-a5bc-40fa-e254-24bcf93aad84"
      },
      "source": [
        "model=model_fn()\r\n",
        "model.summary()"
      ],
      "execution_count": 3,
      "outputs": [
        {
          "output_type": "stream",
          "text": [
            "Model: \"sequential\"\n",
            "_________________________________________________________________\n",
            "Layer (type)                 Output Shape              Param #   \n",
            "=================================================================\n",
            "flatten (Flatten)            (None, 784)               0         \n",
            "_________________________________________________________________\n",
            "dense (Dense)                (None, 100)               78500     \n",
            "_________________________________________________________________\n",
            "dense_1 (Dense)              (None, 10)                1010      \n",
            "=================================================================\n",
            "Total params: 79,510\n",
            "Trainable params: 79,510\n",
            "Non-trainable params: 0\n",
            "_________________________________________________________________\n"
          ],
          "name": "stdout"
        }
      ]
    },
    {
      "cell_type": "markdown",
      "metadata": {
        "id": "tLzZ4SvB2N-D"
      },
      "source": [
        "모델을 만들고, train_set을 통해 훈련을 시킨다. \r\n",
        "\r\n",
        "complie 함수를 정의해주는데, 손실함수에 sparse_categorical_crossentropy를 사용하여 \r\n",
        "\r\n",
        "타깃값을 원핫인코딩을 하지않고, 바로 레이블 그대로 사용해준다.\r\n",
        "\r\n",
        "정확도를 지표로 해서 모델을 적합해보겠다.\r\n",
        "\r\n",
        "인공신경망에서 fit()함수의 매개변수 중 **verbose**는 훈련 과정 출력을 조정해준다.\r\n",
        "\r\n",
        "기본값은 1로 에포크마다 진행 막대와 함께 손실 등의 지표가 출력된다.\r\n",
        "\r\n",
        "2로 바꾸면 진행 막대를 빼고 출력되고, 0으로 지정하면 훈련 과정이 나타나지 않는다.\r\n",
        "\r\n",
        "인공신경망에서 모델을 적합시키면, History 클래스 객체를 반환하는데,\r\n",
        "\r\n",
        "History 객체에는 훈련 과정에서 계산한 지표(손실과 정확도 등)이 저장되어있다."
      ]
    },
    {
      "cell_type": "code",
      "metadata": {
        "id": "zKw2QI1xyQsJ"
      },
      "source": [
        "model.compile(loss='sparse_categorical_crossentropy',metrics='accuracy')\r\n",
        "history=model.fit(x_train,y_train,epochs=5,verbose=0)"
      ],
      "execution_count": 4,
      "outputs": []
    },
    {
      "cell_type": "markdown",
      "metadata": {
        "id": "9spIHI7i3OZi"
      },
      "source": [
        "History 객체에는 훈련 측정값이 담겨져있는 history 딕셔너리가 들어있다.\r\n",
        "\r\n",
        "딕셔너리의 키값들을 살펴본다."
      ]
    },
    {
      "cell_type": "code",
      "metadata": {
        "colab": {
          "base_uri": "https://localhost:8080/"
        },
        "id": "Giar_4ezywBz",
        "outputId": "446952f1-81c3-44db-88a0-0bdad8fa2fa8"
      },
      "source": [
        "print(history.history.keys())"
      ],
      "execution_count": 5,
      "outputs": [
        {
          "output_type": "stream",
          "text": [
            "dict_keys(['loss', 'accuracy'])\n"
          ],
          "name": "stdout"
        }
      ]
    },
    {
      "cell_type": "markdown",
      "metadata": {
        "id": "JeUgyaSX4TQD"
      },
      "source": [
        "딕셔너리안에는 손실과 정확도가 포함되어있다.\r\n",
        "\r\n",
        "케라스는 기본적으로 각 에포크마다 손실을 계산하며, \r\n",
        "\r\n",
        "complie()메소드에서 accuracy라는 지표를 추가했기 때문에 History 객체 안에 저장되어있다.\r\n",
        "\r\n",
        "각 에포크마다 손실을 matplotlib를 사용하여 도식해보겠다."
      ]
    },
    {
      "cell_type": "code",
      "metadata": {
        "colab": {
          "base_uri": "https://localhost:8080/",
          "height": 279
        },
        "id": "OCodibyTy2Sz",
        "outputId": "22e4fcf8-29ce-4520-a578-7f78c9c7ed72"
      },
      "source": [
        "import matplotlib.pyplot as plt\r\n",
        "plt.plot(history.history['loss'])\r\n",
        "plt.xlabel('epoch')\r\n",
        "plt.ylabel('loss')\r\n",
        "plt.show()"
      ],
      "execution_count": 6,
      "outputs": [
        {
          "output_type": "display_data",
          "data": {
            "image/png": "[encoded data removed]",
            "text/plain": [
              "<Figure size 432x288 with 1 Axes>"
            ]
          },
          "metadata": {
            "tags": [],
            "needs_background": "light"
          }
        }
      ]
    },
    {
      "cell_type": "markdown",
      "metadata": {
        "id": "k-_kjMZB4uSa"
      },
      "source": [
        "에포크마다 손실이 감소하는 것을 확인할 수 있다.\r\n",
        "\r\n",
        "이번에는 accuracy 지표를 각 에포크마다 확인해보겠다."
      ]
    },
    {
      "cell_type": "code",
      "metadata": {
        "colab": {
          "base_uri": "https://localhost:8080/",
          "height": 279
        },
        "id": "PhqwZwF4zP-Y",
        "outputId": "0f2b7178-7209-4f68-d99f-0f85905db5d6"
      },
      "source": [
        "plt.plot(history.history['accuracy'])\r\n",
        "plt.xlabel('epoch')\r\n",
        "plt.ylabel('accuracy')\r\n",
        "plt.show()"
      ],
      "execution_count": 7,
      "outputs": [
        {
          "output_type": "display_data",
          "data": {
            "image/png": "[encoded data removed]",
            "text/plain": [
              "<Figure size 432x288 with 1 Axes>"
            ]
          },
          "metadata": {
            "tags": [],
            "needs_background": "light"
          }
        }
      ]
    },
    {
      "cell_type": "markdown",
      "metadata": {
        "id": "qsD9IlE_42Zz"
      },
      "source": [
        "accuracy는 각 에포크마다 향상되는 추세를 볼 수 있다.\r\n",
        "\r\n",
        "이번에는 모델의 epoch를 20번까지 늘려서 손실 그래프를 그려보겠다."
      ]
    },
    {
      "cell_type": "code",
      "metadata": {
        "colab": {
          "base_uri": "https://localhost:8080/",
          "height": 279
        },
        "id": "osBmD5fhzXbP",
        "outputId": "4df344c7-9236-4cff-a2d6-a382a4b43cb9"
      },
      "source": [
        "model=model_fn()\r\n",
        "model.compile(loss='sparse_categorical_crossentropy',metrics='accuracy')\r\n",
        "history=model.fit(x_train,y_train,epochs=20,verbose=0)\r\n",
        "plt.plot(history.history['loss'])\r\n",
        "plt.xlabel('epoch')\r\n",
        "plt.ylabel('loss')\r\n",
        "plt.show()"
      ],
      "execution_count": 8,
      "outputs": [
        {
          "output_type": "display_data",
          "data": {
            "image/png": "[encoded data removed]",
            "text/plain": [
              "<Figure size 432x288 with 1 Axes>"
            ]
          },
          "metadata": {
            "tags": [],
            "needs_background": "light"
          }
        }
      ]
    },
    {
      "cell_type": "code",
      "metadata": {
        "colab": {
          "base_uri": "https://localhost:8080/"
        },
        "id": "bLD8cFwr0d1p",
        "outputId": "6739244c-e728-400b-dd99-dbf1eefc890f"
      },
      "source": [
        "print(history.history['accuracy'])"
      ],
      "execution_count": 9,
      "outputs": [
        {
          "output_type": "stream",
          "text": [
            "[0.8108333349227905, 0.8590624928474426, 0.8712499737739563, 0.8793749809265137, 0.8862083554267883, 0.890625, 0.8948125243186951, 0.8971041440963745, 0.9021458625793457, 0.9035833477973938, 0.9067083597183228, 0.9075000286102295, 0.9107916951179504, 0.9127500057220459, 0.9140416383743286, 0.9168333411216736, 0.9177083373069763, 0.9182083606719971, 0.9209374785423279, 0.9207708239555359]\n"
          ],
          "name": "stdout"
        }
      ]
    },
    {
      "cell_type": "code",
      "metadata": {
        "colab": {
          "base_uri": "https://localhost:8080/",
          "height": 279
        },
        "id": "6UcL-CJh0a2k",
        "outputId": "91e8ed5b-a96c-4c67-d6b5-1def3434d652"
      },
      "source": [
        "plt.plot(history.history['accuracy'])\r\n",
        "plt.xlabel('epoch')\r\n",
        "plt.ylabel('accuracy')\r\n",
        "plt.show()"
      ],
      "execution_count": 10,
      "outputs": [
        {
          "output_type": "display_data",
          "data": {
            "image/png": "[encoded data removed]",
            "text/plain": [
              "<Figure size 432x288 with 1 Axes>"
            ]
          },
          "metadata": {
            "tags": [],
            "needs_background": "light"
          }
        }
      ]
    },
    {
      "cell_type": "markdown",
      "metadata": {
        "id": "HwfO2stivx_v"
      },
      "source": [
        "## 검증 손실"
      ]
    },
    {
      "cell_type": "markdown",
      "metadata": {
        "id": "i2omWJ1W5Z8C"
      },
      "source": [
        "위에서 봤던 것처럼 에포크가 증가할 수록 정확도는 향상되고, 손실을 낮아지는 추세를 볼 수 있었다.\r\n",
        "\r\n",
        "chapter04에서 확률적 경사 하강법을 사용했을 때, 과대/과소적합과 에포크와의 관계를 알아봤었다.\r\n",
        "\r\n",
        "인공 신경망도 일종의 경사 하강법을 사용하기 때문에, 동일한 개념이 여기에도 적용된다.\r\n",
        "\r\n",
        "**이는 에포크를 최대한 많이해서 좋은 결과를 나타낼 수 있겠지만, 과대 적합의 위험이 있을 수 있다.**\r\n",
        "\r\n",
        "에포크에 따른 과대적합과 과소적합을 알아내기 위해, **train_set에 대한 점수와 valid_set에 대한 점수를 사용하여 에포크마다 손실을 비교해보겠다.**\r\n",
        "\r\n",
        "**4장에서와 달리 정확도를 사용하지 않고 손실을 그래프에 사용하는 이유는**\r\n",
        "\r\n",
        "**인공 신경망 모델이 최적화하는 대상은 손실 함수이기 때문이다.**"
      ]
    },
    {
      "cell_type": "markdown",
      "metadata": {
        "id": "fjbxl3hH6m2t"
      },
      "source": [
        "에포크마다 검증 손실을 계산하기 위해 keras 모델의 fit()메소드에서 검증 데이터를 전달 할 수 있다.\r\n",
        "\r\n",
        "**validation_data** 매개변수에 검증에 사용할 데이터를 **튜플**을 사용하여 전달해준다."
      ]
    },
    {
      "cell_type": "code",
      "metadata": {
        "id": "VpFIfC_0wMi9"
      },
      "source": [
        "model=model_fn()\r\n",
        "model.compile(loss='sparse_categorical_crossentropy',metrics='accuracy')\r\n",
        "history=model.fit(x_train,y_train,epochs=20,verbose=0,validation_data=(x_valid,y_valid))"
      ],
      "execution_count": 11,
      "outputs": []
    },
    {
      "cell_type": "code",
      "metadata": {
        "colab": {
          "base_uri": "https://localhost:8080/"
        },
        "id": "qDeO2X_L7l5i",
        "outputId": "47ce2203-15d3-46e5-e244-88e4a94acce7"
      },
      "source": [
        "print(history.history.keys())"
      ],
      "execution_count": 12,
      "outputs": [
        {
          "output_type": "stream",
          "text": [
            "dict_keys(['loss', 'accuracy', 'val_loss', 'val_accuracy'])\n"
          ],
          "name": "stdout"
        }
      ]
    },
    {
      "cell_type": "markdown",
      "metadata": {
        "id": "-qvcZRy77606"
      },
      "source": [
        "케라스 모델의 fit()메소드에 validation_data 매개변수를 추가해주니,\r\n",
        "\r\n",
        "History 객체에도 val_loss 와 val_accuracy 키값이 추가되었다.\r\n",
        "\r\n",
        "이 두 키 값에 각 에포크마다 검증 데이터의 손실과 정확도가 저장되어있다."
      ]
    },
    {
      "cell_type": "code",
      "metadata": {
        "colab": {
          "base_uri": "https://localhost:8080/",
          "height": 295
        },
        "id": "ExaBktTj76Km",
        "outputId": "b4343e9a-4125-4dce-d3ab-a3e657383d14"
      },
      "source": [
        "plt.plot(history.history['loss'])\r\n",
        "plt.plot(history.history['val_loss'])\r\n",
        "plt.xlabel('epoch')\r\n",
        "plt.ylabel('loss')\r\n",
        "plt.legend(['train_set','valid_set'])\r\n",
        "plt.title('Loss with Increasing Epoch')\r\n",
        "plt.show()"
      ],
      "execution_count": 13,
      "outputs": [
        {
          "output_type": "display_data",
          "data": {
            "image/png": "[encoded data removed]",
            "text/plain": [
              "<Figure size 432x288 with 1 Axes>"
            ]
          },
          "metadata": {
            "tags": [],
            "needs_background": "light"
          }
        }
      ]
    },
    {
      "cell_type": "markdown",
      "metadata": {
        "id": "V_DZLJwe9L_K"
      },
      "source": [
        "초기에 검증 손실이 감소하다가 다섯 번째 에포크부터 손실이 증가하는 추세가 보인다.\r\n",
        "\r\n",
        "훈련 손실은 꾸준히 감소하기 때문에 과대적합 모델이 만들어질 것이다.\r\n",
        "\r\n",
        "검증 손실이 상승하는 시점을 가능한 뒤로 늦추면 검증 세트에 대한 손실이 줄어들 뿐 아니라, \r\n",
        "\r\n",
        "검증 세트에 대한 정확도도 증가할 것이다.\r\n",
        "\r\n",
        "당장은 옵티마이저 매개변수를 이용하여 과대적합을 완화시켜보겠다.\r\n"
      ]
    },
    {
      "cell_type": "code",
      "metadata": {
        "colab": {
          "base_uri": "https://localhost:8080/",
          "height": 295
        },
        "id": "Z9qAbopX9IIF",
        "outputId": "81832fd5-3536-4a4f-d88c-64d63450cc33"
      },
      "source": [
        "model=model_fn()\r\n",
        "model.compile(optimizer='adam',loss='sparse_categorical_crossentropy',metrics='accuracy')\r\n",
        "history=model.fit(x_train,y_train,epochs=20,verbose=0,validation_data=(x_valid,y_valid))\r\n",
        "plt.plot(history.history['loss'])\r\n",
        "plt.plot(history.history['val_loss'])\r\n",
        "plt.xlabel('epoch')\r\n",
        "plt.ylabel('loss')\r\n",
        "plt.legend(['train_set','valid_set'])\r\n",
        "plt.title('Loss with Increasing Epoch Using Adam Optimizer')\r\n",
        "plt.show()"
      ],
      "execution_count": 14,
      "outputs": [
        {
          "output_type": "display_data",
          "data": {
            "image/png": "[encoded data removed]",
            "text/plain": [
              "<Figure size 432x288 with 1 Axes>"
            ]
          },
          "metadata": {
            "tags": [],
            "needs_background": "light"
          }
        }
      ]
    },
    {
      "cell_type": "markdown",
      "metadata": {
        "id": "WZ1oqpGW--ew"
      },
      "source": [
        "valid_set에서 손실이 12번째 까지 낮아지는 추세를 가지고 있다.\r\n",
        "\r\n",
        "전 결과보다 과대적합이 조금 완화된 것을 볼 수 있다.\r\n",
        "\r\n",
        "이는 Adam 옵티마이저가 이 data_set에 잘 맞는다는 것을 보여준다.\r\n",
        "\r\n",
        "더 나은 손실 곡선을 위하여 학습률을 조정해서 시도해볼 수 있지만, \r\n",
        "\r\n",
        "신경망에서 사용하는 대표적인 규제 방법을 사용해보겠다."
      ]
    },
    {
      "cell_type": "markdown",
      "metadata": {
        "id": "6QGf4ODdwNjc"
      },
      "source": [
        "## 드롭 아웃"
      ]
    },
    {
      "cell_type": "markdown",
      "metadata": {
        "id": "Yu4JJph0taDU"
      },
      "source": [
        "**드롭아웃**은딥러닝의 아버지로 불리는 **제프리힌턴(Geoffrey Hinton)**이 소개했다.\r\n",
        "\r\n",
        "훈련과정에서 층에 있는 일부 뉴런을 랜덤하게 꺼서 과대적합을 막는 방법\r\n",
        "\r\n",
        "이전 층의 일부 뉴런이 랜덤하게 꺼지면 특정 뉴런에 과대하게 의존하는 것을 줄일 수 있고,\r\n",
        "\r\n",
        "모든 입력에 대해 주의를 기울여야 한다.\r\n",
        "\r\n",
        "케라스에서는 드롭 아웃을 keras.layers 패키지 아래에 **Dropout** 클래스로 제공한다.\r\n",
        "\r\n",
        "앞서 정의한 model_fn()함수에 드롭아웃 객체를 전달하여 층을 추가해보겠다."
      ]
    },
    {
      "cell_type": "code",
      "metadata": {
        "colab": {
          "base_uri": "https://localhost:8080/"
        },
        "id": "uuBtwGIbwPsr",
        "outputId": "8fd45e8a-fec4-4ae3-fb0c-72100b95cfa4"
      },
      "source": [
        "model=model_fn(keras.layers.Dropout(0.3))\r\n",
        "model.summary()"
      ],
      "execution_count": 15,
      "outputs": [
        {
          "output_type": "stream",
          "text": [
            "Model: \"sequential_4\"\n",
            "_________________________________________________________________\n",
            "Layer (type)                 Output Shape              Param #   \n",
            "=================================================================\n",
            "flatten_4 (Flatten)          (None, 784)               0         \n",
            "_________________________________________________________________\n",
            "dense_8 (Dense)              (None, 100)               78500     \n",
            "_________________________________________________________________\n",
            "dropout (Dropout)            (None, 100)               0         \n",
            "_________________________________________________________________\n",
            "dense_9 (Dense)              (None, 10)                1010      \n",
            "=================================================================\n",
            "Total params: 79,510\n",
            "Trainable params: 79,510\n",
            "Non-trainable params: 0\n",
            "_________________________________________________________________\n"
          ],
          "name": "stdout"
        }
      ]
    },
    {
      "cell_type": "markdown",
      "metadata": {
        "id": "Wi79Qh3Ou4en"
      },
      "source": [
        "은닉층 뒤에 추가된 드롭아웃 층은 훈련되는 모델 파라미터가 없고,\r\n",
        "\r\n",
        "입력과 출력의 크기가 같다. 즉 일부 뉴런의 출력을 0으로 만들지만, \r\n",
        "\r\n",
        "전체 출력 배열의 크기를 바꾸지는 않는다.\r\n",
        "\r\n",
        "훈련이 끝난 뒤에 평가나 예측을 수행할 때는 드롭아웃을 적용하지 말아야한다.\r\n",
        "\r\n",
        "훈련된 모든 뉴런을 사용해야 올바른 예측을 수행할 수 있기 때문이다.\r\n",
        "\r\n",
        "텐서플로와 케라스는 모델을 평가와 예측에 사용할 때는 드롭아웃을 적용하지 않는다."
      ]
    },
    {
      "cell_type": "code",
      "metadata": {
        "colab": {
          "base_uri": "https://localhost:8080/",
          "height": 295
        },
        "id": "5CVSRPABuzf5",
        "outputId": "336db0bc-0cb3-433c-f1fb-b204207d5856"
      },
      "source": [
        "model.compile(optimizer='adam',loss='sparse_categorical_crossentropy',metrics='accuracy')\r\n",
        "history=model.fit(x_train,y_train,epochs=20,verbose=0,validation_data=(x_valid,y_valid))\r\n",
        "plt.plot(history.history['loss'])\r\n",
        "plt.plot(history.history['val_loss'])\r\n",
        "plt.xlabel('epoch')\r\n",
        "plt.ylabel('loss')\r\n",
        "plt.legend(['train_set','valid_set'])\r\n",
        "plt.title('Loss with Increasing Epoch Using Dropout')\r\n",
        "plt.show()"
      ],
      "execution_count": 16,
      "outputs": [
        {
          "output_type": "display_data",
          "data": {
            "image/png": "[encoded data removed]",
            "text/plain": [
              "<Figure size 432x288 with 1 Axes>"
            ]
          },
          "metadata": {
            "tags": [],
            "needs_background": "light"
          }
        }
      ]
    },
    {
      "cell_type": "markdown",
      "metadata": {
        "id": "p1jq9eXcwCPz"
      },
      "source": [
        "과대적합이 확실히 줄었다.\r\n",
        "\r\n",
        "10~13번째 에포크 정도에서 검증 손실의 감소가 멈추지만 크게 상승하지 않고 어느 정도 유지되고있다.\r\n",
        "\r\n",
        "이 모델은 20번의 에포크 동안 훈련한 모형이기때문에 과대적합이 어느정도 되어있으므로,\r\n",
        "\r\n",
        "에포크 횟수를 10~13 정도로해서 훈련을 다시 해야한다.\r\n"
      ]
    },
    {
      "cell_type": "markdown",
      "metadata": {
        "id": "n3rNkQ1KwM4Z"
      },
      "source": [
        "## 모델 저장과 복원"
      ]
    },
    {
      "cell_type": "markdown",
      "metadata": {
        "id": "q81MiI4swzwB"
      },
      "source": [
        "케라스 모델은 훈련된 모델의 파라미터를 저장하는 메소드를 제공한다.\r\n",
        "\r\n",
        "**save_weights()** 를 사용하는데, 기본적으로 텐서플로의 체크포인트 포맷으로 저장하지만,\r\n",
        " \r\n",
        "파일의 확장자가 '.h5'일 경우 HDF5 포맷으로 저장한다.\r\n",
        "\r\n",
        "이 저장된 모델 파라미터를 불러올 때는 **load_weights()**를 사용한다.\r\n",
        "\r\n",
        "**load_weights() 메소드를 사용하려면 save_weights()에 저장했던 모델과 정확히 같은 구조여야한다.**\r\n",
        "\r\n",
        "또, 모델 구조와 모델 파라미터를 함께 저장하는 **save()**를 제공한다.\r\n",
        "\r\n",
        "이 메소드는 텐서플로의 SavedModel 포맷으로 저장하지만, \r\n",
        "\r\n",
        "파일의 확장자가 '.h5'일 경우 HDF5 포맷으로 저장한다.\r\n",
        "\r\n"
      ]
    },
    {
      "cell_type": "code",
      "metadata": {
        "id": "D8AXErrQwS9c"
      },
      "source": [
        "model=model_fn(keras.layers.Dropout(0.3))\r\n",
        "model.compile(optimizer='adam',loss='sparse_categorical_crossentropy',metrics='accuracy')\r\n",
        "history=model.fit(x_train,y_train,epochs=13,verbose=0,validation_data=(x_valid,y_valid))"
      ],
      "execution_count": 17,
      "outputs": []
    },
    {
      "cell_type": "code",
      "metadata": {
        "id": "FmmsPR6PyKmA"
      },
      "source": [
        "model.save_weights('model-weights.h5')\r\n",
        "model.save('model-whole.h5')"
      ],
      "execution_count": 18,
      "outputs": []
    },
    {
      "cell_type": "code",
      "metadata": {
        "colab": {
          "base_uri": "https://localhost:8080/"
        },
        "id": "6nJAZSNGyWG8",
        "outputId": "fdd983e6-176a-40ce-9204-9940f4c2bed9"
      },
      "source": [
        "!ls -al *.h5"
      ],
      "execution_count": 19,
      "outputs": [
        {
          "output_type": "stream",
          "text": [
            "-rw-r--r-- 1 root root 332480 Feb  4 16:04 model-weights.h5\n",
            "-rw-r--r-- 1 root root 981776 Feb  4 16:04 model-whole.h5\n"
          ],
          "name": "stdout"
        }
      ]
    },
    {
      "cell_type": "code",
      "metadata": {
        "id": "mJuULCLKyYzJ"
      },
      "source": [
        "model=model_fn(keras.layers.Dropout(0.3))\r\n",
        "model.load_weights('model-weights.h5')"
      ],
      "execution_count": 20,
      "outputs": []
    },
    {
      "cell_type": "markdown",
      "metadata": {
        "id": "mhRvIEl4zIU5"
      },
      "source": [
        "이 모델의 검증 정확도를 확인해보자.\r\n",
        "\r\n",
        "케라스에서 예측을 수행하는 **predict()** 메소드는 \r\n",
        "\r\n",
        "사이킷런과 달리 샘플마다 10개의 클래스에 대한 확률을 반환한다.\r\n",
        "\r\n",
        "(이진 분류 문제일시 양성 클래스에 대한 확률 하나만 반환)\r\n",
        "\r\n",
        "패션MNIST data_set에서 덜어낸 검증 세트의 샘플 개수는 12000개이기 때문에\r\n",
        "\r\n",
        "predict() 메소드는 (12000,10) 크기의 배열을 반환한다.\r\n",
        "\r\n",
        "검증 정확도를 사용할 때 evaluate() 메소드를 사용하여 정확도를 출력할 수 있지만,\r\n",
        "\r\n",
        "evaluate() 메소드는 손실을 계산하기 위해 반드시 compile() 메소드를 실행해야 한다."
      ]
    },
    {
      "cell_type": "code",
      "metadata": {
        "colab": {
          "base_uri": "https://localhost:8080/"
        },
        "id": "X6LhOdYNyhCs",
        "outputId": "f3ec4337-b133-4469-e386-ad2849d54f45"
      },
      "source": [
        "import numpy as np\r\n",
        "pred=model.predict(x_valid)\r\n",
        "val_labels=np.argmax(pred,axis=1)\r\n",
        "print(np.mean(val_labels==y_valid))"
      ],
      "execution_count": 24,
      "outputs": [
        {
          "output_type": "stream",
          "text": [
            "0.8853333333333333\n"
          ],
          "name": "stdout"
        }
      ]
    },
    {
      "cell_type": "markdown",
      "metadata": {
        "id": "fDstX-zg2R1T"
      },
      "source": [
        "앞서 사용한 save() 메소드를 한 모델을 불러오려면 \r\n",
        "\r\n",
        "keras.models 아래에 있는 **load_model()**을 사용한다."
      ]
    },
    {
      "cell_type": "code",
      "metadata": {
        "colab": {
          "base_uri": "https://localhost:8080/"
        },
        "id": "nXVJ37Y51sHX",
        "outputId": "db14e45c-2cde-4087-eb66-d5668293d9c1"
      },
      "source": [
        "model=keras.models.load_model('model-whole.h5')\r\n",
        "model.evaluate(x_valid,y_valid)"
      ],
      "execution_count": 25,
      "outputs": [
        {
          "output_type": "stream",
          "text": [
            "375/375 [==============================] - 1s 1ms/step - loss: 0.3218 - accuracy: 0.8853\n"
          ],
          "name": "stdout"
        },
        {
          "output_type": "execute_result",
          "data": {
            "text/plain": [
              "[0.3218216300010681, 0.8853333592414856]"
            ]
          },
          "metadata": {
            "tags": []
          },
          "execution_count": 25
        }
      ]
    },
    {
      "cell_type": "markdown",
      "metadata": {
        "id": "clRT55O32qdS"
      },
      "source": [
        "방금 했던 과정을 보면 20번의 에포크 동안 모델을 훈련하여 검증 점수가 상승한 지점을 찾고 \r\n",
        "\r\n",
        "다시 에포크를 설정하여 훈련을 했다.\r\n",
        "\r\n",
        "케라스의 **콜백**을 사용하여 한 번에 처리하는 법을 배운다."
      ]
    },
    {
      "cell_type": "markdown",
      "metadata": {
        "id": "bfcwtMmUwTcg"
      },
      "source": [
        "## 콜백"
      ]
    },
    {
      "cell_type": "markdown",
      "metadata": {
        "id": "0184_ktr3FHh"
      },
      "source": [
        "**콜백(callback)**은 훈련 과정 중간에 어떤 작업을 수행할 수 있게 하는 객체로\r\n",
        "\r\n",
        "keras.callbacks 패키지 아래에 있는 클래스들이다.\r\n",
        "\r\n",
        "**fit() 메소드의 callbacks 매개변수에 리스트로 전달하여 사용한다.**\r\n",
        "\r\n",
        "**ModelCheckpoint** 콜백은 기본적으로 최상의 검증 점수를 만드는 모델을 저장한다.\r\n",
        "\r\n",
        "저장될 파일 이름을 'best-model.h5'로 지정하여 콜백을 적용해 본다.\r\n"
      ]
    },
    {
      "cell_type": "code",
      "metadata": {
        "colab": {
          "base_uri": "https://localhost:8080/"
        },
        "id": "LyMSo023wWMy",
        "outputId": "2ecbc18d-a8a7-4ad1-c77e-0a28f3a2aebc"
      },
      "source": [
        "model=model_fn(keras.layers.Dropout(0.3))\r\n",
        "model.compile(optimizer='adam',loss='sparse_categorical_crossentropy',metrics='accuracy')\r\n",
        "checkpoint_cb=keras.callbacks.ModelCheckpoint('best-model.h5')\r\n",
        "model.fit(x_train,y_train,epochs=20,verbose=0,validation_data=(x_valid,y_valid),callbacks=[checkpoint_cb])"
      ],
      "execution_count": 26,
      "outputs": [
        {
          "output_type": "execute_result",
          "data": {
            "text/plain": [
              "<tensorflow.python.keras.callbacks.History at 0x7f4997cf9f98>"
            ]
          },
          "metadata": {
            "tags": []
          },
          "execution_count": 26
        }
      ]
    },
    {
      "cell_type": "code",
      "metadata": {
        "colab": {
          "base_uri": "https://localhost:8080/"
        },
        "id": "knoOJFG75AbW",
        "outputId": "60a90dc2-d668-4f1c-e4bb-092baf566d9a"
      },
      "source": [
        "model=keras.models.load_model('best-model.h5')\r\n",
        "model.evaluate(x_valid,y_valid)"
      ],
      "execution_count": 29,
      "outputs": [
        {
          "output_type": "stream",
          "text": [
            "375/375 [==============================] - 1s 2ms/step - loss: 0.3388 - accuracy: 0.8835\n"
          ],
          "name": "stdout"
        },
        {
          "output_type": "execute_result",
          "data": {
            "text/plain": [
              "[0.3388219475746155, 0.8834999799728394]"
            ]
          },
          "metadata": {
            "tags": []
          },
          "execution_count": 29
        }
      ]
    },
    {
      "cell_type": "markdown",
      "metadata": {
        "id": "ozjHP4gJ5cQB"
      },
      "source": [
        "ModelCheckpoint 콜백이 가장 낮은 검증 손실의 모델을 자동으로 저장해 주었다.\r\n",
        "\r\n",
        "하지만 여전히 20번의 에포크 동안 훈련을 한다.\r\n",
        "\r\n",
        "검증 손실이 높아지기 시작하면 그 이후에는 과대적합이 더 키지기 때문에 훈련을 계속할 필요가없다.\r\n",
        "\r\n",
        "과대적합이 시작되기 전에 훈련을 미리 중지하는 것을 **조기종료**라고 부른다.\r\n",
        "\r\n",
        "케라스에는 조기 종료를 위한 **EarlyStopping** 콜백을 제공한다.\r\n",
        "\r\n",
        "이 콜백의 **patience** 매개변수는 검증 점수가 향상되지 않더라도 참을 에포크 횟수로 지정한다.\r\n",
        "\r\n",
        "**restore_best_weights**매개변수를 True로 지정하면 가장 낮은 검증손실을 낸 모델파라미터로 되돌린다.\r\n",
        "\r\n",
        "EarlyStopping 콜백을 ModelCheckpoint 콜백과 함께 사용하면 가장 낮은 검증 손실의 모델을 파일에 저장하고, 검증 손실이 상승할 때 훈련을 중지할 수 있다.\r\n",
        "\r\n",
        "훈련을 중지한 다음 현재 모델의 파라미터를 최상의 파라미터로 되돌린다.\r\n",
        "\r\n"
      ]
    },
    {
      "cell_type": "code",
      "metadata": {
        "id": "JXi0iBv-5Mjd"
      },
      "source": [
        "model=model_fn(keras.layers.Dropout(0.3))\r\n",
        "model.compile(optimizer='adam',loss='sparse_categorical_crossentropy',metrics='accuracy')\r\n",
        "checkpoint_cb=keras.callbacks.ModelCheckpoint('best-model.h5')\r\n",
        "early_stopping_cb=keras.callbacks.EarlyStopping(patience=2,restore_best_weights=True)\r\n",
        "history=model.fit(x_train,y_train,epochs=20,verbose=0,validation_data=(x_valid,y_valid),callbacks=[checkpoint_cb,early_stopping_cb])\r\n"
      ],
      "execution_count": 33,
      "outputs": []
    },
    {
      "cell_type": "markdown",
      "metadata": {
        "id": "h60MaIMG7oHc"
      },
      "source": [
        "훈련을 마치고 나면 몇 번째 epoch에서 훈련이 중지되었는지 early_stopping_cb 객체의\r\n",
        "\r\n",
        "**stopped_epoch**속성에서 확인할 수 있다."
      ]
    },
    {
      "cell_type": "code",
      "metadata": {
        "colab": {
          "base_uri": "https://localhost:8080/"
        },
        "id": "GlALrVAc6-sJ",
        "outputId": "8f592cc5-c23e-454e-f880-aa334bc2fb5a"
      },
      "source": [
        "print(early_stopping_cb.stopped_epoch)"
      ],
      "execution_count": 34,
      "outputs": [
        {
          "output_type": "stream",
          "text": [
            "7\n"
          ],
          "name": "stdout"
        }
      ]
    },
    {
      "cell_type": "markdown",
      "metadata": {
        "id": "66E3u-DF8E-e"
      },
      "source": [
        "에포크 횟수가 0부터 시작하기 때문에 7은 8번째 epoch에서 훈련이 중지되었다는 것이다.\r\n",
        "\r\n",
        "patience를 2로 지정했으므로, 최상의 모델은 6번째 epoch일 것이다."
      ]
    },
    {
      "cell_type": "code",
      "metadata": {
        "colab": {
          "base_uri": "https://localhost:8080/",
          "height": 283
        },
        "id": "qmHZ3Qnc7m7J",
        "outputId": "6b82d2a2-4b06-4ac1-a152-fe4f58765a67"
      },
      "source": [
        "plt.plot(history.history['loss'])\r\n",
        "plt.plot(history.history['val_loss'])\r\n",
        "plt.xlabel('epoch')\r\n",
        "plt.ylabel('loss')\r\n",
        "plt.legend(['train_set','valid_set'])\r\n",
        "plt.show()"
      ],
      "execution_count": 35,
      "outputs": [
        {
          "output_type": "display_data",
          "data": {
            "image/png": "[encoded data removed]",
            "text/plain": [
              "<Figure size 432x288 with 1 Axes>"
            ]
          },
          "metadata": {
            "tags": [],
            "needs_background": "light"
          }
        }
      ]
    },
    {
      "cell_type": "markdown",
      "metadata": {
        "id": "3_Rc5AM18_nZ"
      },
      "source": [
        "위의 그래프를 보면 **6번째(5가 제일 낮지만 0부터 시작)** 에포크에서 검증 손실이 제일 낮다.\r\n",
        "\r\n",
        "마지막으로 조기 종료로 얻은 모델을 사용해 valid_set에 대한 성능을 확인해보겠다."
      ]
    },
    {
      "cell_type": "code",
      "metadata": {
        "colab": {
          "base_uri": "https://localhost:8080/"
        },
        "id": "ZpoITC7U873P",
        "outputId": "3e7b0dd3-0427-4008-a449-abc697d1d76b"
      },
      "source": [
        "model.evaluate(x_valid,y_valid)"
      ],
      "execution_count": 36,
      "outputs": [
        {
          "output_type": "stream",
          "text": [
            "375/375 [==============================] - 1s 1ms/step - loss: 0.3340 - accuracy: 0.8807\n"
          ],
          "name": "stdout"
        },
        {
          "output_type": "execute_result",
          "data": {
            "text/plain": [
              "[0.33398130536079407, 0.8806666731834412]"
            ]
          },
          "metadata": {
            "tags": []
          },
          "execution_count": 36
        }
      ]
    }
  ]
}