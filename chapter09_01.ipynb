{
  "nbformat": 4,
  "nbformat_minor": 0,
  "metadata": {
    "colab": {
      "name": "chapter09_01.ipynb",
      "provenance": [],
      "collapsed_sections": [],
      "authorship_tag": "ABX9TyNXym0EViobGCOWQlXc1/x4",
      "include_colab_link": true
    },
    "kernelspec": {
      "name": "python3",
      "display_name": "Python 3"
    },
    "accelerator": "GPU"
  },
  "cells": [
    {
      "cell_type": "markdown",
      "metadata": {
        "id": "view-in-github",
        "colab_type": "text"
      },
      "source": [
        "<a href=\"https://colab.research.google.com/github/ttjh1234/Study_MLDL/blob/main/chapter09_01.ipynb\" target=\"_parent\"><img src=\"https://colab.research.google.com/assets/colab-badge.svg\" alt=\"Open In Colab\"/></a>"
      ]
    },
    {
      "cell_type": "markdown",
      "metadata": {
        "id": "dzbvIPIJ3kU_"
      },
      "source": [
        "# 순환 신경망으로 IMDB 리뷰 분류하기"
      ]
    },
    {
      "cell_type": "markdown",
      "metadata": {
        "id": "xOF_NMZg31-o"
      },
      "source": [
        "순차 데이터는 텍스트나 시계열 데이터와 같이 순서에 의미가 있는 데이터를 말한다.\r\n",
        "\r\n",
        "이러한 데이터들은 순서를 유지하며 신경망에 넣어주어야 한다. 따라서 순차 데이터를 다룰때는 이전에 입력한 데이터를 기억하는 기능이 필요하다.\r\n",
        "\r\n",
        "완전 연결 신경망이나 합성곱 신경망은 이러한 장치가 없다. 하나의 샘플을 사용하여 정방향 계산을 수행하고 나면 그 샘플은 버려지고 다음 샘플을 처리할 때 재사용되지 않는다.\r\n",
        "\r\n",
        "이렇게 입력 데이터의 흐름이 앞으로만 전달되는 신경망을 \r\n",
        "\r\n",
        "**피드포워드 신경망(feedforward neural network)** 이라고 한다.\r\n",
        "\r\n",
        "이에 비해 순차 데이터들은 이전에 처리했던 샘플들을 재사용해야하므로 신경망 층에 순환될 필요가 있다. 이런 신경망이 순환 신경망이다.\r\n",
        "\r\n",
        "**순환 신경망(recurrent neural network)** 은 일반적인 완전 연결 신경망과 거의 비슷한데, 이전 데이터의 처리 흐름을 순환하는 고리만 추가하면 된다.\r\n",
        "\r\n",
        "순환 신경망은 이전 샘플에 대한 기억을 가지고 있는데, 이렇게 샘플을 처리하는 한 단계를 **타임 스텝(timestep)** 이라고 한다.\r\n",
        "\r\n",
        "순환 신경망은 이전 타임스텝의 샘플을 기억하지만 타임스텝이 오래될수록 순환되는 정보는 희미해진다. \r\n",
        "\r\n",
        "순환 신경망에서는 특별히 층을 **셀(cell)**이라고 한다. 한 셀에는 여러 개의 뉴런이 있지만, 완전 연결 신경망과 달리 뉴런을 모두 표시하지 않고, 하나의 셀로 층을 표현한다.\r\n",
        "\r\n",
        "셀의 출력을 **은닉 상태(hidden state)**라고 부른다.\r\n",
        "\r\n",
        "일반적으로 순환층에서 활성화함수는 tanh함수를 사용한다.(sigmoid함수의 기울기 소실 문제 때문.)\r\n"
      ]
    },
    {
      "cell_type": "markdown",
      "metadata": {
        "id": "9wN90PqY3pRw"
      },
      "source": [
        "## IMDB 리뷰 데이터셋"
      ]
    },
    {
      "cell_type": "markdown",
      "metadata": {
        "id": "eWl50Gay9q4B"
      },
      "source": [
        "이번 장에서는 IMDB 리뷰 dataset을 사용한다.\r\n",
        "\r\n",
        "IMDB 리뷰 dataset은 유명한 인터넷 영화 데이터베이스인 imdb.com 에서 수집한 리뷰를 \r\n",
        "\r\n",
        "감상평에 따라 긍정과 부정으로 분류해 놓은 dataset이다.\r\n",
        "\r\n",
        "총 50000개의 샘플을 가지고 있고, train_set과 test_set가 각각 25000개씩 나뉘어져 있다.\r\n",
        "\r\n",
        "텍스트 데이터를 사용하는데 컴퓨터는 텍스트를 곧 바로 이해하고 사용할 수 없다.\r\n",
        "\r\n",
        "따라서 단어를 숫자 데이터를 바꾸는 작업을 해야한다.\r\n",
        "\r\n",
        "이렇게 숫자 데이터로 바뀌어서 분리된 단어를 **토큰** 이라고 한다. \r\n",
        "\r\n",
        "즉 하나의 샘플은 여러개의 토큰으로 이루어져 있고, 1개의 토큰이 하나의 타임스탬프가 된다. \r\n",
        "\r\n",
        "한글은 조사가 발달되어 있어 공백으로 나누는 것만으로 부족하다.\r\n",
        "\r\n",
        "일반적으로 한글은 형태소 분석을 통해 토큰을 만드는데, **KoNLPy**를 사용하여 분석을 진행할 수 있다.\r\n",
        "\r\n",
        "우선 IMDB dataset은 영어로 이루어져 있기 때문에, KoNLPy를 사용하지 않고 분석을 진행하겠다.\r\n",
        "\r\n",
        "첫 번째 방법으로는 원 핫 인코딩을 사용하여 진행해보겠다.\r\n",
        "\r\n",
        "\r\n"
      ]
    },
    {
      "cell_type": "code",
      "metadata": {
        "colab": {
          "base_uri": "https://localhost:8080/"
        },
        "id": "XKf9-xv-3gpm",
        "outputId": "ed66204c-7a81-43f6-8f86-beaf0385c723"
      },
      "source": [
        "from tensorflow.keras.datasets import imdb\r\n",
        "(x_train,y_train),(x_test,y_test)=imdb.load_data(num_words=500)"
      ],
      "execution_count": 1,
      "outputs": [
        {
          "output_type": "stream",
          "text": [
            "Downloading data from https://storage.googleapis.com/tensorflow/tf-keras-datasets/imdb.npz\n",
            "17465344/17464789 [==============================] - 0s 0us/step\n"
          ],
          "name": "stdout"
        },
        {
          "output_type": "stream",
          "text": [
            "<string>:6: VisibleDeprecationWarning: Creating an ndarray from ragged nested sequences (which is a list-or-tuple of lists-or-tuples-or ndarrays with different lengths or shapes) is deprecated. If you meant to do this, you must specify 'dtype=object' when creating the ndarray\n",
            "/usr/local/lib/python3.6/dist-packages/tensorflow/python/keras/datasets/imdb.py:159: VisibleDeprecationWarning: Creating an ndarray from ragged nested sequences (which is a list-or-tuple of lists-or-tuples-or ndarrays with different lengths or shapes) is deprecated. If you meant to do this, you must specify 'dtype=object' when creating the ndarray\n",
            "  x_train, y_train = np.array(xs[:idx]), np.array(labels[:idx])\n",
            "/usr/local/lib/python3.6/dist-packages/tensorflow/python/keras/datasets/imdb.py:160: VisibleDeprecationWarning: Creating an ndarray from ragged nested sequences (which is a list-or-tuple of lists-or-tuples-or ndarrays with different lengths or shapes) is deprecated. If you meant to do this, you must specify 'dtype=object' when creating the ndarray\n",
            "  x_test, y_test = np.array(xs[idx:]), np.array(labels[idx:])\n"
          ],
          "name": "stderr"
        }
      ]
    },
    {
      "cell_type": "markdown",
      "metadata": {
        "id": "_keHBJ_g_t8w"
      },
      "source": [
        "데이터는 케라스의 datasets 패키지 아래 imdb 모듈을 임포트해서 가져온다.\r\n",
        "\r\n",
        "매개변수인 num_words를 사용하여 전체 데이터셋에서 가장 자주 등장하는 단어 500개만 사용한다."
      ]
    },
    {
      "cell_type": "code",
      "metadata": {
        "colab": {
          "base_uri": "https://localhost:8080/"
        },
        "id": "Wd82WYd_9lNC",
        "outputId": "86f36857-d983-49e0-994f-eed24deefece"
      },
      "source": [
        "print(x_train.shape,x_test.shape)"
      ],
      "execution_count": 2,
      "outputs": [
        {
          "output_type": "stream",
          "text": [
            "(25000,) (25000,)\n"
          ],
          "name": "stdout"
        }
      ]
    },
    {
      "cell_type": "markdown",
      "metadata": {
        "id": "r-02Eebl-6_6"
      },
      "source": [
        "dataset을 가져와 train_set과 test_set의 모양을 보니, 1차원 배열로 이루어져 있다.\r\n",
        "\r\n",
        "리뷰 텍스트는 길이가 제각각이라 각 샘플은 파있너 리스트 객체로 이루어진 넘파이 배열이다.\r\n"
      ]
    },
    {
      "cell_type": "code",
      "metadata": {
        "colab": {
          "base_uri": "https://localhost:8080/"
        },
        "id": "15l2rAew9p5S",
        "outputId": "9d87bea0-947a-41a6-bee4-c13cb64c857d"
      },
      "source": [
        "print(len(x_train[0]))"
      ],
      "execution_count": 3,
      "outputs": [
        {
          "output_type": "stream",
          "text": [
            "218\n"
          ],
          "name": "stdout"
        }
      ]
    },
    {
      "cell_type": "code",
      "metadata": {
        "colab": {
          "base_uri": "https://localhost:8080/"
        },
        "id": "U4z1eRDy_R1Y",
        "outputId": "7ae64b25-eeea-4920-8953-911934373b22"
      },
      "source": [
        "print(len(x_train[1]))"
      ],
      "execution_count": 4,
      "outputs": [
        {
          "output_type": "stream",
          "text": [
            "189\n"
          ],
          "name": "stdout"
        }
      ]
    },
    {
      "cell_type": "code",
      "metadata": {
        "colab": {
          "base_uri": "https://localhost:8080/"
        },
        "id": "-nW6bxkF_TqE",
        "outputId": "82946e71-d24b-473a-9995-577bcf1014e7"
      },
      "source": [
        "print(x_train[0])"
      ],
      "execution_count": 5,
      "outputs": [
        {
          "output_type": "stream",
          "text": [
            "[1, 14, 22, 16, 43, 2, 2, 2, 2, 65, 458, 2, 66, 2, 4, 173, 36, 256, 5, 25, 100, 43, 2, 112, 50, 2, 2, 9, 35, 480, 284, 5, 150, 4, 172, 112, 167, 2, 336, 385, 39, 4, 172, 2, 2, 17, 2, 38, 13, 447, 4, 192, 50, 16, 6, 147, 2, 19, 14, 22, 4, 2, 2, 469, 4, 22, 71, 87, 12, 16, 43, 2, 38, 76, 15, 13, 2, 4, 22, 17, 2, 17, 12, 16, 2, 18, 2, 5, 62, 386, 12, 8, 316, 8, 106, 5, 4, 2, 2, 16, 480, 66, 2, 33, 4, 130, 12, 16, 38, 2, 5, 25, 124, 51, 36, 135, 48, 25, 2, 33, 6, 22, 12, 215, 28, 77, 52, 5, 14, 407, 16, 82, 2, 8, 4, 107, 117, 2, 15, 256, 4, 2, 7, 2, 5, 2, 36, 71, 43, 2, 476, 26, 400, 317, 46, 7, 4, 2, 2, 13, 104, 88, 4, 381, 15, 297, 98, 32, 2, 56, 26, 141, 6, 194, 2, 18, 4, 226, 22, 21, 134, 476, 26, 480, 5, 144, 30, 2, 18, 51, 36, 28, 224, 92, 25, 104, 4, 226, 65, 16, 38, 2, 88, 12, 16, 283, 5, 16, 2, 113, 103, 32, 15, 16, 2, 19, 178, 32]\n"
          ],
          "name": "stdout"
        }
      ]
    },
    {
      "cell_type": "markdown",
      "metadata": {
        "id": "7uZ2xPTz_Yb4"
      },
      "source": [
        "앞서 설명했듯이 tensorflow에 있는 IMDB 리뷰 data는 이미 정수로 변환되어 있다.\r\n",
        "\r\n",
        "num_words=500으로 지정했기 때문에 어휘 사전에는 500개의 단어만 들어가 있고, 어휘 사전에 없는 단어는 모두 2로 표현된다.\r\n",
        "\r\n",
        "어휘 사전은 train_set에서 고유한 단어를 뽑아 만든 목록을 일컫는다.\r\n",
        "\r\n",
        "test_set 안에 어휘 사전에 없는 단어가 있다면 2로 변환하여 신경망 모델에 투입된다.\r\n",
        "\r\n",
        "어휘 사전에는 0은 패딩, 1은 문장의 시작, 2는 어휘 사전에 없는 토큰을 나타낸다."
      ]
    },
    {
      "cell_type": "code",
      "metadata": {
        "colab": {
          "base_uri": "https://localhost:8080/"
        },
        "id": "mHlr7kMW_ViY",
        "outputId": "0de9f991-6ed5-43f9-9109-525d07e48665"
      },
      "source": [
        "print(y_train[:20])"
      ],
      "execution_count": 6,
      "outputs": [
        {
          "output_type": "stream",
          "text": [
            "[1 0 0 1 0 0 1 0 1 0 1 0 0 0 0 0 1 1 0 1]\n"
          ],
          "name": "stdout"
        }
      ]
    },
    {
      "cell_type": "markdown",
      "metadata": {
        "id": "Hvikwrx9ACNZ"
      },
      "source": [
        "이번에 문제는 각 리뷰가 긍정인지 부정인지를 다루는 이진 분류 문제이다.\r\n",
        "\r\n",
        "따라서 0은 부정 1은 긍정으로 결과가 나타난다.\r\n",
        "\r\n",
        "이제 train_set의 20%를 검증세트로 나눠본다."
      ]
    },
    {
      "cell_type": "code",
      "metadata": {
        "id": "ExBOIReZAAWn"
      },
      "source": [
        "from sklearn.model_selection import train_test_split\r\n",
        "x_train,x_valid,y_train,y_valid=train_test_split(x_train,y_train,test_size=0.2,random_state=42)"
      ],
      "execution_count": 7,
      "outputs": []
    },
    {
      "cell_type": "code",
      "metadata": {
        "id": "buEEJGnvAfPi"
      },
      "source": [
        "import numpy as np\r\n",
        "lengths=np.array([len(x) for x in x_train])"
      ],
      "execution_count": 8,
      "outputs": []
    },
    {
      "cell_type": "code",
      "metadata": {
        "colab": {
          "base_uri": "https://localhost:8080/"
        },
        "id": "k6Tae6LBAm6Y",
        "outputId": "36b1abba-1e8a-49e5-cf89-61bcbd294f97"
      },
      "source": [
        "print(np.mean(lengths),np.median(lengths))"
      ],
      "execution_count": 10,
      "outputs": [
        {
          "output_type": "stream",
          "text": [
            "239.00925 178.0\n"
          ],
          "name": "stdout"
        }
      ]
    },
    {
      "cell_type": "code",
      "metadata": {
        "colab": {
          "base_uri": "https://localhost:8080/",
          "height": 279
        },
        "id": "NLWp2HAKAslu",
        "outputId": "6c4fd752-e39e-4afe-e905-0146405a7891"
      },
      "source": [
        "import matplotlib.pyplot as plt\r\n",
        "plt.hist(lengths)\r\n",
        "plt.xlabel('length')\r\n",
        "plt.ylabel('frequency')\r\n",
        "plt.show()"
      ],
      "execution_count": 11,
      "outputs": [
        {
          "output_type": "display_data",
          "data": {
            "image/png": "[encoded data removed]",
            "text/plain": [
              "<Figure size 432x288 with 1 Axes>"
            ]
          },
          "metadata": {
            "tags": [],
            "needs_background": "light"
          }
        }
      ]
    },
    {
      "cell_type": "markdown",
      "metadata": {
        "id": "N5M9UbdBA9eb"
      },
      "source": [
        "valid_set을 나누고, train_set에 있는 리뷰들의 길이의 평균, 중간값을 구하고, 길이에 대한 히스토그램을 그려보았다.\r\n",
        "\r\n",
        "평균이 중간값보다 높은 이유는 길이가 큰 리뷰들이 있었기 때문에, 중간값보다 더 컸다.\r\n",
        "\r\n",
        "리뷰는 대부분 짧아서 중간값보다 짧은 100개의 단어만 사용하겠다.\r\n",
        "\r\n",
        "100보다 작은 리뷰들은 분석을 길이를 맞추기 위해 패딩을 진행하여야 하는데, 패딩은 0으로 한다.\r\n",
        "\r\n",
        "물론 수동으로 모든 데이터들을 자르고 0으로 추가할 수 있지만, keras에서는 유용한 함수를 제공한다.\r\n",
        "\r\n",
        "**pad_sequences()**라는 함수인데, 패딩할 배열과 원하는 길이를 지정해주는 **maxlen**이라는 매개변수를 사용한다."
      ]
    },
    {
      "cell_type": "code",
      "metadata": {
        "id": "YOgQnePqA7Ds"
      },
      "source": [
        "from tensorflow.keras.preprocessing.sequence import pad_sequences\r\n",
        "x_train_seq=pad_sequences(x_train,maxlen=100)"
      ],
      "execution_count": 12,
      "outputs": []
    },
    {
      "cell_type": "code",
      "metadata": {
        "colab": {
          "base_uri": "https://localhost:8080/"
        },
        "id": "fAMnDcwqCKkE",
        "outputId": "80d0a960-b732-4658-fc3c-0e23f1dd1e13"
      },
      "source": [
        "print(x_train_seq.shape)"
      ],
      "execution_count": 13,
      "outputs": [
        {
          "output_type": "stream",
          "text": [
            "(20000, 100)\n"
          ],
          "name": "stdout"
        }
      ]
    },
    {
      "cell_type": "code",
      "metadata": {
        "colab": {
          "base_uri": "https://localhost:8080/"
        },
        "id": "bCCQ6O_NCN3m",
        "outputId": "18cce815-8625-4ba6-9f2c-57d41cda1f79"
      },
      "source": [
        "print(x_train_seq[0])"
      ],
      "execution_count": 14,
      "outputs": [
        {
          "output_type": "stream",
          "text": [
            "[ 10   4  20   9   2 364 352   5  45   6   2   2  33 269   8   2 142   2\n",
            "   5   2  17  73  17 204   5   2  19  55   2   2  92  66 104  14  20  93\n",
            "  76   2 151  33   4  58  12 188   2 151  12 215  69 224 142  73 237   6\n",
            "   2   7   2   2 188   2 103  14  31  10  10 451   7   2   5   2  80  91\n",
            "   2  30   2  34  14  20 151  50  26 131  49   2  84  46  50  37  80  79\n",
            "   6   2  46   7  14  20  10  10 470 158]\n"
          ],
          "name": "stdout"
        }
      ]
    },
    {
      "cell_type": "markdown",
      "metadata": {
        "id": "riLXcNpjCZAh"
      },
      "source": [
        "x_train의 첫 번째 샘플을 확인해보았는데, 보통 패딩을 하게되면 0으로 채워지게된다.\r\n",
        "\r\n",
        "이 경우 앞과 뒤에 0이 없는 것을 보아 100자 보다 길었을 것이다.\r\n",
        "\r\n",
        "앞과 뒤 중 어느 부분이 잘렸는지 확인해본다."
      ]
    },
    {
      "cell_type": "code",
      "metadata": {
        "colab": {
          "base_uri": "https://localhost:8080/"
        },
        "id": "OwDDnFB9CS4E",
        "outputId": "a7e6471c-2dfb-4858-c259-b9a4aaf4980d"
      },
      "source": [
        "print(x_train_seq[0][-10:])"
      ],
      "execution_count": 15,
      "outputs": [
        {
          "output_type": "stream",
          "text": [
            "[  6   2  46   7  14  20  10  10 470 158]\n"
          ],
          "name": "stdout"
        }
      ]
    },
    {
      "cell_type": "markdown",
      "metadata": {
        "id": "ldPB5jALCtUi"
      },
      "source": [
        "뒤를 확인한 결과 정확하게 동일했다. 이는 즉 앞에가 잘렸다는 것을 알 수 있다.\r\n",
        "\r\n",
        "pad_sequences() 함수는 기본적으로 maxlen보다 긴 시퀀스의 앞부분을 자른다.\r\n",
        "\r\n",
        "이렇게 하는 이유는 일반적으로 뒷부분의 정보가 유용하다고 생각하기 때문이다.\r\n",
        "\r\n",
        "만약 시퀀스의 뒷부분을 자르고 싶으면, truncating 매개변수의 값을 기본값 'pre'가 아닌 'post'로 지정하면 된다."
      ]
    },
    {
      "cell_type": "code",
      "metadata": {
        "colab": {
          "base_uri": "https://localhost:8080/"
        },
        "id": "5bmzlhHOCXkD",
        "outputId": "501da8f7-b9d8-44a2-e923-9fb2260535bd"
      },
      "source": [
        "print(x_train_seq[5])"
      ],
      "execution_count": 16,
      "outputs": [
        {
          "output_type": "stream",
          "text": [
            "[  0   0   0   0   1   2 195  19  49   2   2 190   4   2 352   2 183  10\n",
            "  10  13  82  79   4   2  36  71 269   8   2  25  19  49   7   4   2   2\n",
            "   2   2   2  10  10  48  25  40   2  11   2   2  40   2   2   5   4   2\n",
            "   2  95  14 238  56 129   2  10  10  21   2  94 364 352   2   2  11 190\n",
            "  24 484   2   7  94 205 405  10  10  87   2  34  49   2   7   2   2   2\n",
            "   2   2 290   2  46  48  64  18   4   2]\n"
          ],
          "name": "stdout"
        }
      ]
    },
    {
      "cell_type": "markdown",
      "metadata": {
        "id": "TGxHg8cSDRGH"
      },
      "source": [
        "여섯번 째 데이터는 앞에 0이 패딩 된것으로 보아 본 리뷰의 길이가 100자보다 작았던 것을 알 수 있다.\r\n",
        "\r\n",
        "이제 분석에 앞서 valid_set도 같은 방식으로 100자로 줄이겠다."
      ]
    },
    {
      "cell_type": "code",
      "metadata": {
        "id": "nAAxiVcoDKaW"
      },
      "source": [
        "x_valid_seq=pad_sequences(x_valid,maxlen=100)"
      ],
      "execution_count": 17,
      "outputs": []
    },
    {
      "cell_type": "markdown",
      "metadata": {
        "id": "jUFsX7Hk3sAk"
      },
      "source": [
        "## 순환 신경망 만들기"
      ]
    },
    {
      "cell_type": "markdown",
      "metadata": {
        "id": "QqbDHYslD5c3"
      },
      "source": [
        "keras는 여러 종류의 순환층 클래스를 제공하는데, 가장 간단한 것이 SimpleRNN 클래스이다."
      ]
    },
    {
      "cell_type": "code",
      "metadata": {
        "id": "SL3VlBpu3vCg"
      },
      "source": [
        "from tensorflow import keras\r\n",
        "model=keras.Sequential()\r\n",
        "model.add(keras.layers.SimpleRNN(8,input_shape=(100,500)))\r\n",
        "model.add(keras.layers.Dense(1,activation='sigmoid'))"
      ],
      "execution_count": 18,
      "outputs": []
    },
    {
      "cell_type": "markdown",
      "metadata": {
        "id": "_5aOgFHdEScU"
      },
      "source": [
        "SimpleRNN의 첫 번째 매개변수는 뉴런의 개수로 input_shape는 (100,500)으로 지정했다.\r\n",
        "\r\n",
        "첫 번째 차원이 100인 것은 앞에서 샘플의 길이를 100으로 지정했기 때문이다.\r\n",
        "\r\n",
        "두 번째 차원은 앞으로 진행할 것이지만, 원 핫 인코딩을 하여 어휘 사전의 수 만큼 500개로 나누어서 진행할 것이기 때문에 500으로 지정했다.\r\n",
        "\r\n",
        "순환층도 활성화 함수가 있는데 기본값이 tanh 함수를 사용한다.\r\n",
        "\r\n",
        "이전에서 만들었던 텍스트의 토큰화를 보면, 큰 정수가 활성화함수를 만나 큰 값으로 변환되기 때문에, 잘못된 결과를 초래할 수 있다.\r\n",
        "\r\n",
        "따라서 값의 크기를 줄이기 위해서, 원 핫 인코딩을 사용하여 변환해준다.\r\n",
        "\r\n",
        "keras에서는 원 핫 인코딩을 위한 유틸리티를 제공한다.\r\n",
        "\r\n",
        "**keras.utils** 패키지 아래에 있는 **to_categorical()** 함수를 사용한다."
      ]
    },
    {
      "cell_type": "code",
      "metadata": {
        "id": "07kKbqxrEQVF"
      },
      "source": [
        "x_train_oh=keras.utils.to_categorical(x_train_seq)"
      ],
      "execution_count": 19,
      "outputs": []
    },
    {
      "cell_type": "code",
      "metadata": {
        "colab": {
          "base_uri": "https://localhost:8080/"
        },
        "id": "NEqT4xVrFda9",
        "outputId": "851b7e03-5781-41e5-fc56-ce238ecba332"
      },
      "source": [
        "print(x_train_oh.shape)"
      ],
      "execution_count": 20,
      "outputs": [
        {
          "output_type": "stream",
          "text": [
            "(20000, 100, 500)\n"
          ],
          "name": "stdout"
        }
      ]
    },
    {
      "cell_type": "markdown",
      "metadata": {
        "id": "_76sUvsgFkQO"
      },
      "source": [
        "원래 x_train_seq에서 들어있는 정수 하나하나 값마다 모두 500차원의 배열로 변경되었기 때문에, (20000,100) 크기가 (20000,100,500)이 되었다.\r\n",
        "\r\n",
        "이제 원 핫 인코딩이 잘되었나 확인해보겠다."
      ]
    },
    {
      "cell_type": "code",
      "metadata": {
        "colab": {
          "base_uri": "https://localhost:8080/"
        },
        "id": "uxUOI5DwFgcp",
        "outputId": "e3eb0b20-e6c4-49e9-8e10-f34936d4758d"
      },
      "source": [
        "print(x_train_oh[0][0][:12])"
      ],
      "execution_count": 21,
      "outputs": [
        {
          "output_type": "stream",
          "text": [
            "[0. 0. 0. 0. 0. 0. 0. 0. 0. 0. 1. 0.]\n"
          ],
          "name": "stdout"
        }
      ]
    },
    {
      "cell_type": "code",
      "metadata": {
        "colab": {
          "base_uri": "https://localhost:8080/"
        },
        "id": "vPJ5jYiWGDaC",
        "outputId": "62486487-828c-4ea4-91c3-9b223c137e6e"
      },
      "source": [
        "print(np.sum(x_train_oh[0][0]))"
      ],
      "execution_count": 22,
      "outputs": [
        {
          "output_type": "stream",
          "text": [
            "1.0\n"
          ],
          "name": "stdout"
        }
      ]
    },
    {
      "cell_type": "markdown",
      "metadata": {
        "id": "3RJ3hmeNGIrg"
      },
      "source": [
        "이제 똑같이 valid_set도 원 핫 인코딩을 진행해준다."
      ]
    },
    {
      "cell_type": "code",
      "metadata": {
        "id": "--q-UnaEGH9g"
      },
      "source": [
        "x_valid_oh=keras.utils.to_categorical(x_valid_seq)"
      ],
      "execution_count": 23,
      "outputs": []
    },
    {
      "cell_type": "code",
      "metadata": {
        "colab": {
          "base_uri": "https://localhost:8080/"
        },
        "id": "Ru0uUnGHGW_9",
        "outputId": "cdd5b13c-ca46-4c47-bc1e-3768cb2581ff"
      },
      "source": [
        "model.summary()"
      ],
      "execution_count": 24,
      "outputs": [
        {
          "output_type": "stream",
          "text": [
            "Model: \"sequential\"\n",
            "_________________________________________________________________\n",
            "Layer (type)                 Output Shape              Param #   \n",
            "=================================================================\n",
            "simple_rnn (SimpleRNN)       (None, 8)                 4072      \n",
            "_________________________________________________________________\n",
            "dense (Dense)                (None, 1)                 9         \n",
            "=================================================================\n",
            "Total params: 4,081\n",
            "Trainable params: 4,081\n",
            "Non-trainable params: 0\n",
            "_________________________________________________________________\n"
          ],
          "name": "stdout"
        }
      ]
    },
    {
      "cell_type": "markdown",
      "metadata": {
        "id": "qmR_5kEWGb4F"
      },
      "source": [
        "SimpleRNN에 전달한 샘플의 크기는 (100,500) 이지만 이 순환층은 마지막 타임스텝의 은닉 상태만 출력한다. 이 때문에 출력 크기가 뉴런의 수와 동일하다.\r\n",
        "\r\n",
        "모델 파라미터를 계산해보면, 500개의 원핫 인코딩 배열이 순환층의 뉴런 8개와 완전 연결되기 때문에, \r\n",
        "총 4000개의 파라미터가 나오고, 순환층의 은닉 상태는 다시 다음 타임스텝에 사용되고, 이 은닉 상태도 순환층의 뉴런들과 완전 연결되기 때문에, 64개의 가중치가 필요하고, 뉴런마다 한 개씩 절편을 가지고 있어 총 4072개가 된다.\r\n"
      ]
    },
    {
      "cell_type": "markdown",
      "metadata": {
        "id": "1wZo_YDA3viK"
      },
      "source": [
        "## 순환 신경망 훈련하기"
      ]
    },
    {
      "cell_type": "markdown",
      "metadata": {
        "id": "8rH9A2prHRVq"
      },
      "source": [
        "순환 신경망의 훈련도 이전에 배웠었던 신경망들과 다르지 않다.\r\n",
        "\r\n",
        "여기서는 RMSprop의 학습률을 0.0001로 지정하고 에포크를 100으로 배치 크기는 64개로 설정해서 진행하겠다."
      ]
    },
    {
      "cell_type": "code",
      "metadata": {
        "colab": {
          "base_uri": "https://localhost:8080/"
        },
        "id": "bNDgER003xmF",
        "outputId": "882d571e-dda8-493a-d9fe-0aa5649269c5"
      },
      "source": [
        "rmsprop=keras.optimizers.RMSprop(learning_rate=1e-4)\r\n",
        "model.compile(optimizer=rmsprop,loss='binary_crossentropy',metrics='accuracy')\r\n",
        "checkpoint_cb=keras.callbacks.ModelCheckpoint('best-simplernn-model.h5')\r\n",
        "early_stopping_cb=keras.callbacks.EarlyStopping(patience=3,restore_best_weights=True)\r\n",
        "histroy=model.fit(x_train_oh,y_train,epochs=100,batch_size=64,validation_data=(x_valid_oh,y_valid),callbacks=[checkpoint_cb,early_stopping_cb])"
      ],
      "execution_count": 25,
      "outputs": [
        {
          "output_type": "stream",
          "text": [
            "Epoch 1/100\n",
            "313/313 [==============================] - 23s 67ms/step - loss: 0.7008 - accuracy: 0.5047 - val_loss: 0.6980 - val_accuracy: 0.4982\n",
            "Epoch 2/100\n",
            "313/313 [==============================] - 21s 66ms/step - loss: 0.6941 - accuracy: 0.5219 - val_loss: 0.6897 - val_accuracy: 0.5302\n",
            "Epoch 3/100\n",
            "313/313 [==============================] - 21s 67ms/step - loss: 0.6840 - accuracy: 0.5533 - val_loss: 0.6798 - val_accuracy: 0.5704\n",
            "Epoch 4/100\n",
            "313/313 [==============================] - 21s 67ms/step - loss: 0.6706 - accuracy: 0.5959 - val_loss: 0.6643 - val_accuracy: 0.6098\n",
            "Epoch 5/100\n",
            "313/313 [==============================] - 21s 67ms/step - loss: 0.6556 - accuracy: 0.6317 - val_loss: 0.6469 - val_accuracy: 0.6428\n",
            "Epoch 6/100\n",
            "313/313 [==============================] - 21s 67ms/step - loss: 0.6377 - accuracy: 0.6619 - val_loss: 0.6283 - val_accuracy: 0.6640\n",
            "Epoch 7/100\n",
            "313/313 [==============================] - 21s 66ms/step - loss: 0.6190 - accuracy: 0.6803 - val_loss: 0.6129 - val_accuracy: 0.6832\n",
            "Epoch 8/100\n",
            "313/313 [==============================] - 21s 67ms/step - loss: 0.5957 - accuracy: 0.7060 - val_loss: 0.5909 - val_accuracy: 0.7104\n",
            "Epoch 9/100\n",
            "313/313 [==============================] - 21s 67ms/step - loss: 0.5777 - accuracy: 0.7234 - val_loss: 0.5770 - val_accuracy: 0.7174\n",
            "Epoch 10/100\n",
            "313/313 [==============================] - 21s 66ms/step - loss: 0.5560 - accuracy: 0.7402 - val_loss: 0.5625 - val_accuracy: 0.7284\n",
            "Epoch 11/100\n",
            "313/313 [==============================] - 21s 67ms/step - loss: 0.5479 - accuracy: 0.7488 - val_loss: 0.5461 - val_accuracy: 0.7468\n",
            "Epoch 12/100\n",
            "313/313 [==============================] - 21s 67ms/step - loss: 0.5357 - accuracy: 0.7555 - val_loss: 0.5367 - val_accuracy: 0.7518\n",
            "Epoch 13/100\n",
            "313/313 [==============================] - 21s 67ms/step - loss: 0.5278 - accuracy: 0.7575 - val_loss: 0.5263 - val_accuracy: 0.7586\n",
            "Epoch 14/100\n",
            "313/313 [==============================] - 21s 66ms/step - loss: 0.5117 - accuracy: 0.7704 - val_loss: 0.5185 - val_accuracy: 0.7628\n",
            "Epoch 15/100\n",
            "313/313 [==============================] - 22s 69ms/step - loss: 0.5101 - accuracy: 0.7669 - val_loss: 0.5168 - val_accuracy: 0.7570\n",
            "Epoch 16/100\n",
            "313/313 [==============================] - 21s 68ms/step - loss: 0.5005 - accuracy: 0.7738 - val_loss: 0.5138 - val_accuracy: 0.7590\n",
            "Epoch 17/100\n",
            "313/313 [==============================] - 21s 68ms/step - loss: 0.4961 - accuracy: 0.7741 - val_loss: 0.5048 - val_accuracy: 0.7664\n",
            "Epoch 18/100\n",
            "313/313 [==============================] - 22s 69ms/step - loss: 0.4831 - accuracy: 0.7872 - val_loss: 0.5011 - val_accuracy: 0.7672\n",
            "Epoch 19/100\n",
            "313/313 [==============================] - 22s 70ms/step - loss: 0.4785 - accuracy: 0.7854 - val_loss: 0.4958 - val_accuracy: 0.7714\n",
            "Epoch 20/100\n",
            "313/313 [==============================] - 21s 68ms/step - loss: 0.4792 - accuracy: 0.7823 - val_loss: 0.4914 - val_accuracy: 0.7740\n",
            "Epoch 21/100\n",
            "313/313 [==============================] - 21s 68ms/step - loss: 0.4711 - accuracy: 0.7908 - val_loss: 0.4889 - val_accuracy: 0.7740\n",
            "Epoch 22/100\n",
            "313/313 [==============================] - 21s 69ms/step - loss: 0.4643 - accuracy: 0.7920 - val_loss: 0.4895 - val_accuracy: 0.7730\n",
            "Epoch 23/100\n",
            "313/313 [==============================] - 22s 69ms/step - loss: 0.4678 - accuracy: 0.7901 - val_loss: 0.4836 - val_accuracy: 0.7770\n",
            "Epoch 24/100\n",
            "313/313 [==============================] - 22s 69ms/step - loss: 0.4593 - accuracy: 0.7975 - val_loss: 0.4834 - val_accuracy: 0.7784\n",
            "Epoch 25/100\n",
            "313/313 [==============================] - 21s 68ms/step - loss: 0.4527 - accuracy: 0.8023 - val_loss: 0.4809 - val_accuracy: 0.7760\n",
            "Epoch 26/100\n",
            "313/313 [==============================] - 21s 68ms/step - loss: 0.4511 - accuracy: 0.8009 - val_loss: 0.4791 - val_accuracy: 0.7788\n",
            "Epoch 27/100\n",
            "313/313 [==============================] - 22s 69ms/step - loss: 0.4513 - accuracy: 0.8015 - val_loss: 0.4781 - val_accuracy: 0.7800\n",
            "Epoch 28/100\n",
            "313/313 [==============================] - 21s 68ms/step - loss: 0.4510 - accuracy: 0.8023 - val_loss: 0.4772 - val_accuracy: 0.7800\n",
            "Epoch 29/100\n",
            "313/313 [==============================] - 21s 68ms/step - loss: 0.4439 - accuracy: 0.8065 - val_loss: 0.4759 - val_accuracy: 0.7794\n",
            "Epoch 30/100\n",
            "313/313 [==============================] - 21s 69ms/step - loss: 0.4443 - accuracy: 0.8069 - val_loss: 0.4746 - val_accuracy: 0.7806\n",
            "Epoch 31/100\n",
            "313/313 [==============================] - 22s 69ms/step - loss: 0.4421 - accuracy: 0.8089 - val_loss: 0.4749 - val_accuracy: 0.7780\n",
            "Epoch 32/100\n",
            "313/313 [==============================] - 21s 68ms/step - loss: 0.4432 - accuracy: 0.8070 - val_loss: 0.4752 - val_accuracy: 0.7778\n",
            "Epoch 33/100\n",
            "313/313 [==============================] - 21s 68ms/step - loss: 0.4361 - accuracy: 0.8111 - val_loss: 0.4722 - val_accuracy: 0.7812\n",
            "Epoch 34/100\n",
            "313/313 [==============================] - 21s 67ms/step - loss: 0.4361 - accuracy: 0.8117 - val_loss: 0.4724 - val_accuracy: 0.7814\n",
            "Epoch 35/100\n",
            "313/313 [==============================] - 21s 67ms/step - loss: 0.4354 - accuracy: 0.8112 - val_loss: 0.4747 - val_accuracy: 0.7808\n",
            "Epoch 36/100\n",
            "313/313 [==============================] - 21s 66ms/step - loss: 0.4337 - accuracy: 0.8135 - val_loss: 0.4719 - val_accuracy: 0.7810\n",
            "Epoch 37/100\n",
            "313/313 [==============================] - 21s 68ms/step - loss: 0.4320 - accuracy: 0.8129 - val_loss: 0.4716 - val_accuracy: 0.7780\n",
            "Epoch 38/100\n",
            "313/313 [==============================] - 21s 68ms/step - loss: 0.4345 - accuracy: 0.8135 - val_loss: 0.4789 - val_accuracy: 0.7794\n",
            "Epoch 39/100\n",
            "313/313 [==============================] - 21s 68ms/step - loss: 0.4294 - accuracy: 0.8134 - val_loss: 0.4685 - val_accuracy: 0.7826\n",
            "Epoch 40/100\n",
            "313/313 [==============================] - 21s 67ms/step - loss: 0.4273 - accuracy: 0.8149 - val_loss: 0.4686 - val_accuracy: 0.7792\n",
            "Epoch 41/100\n",
            "313/313 [==============================] - 22s 69ms/step - loss: 0.4260 - accuracy: 0.8162 - val_loss: 0.4676 - val_accuracy: 0.7826\n",
            "Epoch 42/100\n",
            "313/313 [==============================] - 22s 69ms/step - loss: 0.4210 - accuracy: 0.8216 - val_loss: 0.4675 - val_accuracy: 0.7810\n",
            "Epoch 43/100\n",
            "313/313 [==============================] - 21s 68ms/step - loss: 0.4221 - accuracy: 0.8171 - val_loss: 0.4663 - val_accuracy: 0.7824\n",
            "Epoch 44/100\n",
            "313/313 [==============================] - 21s 68ms/step - loss: 0.4223 - accuracy: 0.8198 - val_loss: 0.4667 - val_accuracy: 0.7832\n",
            "Epoch 45/100\n",
            "313/313 [==============================] - 21s 68ms/step - loss: 0.4149 - accuracy: 0.8186 - val_loss: 0.4710 - val_accuracy: 0.7810\n",
            "Epoch 46/100\n",
            "313/313 [==============================] - 22s 69ms/step - loss: 0.4242 - accuracy: 0.8148 - val_loss: 0.4679 - val_accuracy: 0.7826\n"
          ],
          "name": "stdout"
        }
      ]
    },
    {
      "cell_type": "code",
      "metadata": {
        "colab": {
          "base_uri": "https://localhost:8080/",
          "height": 295
        },
        "id": "qAgCvlD6Ibm3",
        "outputId": "0bb06d77-b02a-47b4-850f-502860616a28"
      },
      "source": [
        "plt.plot(histroy.history['loss'])\r\n",
        "plt.plot(histroy.history['val_loss'])\r\n",
        "plt.xlabel('epoch')\r\n",
        "plt.ylabel('loss')\r\n",
        "plt.title('Valid Loss')\r\n",
        "plt.legend(['train_set','valid_set'])\r\n",
        "plt.show()"
      ],
      "execution_count": 28,
      "outputs": [
        {
          "output_type": "display_data",
          "data": {
            "image/png": "[encoded data removed]",
            "text/plain": [
              "<Figure size 432x288 with 1 Axes>"
            ]
          },
          "metadata": {
            "tags": [],
            "needs_background": "light"
          }
        }
      ]
    },
    {
      "cell_type": "markdown",
      "metadata": {
        "id": "Fh_RoDYCJDgC"
      },
      "source": [
        "훈련 손실은 꾸준히 감소하고 있지만, 검증 손실은 대략 20번째 에포크에서 감소가 더뎌지고있다.\r\n",
        "\r\n",
        "순환 신경망을 가지고 긍정과 부정을 분류해보았지만, 원 핫 인코딩으로 변환을 해서 데이터가 굉장히 커졌다.\r\n",
        "\r\n",
        "x_train_seq와 x_train_oh의 크기를 비교해보겠다."
      ]
    },
    {
      "cell_type": "code",
      "metadata": {
        "colab": {
          "base_uri": "https://localhost:8080/"
        },
        "id": "DvrA5M8AI9Ac",
        "outputId": "611853ee-64db-4cd9-b104-b39a1683d360"
      },
      "source": [
        "print(x_train_seq.nbytes,x_train_oh.nbytes)"
      ],
      "execution_count": 29,
      "outputs": [
        {
          "output_type": "stream",
          "text": [
            "8000000 4000000000\n"
          ],
          "name": "stdout"
        }
      ]
    },
    {
      "cell_type": "markdown",
      "metadata": {
        "id": "6auFERJ4Jegy"
      },
      "source": [
        "토큰 1개당 500개의 차원으로 늘려서 대략 500배가 커졌다.\r\n",
        "\r\n",
        "이를 해결하기 위해 **단어 임베딩** 방법을 사용하겠다."
      ]
    },
    {
      "cell_type": "markdown",
      "metadata": {
        "id": "P1FA9Z413x7s"
      },
      "source": [
        "## 단어 임베딩을 사용하기"
      ]
    },
    {
      "cell_type": "markdown",
      "metadata": {
        "id": "74c2PGtyJpmS"
      },
      "source": [
        "순환 신경망에서 텍스트를 처리할 때 즐겨 사용하는 방법은 **단어 임베딩(word embedding)**이다.\r\n",
        "\r\n",
        "단어 임베딩은 각 단어를 고정된 크기의 실수 벡터로 바꾸어 준다.\r\n",
        "\r\n",
        "이러한 단어 임베딩으로 만들어진 벡터는 원 핫 인코딩된 벡터보다 훨씬 의미 있는 값으로 채워져 있기 때문에 자연어 처리에서 더 좋은 성능을 내는 경우가 많다.\r\n",
        "\r\n",
        "단어 임베딩은 keras.layers 패키지 아래 Embedding 클래스로 제공한다.\r\n",
        "\r\n",
        "이 층을 추가하면 처음에는 모든 벡터들이 랜덤하게 초기화되지만, 훈련을 통해 데이터에서 좋은 단어 임베딩을 학습한다.\r\n"
      ]
    },
    {
      "cell_type": "code",
      "metadata": {
        "id": "QjeZ_6Dh30qK"
      },
      "source": [
        "model2=keras.Sequential()\r\n",
        "model2.add(keras.layers.Embedding(500,16,input_length=100))\r\n",
        "model2.add(keras.layers.SimpleRNN(8))\r\n",
        "model2.add(keras.layers.Dense(1,activation='sigmoid'))"
      ],
      "execution_count": 30,
      "outputs": []
    },
    {
      "cell_type": "markdown",
      "metadata": {
        "id": "gQCsrV_yKwvv"
      },
      "source": [
        "Embedding 클래스의 첫 번째 매개변수는 어휘 사전의 크기이다.\r\n",
        "\r\n",
        "두 번째 매개변수는 임베딩 벡터의 크기이다. \r\n",
        "\r\n",
        "세 번째 매개변수는 입력 시퀀스의 길이이다."
      ]
    },
    {
      "cell_type": "code",
      "metadata": {
        "colab": {
          "base_uri": "https://localhost:8080/"
        },
        "id": "tjn90Q0CKwZH",
        "outputId": "d46145e6-3234-4341-b76c-bb58ba559b6e"
      },
      "source": [
        "model2.summary()"
      ],
      "execution_count": 31,
      "outputs": [
        {
          "output_type": "stream",
          "text": [
            "Model: \"sequential_1\"\n",
            "_________________________________________________________________\n",
            "Layer (type)                 Output Shape              Param #   \n",
            "=================================================================\n",
            "embedding (Embedding)        (None, 100, 16)           8000      \n",
            "_________________________________________________________________\n",
            "simple_rnn_1 (SimpleRNN)     (None, 8)                 200       \n",
            "_________________________________________________________________\n",
            "dense_1 (Dense)              (None, 1)                 9         \n",
            "=================================================================\n",
            "Total params: 8,209\n",
            "Trainable params: 8,209\n",
            "Non-trainable params: 0\n",
            "_________________________________________________________________\n"
          ],
          "name": "stdout"
        }
      ]
    },
    {
      "cell_type": "markdown",
      "metadata": {
        "id": "PUMF2iPQLikc"
      },
      "source": [
        "출력 결과를 보면 (100,) 크기의 입력을 받아 (100,16) 크기의 출력을 만든다.\r\n",
        "\r\n",
        "Embedding 클래스는 500개의 각 토큰을 크기가 16인 벡터로 변경하기 때문에, 8000개의 모델 파라미터를 갖는다.\r\n",
        "그 다음 순환층에서는 16개의 출력을 가지고 8개의 뉴런과 곱하기 위해 필요한 가중치 128개를 가지고, 은닉 상태에 곱해지는 가중치 64개, 절편 8개 를 포함하여 200개의 모델 파라미터가 있다. Dense층에서는 9개가 존재한다."
      ]
    },
    {
      "cell_type": "code",
      "metadata": {
        "colab": {
          "base_uri": "https://localhost:8080/"
        },
        "id": "7DWns9kLK_UL",
        "outputId": "447cb00e-7d97-4fed-cad9-6cf4a0a686d7"
      },
      "source": [
        "rmsprop=keras.optimizers.RMSprop(learning_rate=1e-4)\r\n",
        "model2.compile(optimizer=rmsprop,loss='binary_crossentropy',metrics='accuracy')\r\n",
        "checkpoint_cb=keras.callbacks.ModelCheckpoint('best-embedding-model.h5')\r\n",
        "early_stopping_cb=keras.callbacks.EarlyStopping(patience=3,restore_best_weights=True)\r\n",
        "history=model2.fit(x_train_seq,y_train,epochs=100,batch_size=64,validation_data=(x_valid_seq,y_valid),callbacks=[checkpoint_cb,early_stopping_cb])"
      ],
      "execution_count": 33,
      "outputs": [
        {
          "output_type": "stream",
          "text": [
            "Epoch 1/100\n",
            "313/313 [==============================] - 20s 63ms/step - loss: 0.6917 - accuracy: 0.5230 - val_loss: 0.6666 - val_accuracy: 0.6384\n",
            "Epoch 2/100\n",
            "313/313 [==============================] - 20s 63ms/step - loss: 0.6583 - accuracy: 0.6589 - val_loss: 0.6399 - val_accuracy: 0.6990\n",
            "Epoch 3/100\n",
            "313/313 [==============================] - 19s 62ms/step - loss: 0.6329 - accuracy: 0.7068 - val_loss: 0.6192 - val_accuracy: 0.7090\n",
            "Epoch 4/100\n",
            "313/313 [==============================] - 19s 61ms/step - loss: 0.6074 - accuracy: 0.7296 - val_loss: 0.5935 - val_accuracy: 0.7436\n",
            "Epoch 5/100\n",
            "313/313 [==============================] - 20s 63ms/step - loss: 0.5817 - accuracy: 0.7522 - val_loss: 0.5707 - val_accuracy: 0.7490\n",
            "Epoch 6/100\n",
            "313/313 [==============================] - 19s 62ms/step - loss: 0.5544 - accuracy: 0.7644 - val_loss: 0.5477 - val_accuracy: 0.7644\n",
            "Epoch 7/100\n",
            "313/313 [==============================] - 20s 65ms/step - loss: 0.5312 - accuracy: 0.7774 - val_loss: 0.5320 - val_accuracy: 0.7598\n",
            "Epoch 8/100\n",
            "313/313 [==============================] - 19s 61ms/step - loss: 0.5089 - accuracy: 0.7833 - val_loss: 0.5111 - val_accuracy: 0.7764\n",
            "Epoch 9/100\n",
            "313/313 [==============================] - 19s 62ms/step - loss: 0.4961 - accuracy: 0.7836 - val_loss: 0.5034 - val_accuracy: 0.7726\n",
            "Epoch 10/100\n",
            "313/313 [==============================] - 19s 62ms/step - loss: 0.4783 - accuracy: 0.7975 - val_loss: 0.4894 - val_accuracy: 0.7794\n",
            "Epoch 11/100\n",
            "313/313 [==============================] - 20s 62ms/step - loss: 0.4655 - accuracy: 0.8011 - val_loss: 0.4936 - val_accuracy: 0.7690\n",
            "Epoch 12/100\n",
            "313/313 [==============================] - 19s 62ms/step - loss: 0.4570 - accuracy: 0.8044 - val_loss: 0.4798 - val_accuracy: 0.7804\n",
            "Epoch 13/100\n",
            "313/313 [==============================] - 19s 61ms/step - loss: 0.4531 - accuracy: 0.8039 - val_loss: 0.4713 - val_accuracy: 0.7832\n",
            "Epoch 14/100\n",
            "313/313 [==============================] - 19s 62ms/step - loss: 0.4483 - accuracy: 0.8083 - val_loss: 0.4678 - val_accuracy: 0.7864\n",
            "Epoch 15/100\n",
            "313/313 [==============================] - 19s 62ms/step - loss: 0.4447 - accuracy: 0.8052 - val_loss: 0.4663 - val_accuracy: 0.7860\n",
            "Epoch 16/100\n",
            "313/313 [==============================] - 19s 62ms/step - loss: 0.4411 - accuracy: 0.8068 - val_loss: 0.4627 - val_accuracy: 0.7876\n",
            "Epoch 17/100\n",
            "313/313 [==============================] - 19s 62ms/step - loss: 0.4352 - accuracy: 0.8125 - val_loss: 0.4624 - val_accuracy: 0.7854\n",
            "Epoch 18/100\n",
            "313/313 [==============================] - 19s 62ms/step - loss: 0.4315 - accuracy: 0.8124 - val_loss: 0.4594 - val_accuracy: 0.7890\n",
            "Epoch 19/100\n",
            "313/313 [==============================] - 20s 62ms/step - loss: 0.4322 - accuracy: 0.8087 - val_loss: 0.4591 - val_accuracy: 0.7952\n",
            "Epoch 20/100\n",
            "313/313 [==============================] - 19s 62ms/step - loss: 0.4278 - accuracy: 0.8103 - val_loss: 0.4544 - val_accuracy: 0.7922\n",
            "Epoch 21/100\n",
            "313/313 [==============================] - 20s 63ms/step - loss: 0.4231 - accuracy: 0.8143 - val_loss: 0.4540 - val_accuracy: 0.7948\n",
            "Epoch 22/100\n",
            "313/313 [==============================] - 19s 62ms/step - loss: 0.4165 - accuracy: 0.8193 - val_loss: 0.4537 - val_accuracy: 0.7930\n",
            "Epoch 23/100\n",
            "313/313 [==============================] - 20s 65ms/step - loss: 0.4171 - accuracy: 0.8187 - val_loss: 0.4511 - val_accuracy: 0.7946\n",
            "Epoch 24/100\n",
            "313/313 [==============================] - 19s 62ms/step - loss: 0.4188 - accuracy: 0.8160 - val_loss: 0.4590 - val_accuracy: 0.7872\n",
            "Epoch 25/100\n",
            "313/313 [==============================] - 19s 62ms/step - loss: 0.4132 - accuracy: 0.8176 - val_loss: 0.4493 - val_accuracy: 0.7924\n",
            "Epoch 26/100\n",
            "313/313 [==============================] - 19s 62ms/step - loss: 0.4124 - accuracy: 0.8186 - val_loss: 0.4495 - val_accuracy: 0.7954\n",
            "Epoch 27/100\n",
            "313/313 [==============================] - 19s 61ms/step - loss: 0.4067 - accuracy: 0.8224 - val_loss: 0.4550 - val_accuracy: 0.7922\n",
            "Epoch 28/100\n",
            "313/313 [==============================] - 19s 62ms/step - loss: 0.4103 - accuracy: 0.8207 - val_loss: 0.4476 - val_accuracy: 0.7946\n",
            "Epoch 29/100\n",
            "313/313 [==============================] - 19s 62ms/step - loss: 0.4015 - accuracy: 0.8237 - val_loss: 0.4477 - val_accuracy: 0.7964\n",
            "Epoch 30/100\n",
            "313/313 [==============================] - 19s 62ms/step - loss: 0.4055 - accuracy: 0.8230 - val_loss: 0.4485 - val_accuracy: 0.7948\n",
            "Epoch 31/100\n",
            "313/313 [==============================] - 20s 64ms/step - loss: 0.4078 - accuracy: 0.8202 - val_loss: 0.4465 - val_accuracy: 0.7934\n",
            "Epoch 32/100\n",
            "313/313 [==============================] - 20s 64ms/step - loss: 0.4051 - accuracy: 0.8210 - val_loss: 0.4576 - val_accuracy: 0.7860\n",
            "Epoch 33/100\n",
            "313/313 [==============================] - 20s 63ms/step - loss: 0.3998 - accuracy: 0.8239 - val_loss: 0.4516 - val_accuracy: 0.7930\n",
            "Epoch 34/100\n",
            "313/313 [==============================] - 20s 63ms/step - loss: 0.4011 - accuracy: 0.8195 - val_loss: 0.4468 - val_accuracy: 0.7912\n"
          ],
          "name": "stdout"
        }
      ]
    },
    {
      "cell_type": "markdown",
      "metadata": {
        "id": "5a7zgGqUP5dR"
      },
      "source": [
        "출력 결과를 보면 원 핫 인코딩을 사용한 모델과 비슷한 성능을 냈다.\r\n",
        "\r\n",
        "반면에 순환층의 가중치 개수도 작고, 훈련 세트의 크기도 훨씬 줄었다.\r\n"
      ]
    },
    {
      "cell_type": "code",
      "metadata": {
        "colab": {
          "base_uri": "https://localhost:8080/",
          "height": 295
        },
        "id": "pQWpT0jgLPkO",
        "outputId": "9e0d56ca-fc7d-44f0-ed8d-b0b5ca1c240e"
      },
      "source": [
        "plt.plot(history.history['loss'])\r\n",
        "plt.plot(history.history['val_loss'])\r\n",
        "plt.xlabel('epoch')\r\n",
        "plt.ylabel('loss')\r\n",
        "plt.legend(['train_set','test_set'])\r\n",
        "plt.title('Valid Loss')\r\n",
        "plt.show()"
      ],
      "execution_count": 34,
      "outputs": [
        {
          "output_type": "display_data",
          "data": {
            "image/png": "[encoded data removed]",
            "text/plain": [
              "<Figure size 432x288 with 1 Axes>"
            ]
          },
          "metadata": {
            "tags": [],
            "needs_background": "light"
          }
        }
      ]
    },
    {
      "cell_type": "markdown",
      "metadata": {
        "id": "2S4wrZgyQDTj"
      },
      "source": [
        "검증 손실이 더 감소되지 않아 훈련이 적절히 조기 종료가 되었다.\r\n",
        "\r\n",
        "이에 비해 훈련 손실은 계속 감소하는데, 아쉬움이 따른다.\r\n",
        "\r\n",
        "다음 방법으로 고급 순환층인 **LSTM**과 **GRU** 에대해 학습해보도록 하겠다."
      ]
    }
  ]
}