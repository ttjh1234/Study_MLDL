{
  "nbformat": 4,
  "nbformat_minor": 0,
  "metadata": {
    "colab": {
      "name": "chapter07_01.ipynb",
      "provenance": [],
      "collapsed_sections": [],
      "authorship_tag": "ABX9TyNnK70gAAboEKrBcTQO5Lsk",
      "include_colab_link": true
    },
    "kernelspec": {
      "name": "python3",
      "display_name": "Python 3"
    },
    "accelerator": "GPU"
  },
  "cells": [
    {
      "cell_type": "markdown",
      "metadata": {
        "id": "view-in-github",
        "colab_type": "text"
      },
      "source": [
        "<a href=\"https://colab.research.google.com/github/ttjh1234/Study_MLDL/blob/main/chapter07_01.ipynb\" target=\"_parent\"><img src=\"https://colab.research.google.com/assets/colab-badge.svg\" alt=\"Open In Colab\"/></a>"
      ]
    },
    {
      "cell_type": "markdown",
      "metadata": {
        "id": "5_c-7bzfUOKl"
      },
      "source": [
        "# 인공신경망"
      ]
    },
    {
      "cell_type": "markdown",
      "metadata": {
        "id": "uJEnwhmPUSUb"
      },
      "source": [
        "딥러닝과 인공 신경망 알고리즘을 이해하고 텐서플로를 사용해 \r\n",
        "\r\n",
        "간단한 인공 신경망 모델을 만들어보겠다.\r\n",
        "\r\n",
        "\r\n"
      ]
    },
    {
      "cell_type": "markdown",
      "metadata": {
        "id": "ucjt0WmVYw6p"
      },
      "source": [
        "## 패션 MNIST"
      ]
    },
    {
      "cell_type": "markdown",
      "metadata": {
        "id": "aMoqQ95tZL4i"
      },
      "source": [
        "이번 장에서 사용할 데이터는 패션 MNIST 데이터셋을 사용한다.\r\n",
        "\r\n",
        "데이터는 **텐서플로**를 사용하여 불러오겠다.\r\n"
      ]
    },
    {
      "cell_type": "code",
      "metadata": {
        "colab": {
          "base_uri": "https://localhost:8080/"
        },
        "id": "j3GlW-V_S4F4",
        "outputId": "ef3db9ef-1649-4593-9521-d55d06aa7b3f"
      },
      "source": [
        "from tensorflow import keras\r\n",
        "(x_train,y_train),(x_test,y_test)=keras.datasets.fashion_mnist.load_data()"
      ],
      "execution_count": null,
      "outputs": [
        {
          "output_type": "stream",
          "text": [
            "Downloading data from https://storage.googleapis.com/tensorflow/tf-keras-datasets/train-labels-idx1-ubyte.gz\n",
            "32768/29515 [=================================] - 0s 0us/step\n",
            "Downloading data from https://storage.googleapis.com/tensorflow/tf-keras-datasets/train-images-idx3-ubyte.gz\n",
            "26427392/26421880 [==============================] - 0s 0us/step\n",
            "Downloading data from https://storage.googleapis.com/tensorflow/tf-keras-datasets/t10k-labels-idx1-ubyte.gz\n",
            "8192/5148 [===============================================] - 0s 0us/step\n",
            "Downloading data from https://storage.googleapis.com/tensorflow/tf-keras-datasets/t10k-images-idx3-ubyte.gz\n",
            "4423680/4422102 [==============================] - 0s 0us/step\n"
          ],
          "name": "stdout"
        }
      ]
    },
    {
      "cell_type": "markdown",
      "metadata": {
        "id": "tvxwwB5YZ3VC"
      },
      "source": [
        "**keras.datasets.fashion_mnist** 모듈 아래 **load_data()** 함수는 train_set과 test_set을 나누어 반환한다.\r\n",
        "\r\n"
      ]
    },
    {
      "cell_type": "code",
      "metadata": {
        "colab": {
          "base_uri": "https://localhost:8080/"
        },
        "id": "PCSM3KWiZyr6",
        "outputId": "ded47661-9f85-4bdc-f85a-ba1cbb70e839"
      },
      "source": [
        "print(x_train.shape,y_train.shape)"
      ],
      "execution_count": null,
      "outputs": [
        {
          "output_type": "stream",
          "text": [
            "(60000, 28, 28) (60000,)\n"
          ],
          "name": "stdout"
        }
      ]
    },
    {
      "cell_type": "markdown",
      "metadata": {
        "id": "rRThvlsxa6ND"
      },
      "source": [
        "train_set을 보면 총 60000개의 셈플이 input 데이터는 28*28 크기의 이미지로 되어있다. \r\n",
        "\r\n",
        "test_set을 보면 60000개의 target 데이터로 이루어져있다."
      ]
    },
    {
      "cell_type": "code",
      "metadata": {
        "colab": {
          "base_uri": "https://localhost:8080/"
        },
        "id": "7kaG0hGyaJdZ",
        "outputId": "9d9d96e3-33d1-4d98-d670-402c5f286e5e"
      },
      "source": [
        "print(x_test.shape,y_test.shape)"
      ],
      "execution_count": null,
      "outputs": [
        {
          "output_type": "stream",
          "text": [
            "(10000, 28, 28) (10000,)\n"
          ],
          "name": "stdout"
        }
      ]
    },
    {
      "cell_type": "code",
      "metadata": {
        "colab": {
          "base_uri": "https://localhost:8080/",
          "height": 78
        },
        "id": "sBb9Fe4ZaMx0",
        "outputId": "80d3098c-2be4-4847-f87e-5ca2aa02f230"
      },
      "source": [
        "import matplotlib.pyplot as plt\r\n",
        "fig,ax=plt.subplots(1,10,figsize=(10,10))\r\n",
        "for i in range(10):\r\n",
        "  ax[i].imshow(x_train[i],cmap='gray_r')\r\n",
        "  ax[i].axis('off')\r\n",
        "plt.show()"
      ],
      "execution_count": null,
      "outputs": [
        {
          "output_type": "display_data",
          "data": {
            "image/png": "[encoded data removed]",
            "text/plain": [
              "<Figure size 720x720 with 10 Axes>"
            ]
          },
          "metadata": {
            "tags": [],
            "needs_background": "light"
          }
        }
      ]
    },
    {
      "cell_type": "markdown",
      "metadata": {
        "id": "wv-mZaeIbep0"
      },
      "source": [
        "리스트 내포를 사용해서 target 셋의 맨 처음 10개 데이터를 보겠다."
      ]
    },
    {
      "cell_type": "code",
      "metadata": {
        "colab": {
          "base_uri": "https://localhost:8080/"
        },
        "id": "JZ7qsmqiadby",
        "outputId": "1806c147-b724-416f-b5e8-0be6aeee5f83"
      },
      "source": [
        "print([y_train[i] for i in range(10)])"
      ],
      "execution_count": null,
      "outputs": [
        {
          "output_type": "stream",
          "text": [
            "[9, 0, 0, 3, 0, 2, 7, 2, 5, 5]\n"
          ],
          "name": "stdout"
        }
      ]
    },
    {
      "cell_type": "markdown",
      "metadata": {
        "id": "ou2EyemIbosX"
      },
      "source": [
        "패선 MNIST 타깃은 총 0~9 까지의 클래스를 가지고있다.\r\n",
        "각 데이터가 의미하는 것은\r\n",
        "\r\n",
        "0. 티셔츠\r\n",
        "1. 바지\r\n",
        "2. 스웨터\r\n",
        "3. 드레스\r\n",
        "4. 코트\r\n",
        "5. 샌달\r\n",
        "6. 셔츠\r\n",
        "7. 스니커즈\r\n",
        "8. 가방\r\n",
        "9. 앵클 부츠\r\n",
        "\r\n",
        "이다."
      ]
    },
    {
      "cell_type": "code",
      "metadata": {
        "colab": {
          "base_uri": "https://localhost:8080/"
        },
        "id": "e_eXjiaSao8d",
        "outputId": "89c31135-164d-4fa2-cd21-b1501b59ff24"
      },
      "source": [
        "import numpy as np\r\n",
        "print(np.unique(y_train,return_counts=True))"
      ],
      "execution_count": null,
      "outputs": [
        {
          "output_type": "stream",
          "text": [
            "(array([0, 1, 2, 3, 4, 5, 6, 7, 8, 9], dtype=uint8), array([6000, 6000, 6000, 6000, 6000, 6000, 6000, 6000, 6000, 6000]))\n"
          ],
          "name": "stdout"
        }
      ]
    },
    {
      "cell_type": "markdown",
      "metadata": {
        "id": "_OnUvJC5b--d"
      },
      "source": [
        "numpy의 **unique()** 로 확인을 해봤는데, 0~9까지 정확히 6000개의 샘플이 있다."
      ]
    },
    {
      "cell_type": "markdown",
      "metadata": {
        "id": "cw3A8fMXYz0S"
      },
      "source": [
        "## 로지스틱 회귀로 패션 아이템 분류하기"
      ]
    },
    {
      "cell_type": "markdown",
      "metadata": {
        "id": "ezt9fwQvcYIh"
      },
      "source": [
        "이 train_set은 60000개나 되기 때문에 전체 데이터를 한꺼번에 사용하는 것보다 \r\n",
        "\r\n",
        "샘플을 하나씩 꺼내서 모델을 훈련하는 방법을 사용한다.\r\n",
        "\r\n",
        "=> **확률적 경사 하강법**\r\n",
        "\r\n",
        "**SGDClassifier** 클래스의 **loss** 매개변수를 'log' 로 지정하여 \r\n",
        "\r\n",
        "로지스틱 손실 함수를 최소화하는 확률적 경사 하강법을 사용하겠다.\r\n",
        "\r\n",
        "시작에 앞서 확률적 경사 하강법을 사용하면 손실함수를 사용하기 때문에, \r\n",
        "\r\n",
        "각 데이터의 스케일을 맞춰주어야 한다.\r\n",
        "\r\n",
        "이번 장에서는 전체 데이터를 0~1사이값으로 정규화 하여 사용하겠다.\r\n",
        "\r\n"
      ]
    },
    {
      "cell_type": "code",
      "metadata": {
        "colab": {
          "base_uri": "https://localhost:8080/"
        },
        "id": "yofEmpDTY5Fe",
        "outputId": "9ffe4750-4c94-452f-f6ae-8b44e83c5c62"
      },
      "source": [
        "print(x_train.shape)"
      ],
      "execution_count": null,
      "outputs": [
        {
          "output_type": "stream",
          "text": [
            "(60000, 28, 28)\n"
          ],
          "name": "stdout"
        }
      ]
    },
    {
      "cell_type": "code",
      "metadata": {
        "colab": {
          "base_uri": "https://localhost:8080/"
        },
        "id": "I4YMfHjYdQiq",
        "outputId": "878377c0-c657-45e8-a58a-bc74b15e0784"
      },
      "source": [
        "x_train_scaled=x_train/255.0\r\n",
        "x_train_scaled=x_train_scaled.reshape(-1,28*28)\r\n",
        "print(x_train_scaled.shape)"
      ],
      "execution_count": null,
      "outputs": [
        {
          "output_type": "stream",
          "text": [
            "(60000, 784)\n"
          ],
          "name": "stdout"
        }
      ]
    },
    {
      "cell_type": "code",
      "metadata": {
        "colab": {
          "base_uri": "https://localhost:8080/"
        },
        "id": "xyaQQUmddive",
        "outputId": "d4970b83-e341-441a-b12c-31bca8fcb461"
      },
      "source": [
        "from sklearn.model_selection import cross_validate\r\n",
        "from sklearn.linear_model import SGDClassifier\r\n",
        "sc=SGDClassifier(loss='log',max_iter=5,random_state=42)\r\n",
        "scores=cross_validate(sc,x_train_scaled,y_train,n_jobs=-1)\r\n",
        "print(np.mean(scores['test_score']))"
      ],
      "execution_count": null,
      "outputs": [
        {
          "output_type": "stream",
          "text": [
            "0.8195666666666668\n"
          ],
          "name": "stdout"
        }
      ]
    },
    {
      "cell_type": "markdown",
      "metadata": {
        "id": "cGep8I4TY5n1"
      },
      "source": [
        "## 인공신경망"
      ]
    },
    {
      "cell_type": "markdown",
      "metadata": {
        "id": "zasJQn1kY7Jp"
      },
      "source": [
        "![인공신경망.PNG](data:image/png;base64,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)\r\n",
        "\r\n",
        "출력층 : z1~z10 을 계산하고 이를 바탕으로 클래스를 예측하기 때문에 \r\n",
        "\r\n",
        "신경망의 최종 값을 만든다는 의미로 출력층이라고 불린다.\r\n",
        "\r\n",
        "뉴런(유닛) : 인공 신경망에서 z 값을 계산하는 단위를 뉴런이라고 한다.\r\n",
        "\r\n",
        "입력층 : x1~x784 까지를 입력층이라고 부른다. \r\n",
        "\r\n",
        "인공신경망은 1943년 워런 매컬러와 월터 피츠가 제안한 뉴런 모델이다. \r\n",
        "\r\n"
      ]
    },
    {
      "cell_type": "markdown",
      "metadata": {
        "id": "3KoRO3exY8EP"
      },
      "source": [
        "### 텐서플로와 케라스"
      ]
    },
    {
      "cell_type": "markdown",
      "metadata": {
        "id": "0u1ff-2ehE0H"
      },
      "source": [
        "**텐서플로**는 구글이 2015년 11월 오픈소스로 공개한 딥러닝 라이브러리이다.\r\n",
        "\r\n",
        "텐서플로에는 **저수준 API** 와 **고수준 API**가 있다.\r\n",
        "\r\n",
        "케라스가 텐서플로의 고수준 API이다.\r\n",
        "\r\n",
        "딥러닝 라이브러리가 다른 머신러닝 라이브러리와 다른 점 중 하나는 그래픽 처리 장치인 GPU를 사용.\r\n"
      ]
    },
    {
      "cell_type": "code",
      "metadata": {
        "id": "sgZzJNMLY_Fc"
      },
      "source": [
        "import tensorflow as tf\r\n",
        "from tensorflow import keras"
      ],
      "execution_count": null,
      "outputs": []
    },
    {
      "cell_type": "markdown",
      "metadata": {
        "id": "vpZWvcWtY_kD"
      },
      "source": [
        "## 인공 신경망으로 모델 만들기"
      ]
    },
    {
      "cell_type": "markdown",
      "metadata": {
        "id": "s91XfbswhqOK"
      },
      "source": [
        "앞서 로지스틱 회귀에서는 교차 검증을 사용해 모델을 평가했지만,\r\n",
        "\r\n",
        "인공 신경망에서는 교차 검증을 사용하지 않고, 검증 세트를 별도로 덜어내어 사용한다.\r\n",
        "\r\n",
        "이유는\r\n",
        "1.  딥러닝 분야의 데이터셋은 충분히 크기 때문에 검증 점수가 안정적이기 때문이다.\r\n",
        "2.  교차 검증을 수행하기에는 훈련시간이 너무 오래 걸리기 때문이다.\r\n",
        "\r\n",
        "따라서 sklearn의 **train_test_split()** 함수를 사용하여 나누어보겠다."
      ]
    },
    {
      "cell_type": "code",
      "metadata": {
        "colab": {
          "base_uri": "https://localhost:8080/"
        },
        "id": "FgmSyou4ZDUS",
        "outputId": "d63ad93b-8cfb-4c68-f2f4-690f65f40451"
      },
      "source": [
        "from sklearn.model_selection import train_test_split\r\n",
        "x_train_scaled,x_valid,y_train,y_valid=train_test_split(x_train_scaled,y_train,test_size=0.2,random_state=42)\r\n",
        "print(x_train_scaled.shape,y_train.shape)"
      ],
      "execution_count": null,
      "outputs": [
        {
          "output_type": "stream",
          "text": [
            "(48000, 784) (48000,)\n"
          ],
          "name": "stdout"
        }
      ]
    },
    {
      "cell_type": "code",
      "metadata": {
        "colab": {
          "base_uri": "https://localhost:8080/"
        },
        "id": "E0qRaCLaizIK",
        "outputId": "7d9e8c0b-c1bd-427a-d7e5-b8e5fd7ad102"
      },
      "source": [
        "print(x_valid.shape,y_valid.shape)"
      ],
      "execution_count": null,
      "outputs": [
        {
          "output_type": "stream",
          "text": [
            "(12000, 784) (12000,)\n"
          ],
          "name": "stdout"
        }
      ]
    },
    {
      "cell_type": "markdown",
      "metadata": {
        "id": "wNWrxIaLjCUX"
      },
      "source": [
        "케라스의 레이어(keras.layers) 패키지 안에는 다양한 층이 준비되어 있다.\r\n",
        "\r\n",
        "가장 기본이 되는 층은 **밀집층(dense layer)** 이다.\r\n",
        "\r\n",
        "왼쪽에 있는 784개의 픽셀과 오른쪽에 있는 10개의 뉴런이 모두 연결되면 \r\n",
        "\r\n",
        "총 7840개의 연결된 선의 있다.\r\n",
        "\r\n",
        "이른 청을 양쪽의 뉴런이 모두 연결하고 있기 때문에 **완전 연결층** 이라고 한다.\r\n",
        "\r\n",
        "케라스에서는 **Dense** 클래스를 사용해 밀집층을 만들 수 있다.\r\n",
        "\r\n",
        "필요한 매개변수는 뉴런 개수, 뉴런의 출력에 적용할 함수, 입력의 크기 이다.\r\n"
      ]
    },
    {
      "cell_type": "code",
      "metadata": {
        "id": "Z4fJU9dBi42C"
      },
      "source": [
        "dense=keras.layers.Dense(10,activation='softmax',input_shape=(784,))"
      ],
      "execution_count": null,
      "outputs": []
    },
    {
      "cell_type": "markdown",
      "metadata": {
        "id": "G4W7PTZyk4_2"
      },
      "source": [
        "위에서 만든 밀집층을 만든 후, 이 밀집층을 가진 신경망 모델을 만드려면,\r\n",
        "\r\n",
        "케라스의 **Sequential** 클래스를 사용한다.\r\n",
        "\r\n",
        "위에서 소프트맥수와 같이 뉴런의 선형 방정식 계산 결과에 적용되는 함수를 **활성화 함수**라고 부른다.\r\n"
      ]
    },
    {
      "cell_type": "code",
      "metadata": {
        "id": "_6rp4mmnk0_X"
      },
      "source": [
        "model=keras.Sequential(dense)"
      ],
      "execution_count": null,
      "outputs": []
    },
    {
      "cell_type": "markdown",
      "metadata": {
        "id": "Njwn66DFZDwN"
      },
      "source": [
        "## 인공 신경망으로 패션 아이템 분류하기"
      ]
    },
    {
      "cell_type": "markdown",
      "metadata": {
        "id": "BeYndGcUl_Ur"
      },
      "source": [
        "sklearn에 비해 케라스에서 모델을 만드는 방식은 조금 다르다.\r\n",
        "\r\n",
        "케라스 모델은 훈련하기 전에 설정 단계가 있다.\r\n",
        "\r\n",
        "model 객체의 compile() 메서드에서 설정을 진행한다.\r\n",
        "\r\n",
        "꼭 지정해야하는 것은 확률적 경사 하강법 처럼 손실 함수를 지정해야 한다.\r\n",
        "\r\n",
        "다중분류에서 손실함수를 적게 하기 위해 예측 타깃 값은 1로 나머지는 0으로 만드는 \r\n",
        "\r\n",
        "희소행렬(배열)을 만드는 것이 중요하다.\r\n",
        "\r\n",
        "따라서 해당 클래스만 1이고, 나머지는 0인 배열로 만드는 **원 핫 인코딩** 변환이라고 한다.\r\n",
        "\r\n",
        "텐서플로에서는 정수로 된 타깃값을 원-핫 인코딩으로 바꾸지 않고 그냥 사용할 수 있다.\r\n",
        "\r\n",
        "정수로된 타깃값을 사용해 크로스엔트로피 손실을 계산하는 것이 바로 \r\n",
        "\r\n",
        "**'sparse_categorical_crossentropy'** 이다.\r\n",
        "\r\n",
        "만약 타깃값을 원-핫 인코딩으로 바꾸었으면 손실 함수에 **categorical_crossentropy**로 지정한다.\r\n",
        "\r\n",
        "두 번째 매개변수인 metrics를 알아보자.\r\n",
        "\r\n",
        "케라스는 모델이 훈련할 때 기본적으로 에포크마다 손실 값을 출력해준다.\r\n",
        "\r\n",
        "손실이 줄어드는 것을 보고 훈련이 잘되었다는 것을 알 수 있지만,\r\n",
        "\r\n",
        "정확도를 같이 출력하면 더 좋을 것이다.\r\n",
        "\r\n",
        "따라서 metrics 매개변수에 **'accuracy'** 를 지정하여 표현하도록 한다."
      ]
    },
    {
      "cell_type": "code",
      "metadata": {
        "id": "nHIIrwbvZHEP"
      },
      "source": [
        "model.compile(loss='sparse_categorical_crossentropy',metrics='accuracy')"
      ],
      "execution_count": null,
      "outputs": []
    },
    {
      "cell_type": "code",
      "metadata": {
        "colab": {
          "base_uri": "https://localhost:8080/"
        },
        "id": "sgHl9hSSotrp",
        "outputId": "a66b2656-b754-40a1-c665-6aa0788cd65e"
      },
      "source": [
        "model.fit(x_train_scaled,y_train,epochs=5)"
      ],
      "execution_count": null,
      "outputs": [
        {
          "output_type": "stream",
          "text": [
            "Epoch 1/5\n",
            "1500/1500 [==============================] - 4s 2ms/step - loss: 0.7906 - accuracy: 0.7329\n",
            "Epoch 2/5\n",
            "1500/1500 [==============================] - 2s 2ms/step - loss: 0.4817 - accuracy: 0.8368\n",
            "Epoch 3/5\n",
            "1500/1500 [==============================] - 2s 2ms/step - loss: 0.4607 - accuracy: 0.8461\n",
            "Epoch 4/5\n",
            "1500/1500 [==============================] - 3s 2ms/step - loss: 0.4452 - accuracy: 0.8519\n",
            "Epoch 5/5\n",
            "1500/1500 [==============================] - 2s 2ms/step - loss: 0.4289 - accuracy: 0.8577\n"
          ],
          "name": "stdout"
        },
        {
          "output_type": "execute_result",
          "data": {
            "text/plain": [
              "<tensorflow.python.keras.callbacks.History at 0x7f0a2419f6a0>"
            ]
          },
          "metadata": {
            "tags": []
          },
          "execution_count": 20
        }
      ]
    },
    {
      "cell_type": "code",
      "metadata": {
        "colab": {
          "base_uri": "https://localhost:8080/"
        },
        "id": "LR_ved75ozHk",
        "outputId": "212cedce-5407-4b14-a3df-a4c5a0f8347f"
      },
      "source": [
        "model.evaluate(x_valid,y_valid)"
      ],
      "execution_count": null,
      "outputs": [
        {
          "output_type": "stream",
          "text": [
            "375/375 [==============================] - 1s 2ms/step - loss: 0.4565 - accuracy: 0.8451\n"
          ],
          "name": "stdout"
        },
        {
          "output_type": "execute_result",
          "data": {
            "text/plain": [
              "[0.45648452639579773, 0.8450833559036255]"
            ]
          },
          "metadata": {
            "tags": []
          },
          "execution_count": 21
        }
      ]
    }
  ]
}