{
  "nbformat": 4,
  "nbformat_minor": 0,
  "metadata": {
    "colab": {
      "name": "chapter02_01.ipynb",
      "provenance": [],
      "authorship_tag": "ABX9TyOWhocn7qcMXmcX+1FnpwmT",
      "include_colab_link": true
    },
    "kernelspec": {
      "name": "python3",
      "display_name": "Python 3"
    }
  },
  "cells": [
    {
      "cell_type": "markdown",
      "metadata": {
        "id": "view-in-github",
        "colab_type": "text"
      },
      "source": [
        "<a href=\"https://colab.research.google.com/github/ttjh1234/Study_MLDL/blob/main/chapter02_01.ipynb\" target=\"_parent\"><img src=\"https://colab.research.google.com/assets/colab-badge.svg\" alt=\"Open In Colab\"/></a>"
      ]
    },
    {
      "cell_type": "markdown",
      "metadata": {
        "id": "qhs3W-UimvkW"
      },
      "source": [
        "#생선 분류 문제"
      ]
    },
    {
      "cell_type": "markdown",
      "metadata": {
        "id": "GoAsH5YUm52U"
      },
      "source": [
        "## Train_set and Test_set"
      ]
    },
    {
      "cell_type": "markdown",
      "metadata": {
        "id": "8_mtCuoNnBZ5"
      },
      "source": [
        "###Train_set and Test_set"
      ]
    },
    {
      "cell_type": "markdown",
      "metadata": {
        "id": "E-FEwGJhncpd"
      },
      "source": [
        "chapter1에서 사용한 Kaggle 생선 데이터 이어서 사용.\r\n",
        "\r\n",
        "1장에서는 Train_set 과 Test_set을 혼용함.\r\n",
        "\r\n",
        "본 2장_01에서는 구분하여 사용.\r\n",
        "\r\n",
        "단, Numpy 라이브러리 전까진 있는 그대로 나눔."
      ]
    },
    {
      "cell_type": "code",
      "metadata": {
        "id": "YBuSbydphI2z"
      },
      "source": [
        "fish_length = [25.4, 26.3, 26.5, 29.0, 29.0, 29.7, 29.7, 30.0, 30.0, 30.7, 31.0, 31.0, \r\n",
        "                31.5, 32.0, 32.0, 32.0, 33.0, 33.0, 33.5, 33.5, 34.0, 34.0, 34.5, 35.0, \r\n",
        "                35.0, 35.0, 35.0, 36.0, 36.0, 37.0, 38.5, 38.5, 39.5, 41.0, 41.0, 9.8, \r\n",
        "                10.5, 10.6, 11.0, 11.2, 11.3, 11.8, 11.8, 12.0, 12.2, 12.4, 13.0, 14.3, 15.0]\r\n",
        "fish_weight = [242.0, 290.0, 340.0, 363.0, 430.0, 450.0, 500.0, 390.0, 450.0, 500.0, 475.0, 500.0, \r\n",
        "                500.0, 340.0, 600.0, 600.0, 700.0, 700.0, 610.0, 650.0, 575.0, 685.0, 620.0, 680.0, \r\n",
        "                700.0, 725.0, 720.0, 714.0, 850.0, 1000.0, 920.0, 955.0, 925.0, 975.0, 950.0, 6.7, \r\n",
        "                7.5, 7.0, 9.7, 9.8, 8.7, 10.0, 9.9, 9.8, 12.2, 13.4, 12.2, 19.7, 19.9]"
      ],
      "execution_count": 1,
      "outputs": []
    },
    {
      "cell_type": "code",
      "metadata": {
        "id": "222SIJI4p121"
      },
      "source": [
        "fish_data=[[l,w] for l,w in zip(fish_length,fish_weight)]\r\n",
        "fish_target=[1]*35+[0]*14"
      ],
      "execution_count": 2,
      "outputs": []
    },
    {
      "cell_type": "code",
      "metadata": {
        "id": "xiMHa8txqHhq"
      },
      "source": [
        "from sklearn.neighbors import KNeighborsClassifier\r\n",
        "kn=KNeighborsClassifier()"
      ],
      "execution_count": 3,
      "outputs": []
    },
    {
      "cell_type": "code",
      "metadata": {
        "colab": {
          "base_uri": "https://localhost:8080/"
        },
        "id": "17a9X3gQqRF5",
        "outputId": "bfa7ab9d-f5c4-4be1-8323-c9aeb56755d2"
      },
      "source": [
        "print(fish_data[4])"
      ],
      "execution_count": 4,
      "outputs": [
        {
          "output_type": "stream",
          "text": [
            "[29.0, 430.0]\n"
          ],
          "name": "stdout"
        }
      ]
    },
    {
      "cell_type": "code",
      "metadata": {
        "colab": {
          "base_uri": "https://localhost:8080/"
        },
        "id": "Su1w09oNqfI2",
        "outputId": "e30059a2-a10c-4ad7-b685-c58562fa9f92"
      },
      "source": [
        "print(fish_data[0:4])"
      ],
      "execution_count": 5,
      "outputs": [
        {
          "output_type": "stream",
          "text": [
            "[[25.4, 242.0], [26.3, 290.0], [26.5, 340.0], [29.0, 363.0]]\n"
          ],
          "name": "stdout"
        }
      ]
    },
    {
      "cell_type": "code",
      "metadata": {
        "colab": {
          "base_uri": "https://localhost:8080/"
        },
        "id": "2LaF_G99qh99",
        "outputId": "7b8b7c40-4fce-463a-f6cb-a133ed56b53b"
      },
      "source": [
        "print(fish_data[:5])"
      ],
      "execution_count": 6,
      "outputs": [
        {
          "output_type": "stream",
          "text": [
            "[[25.4, 242.0], [26.3, 290.0], [26.5, 340.0], [29.0, 363.0], [29.0, 430.0]]\n"
          ],
          "name": "stdout"
        }
      ]
    },
    {
      "cell_type": "code",
      "metadata": {
        "colab": {
          "base_uri": "https://localhost:8080/"
        },
        "id": "a6M4AVGoqqKr",
        "outputId": "89932b6f-4358-4393-a7fe-72741b3a4d0e"
      },
      "source": [
        "print(fish_data[44:])"
      ],
      "execution_count": 7,
      "outputs": [
        {
          "output_type": "stream",
          "text": [
            "[[12.2, 12.2], [12.4, 13.4], [13.0, 12.2], [14.3, 19.7], [15.0, 19.9]]\n"
          ],
          "name": "stdout"
        }
      ]
    },
    {
      "cell_type": "code",
      "metadata": {
        "id": "RR4YYdryquh2"
      },
      "source": [
        "#Train_set은 본 데이터의 0~34번째 인덱스 사용\r\n",
        "train_input=fish_data[:35]\r\n",
        "train_target=fish_target[:35]"
      ],
      "execution_count": 8,
      "outputs": []
    },
    {
      "cell_type": "code",
      "metadata": {
        "id": "SzfmNxsurDqA"
      },
      "source": [
        "#Test_set은 본 데이터의 35~48번째 인덱스 사용\r\n",
        "test_input=fish_data[35:]\r\n",
        "test_target=fish_target[35:]"
      ],
      "execution_count": 9,
      "outputs": []
    },
    {
      "cell_type": "code",
      "metadata": {
        "colab": {
          "base_uri": "https://localhost:8080/"
        },
        "id": "_dZN6SfLrV_Q",
        "outputId": "2252e84a-8bfb-4ace-ab48-ec3abcc78a25"
      },
      "source": [
        "#모델 데이터 학습 및 평가\r\n",
        "kn=kn.fit(train_input,train_target)\r\n",
        "print(kn.score(test_input,test_target))"
      ],
      "execution_count": 10,
      "outputs": [
        {
          "output_type": "stream",
          "text": [
            "0.0\n"
          ],
          "name": "stdout"
        }
      ]
    },
    {
      "cell_type": "markdown",
      "metadata": {
        "id": "-fvzASm6wTI9"
      },
      "source": [
        "위 모형의 train_set 과 test_set의 분포\r\n",
        "\r\n",
        "리스트의 개별값을 표현하기 위해서 반복문을 사용"
      ]
    },
    {
      "cell_type": "code",
      "metadata": {
        "colab": {
          "base_uri": "https://localhost:8080/",
          "height": 295
        },
        "id": "XtM8MD0irnEz",
        "outputId": "25fb0dff-3f7e-4f6f-a4d6-703163547e0a"
      },
      "source": [
        "import matplotlib.pyplot as plt\r\n",
        "for i in train_input:\r\n",
        "  plt.scatter(i[0],i[1],c='blue')\r\n",
        "for i in test_input:\r\n",
        "  plt.scatter(i[0],i[1],c='red')\r\n",
        "plt.xlabel('length')\r\n",
        "plt.ylabel('weight')\r\n",
        "plt.title('No Shuffle')\r\n",
        "plt.show()"
      ],
      "execution_count": 11,
      "outputs": [
        {
          "output_type": "display_data",
          "data": {
            "image/png": "[encoded data removed]",
            "text/plain": [
              "<Figure size 432x288 with 1 Axes>"
            ]
          },
          "metadata": {
            "tags": [],
            "needs_background": "light"
          }
        }
      ]
    },
    {
      "cell_type": "markdown",
      "metadata": {
        "id": "B0Iy4S_m0Q3b"
      },
      "source": [
        "train_set 과 test_set을 선정할 때 **샘플링 편향**이 일어남.\r\n",
        "\r\n",
        "이를 개선하기 위해 넘파이의 셔플 함수 사용"
      ]
    },
    {
      "cell_type": "markdown",
      "metadata": {
        "id": "ZwUlBg1PnMy1"
      },
      "source": [
        "### Numpy"
      ]
    },
    {
      "cell_type": "markdown",
      "metadata": {
        "id": "fX3dCr5rob8q"
      },
      "source": [
        "Numpy 라이브러리를 사용하여 셔플 후 구분.\r\n",
        "\r\n",
        "**np.random.seed()**: 시드 설정 \r\n",
        "\r\n",
        "**np.arrange(N)**:  **0** 에서부터 **N-1** 까지 **1**씩 증가하는 배열 생성\r\n",
        "\r\n",
        "**np.random.shuffle()**: 주어진 배열을 무작위로 섞음\r\n",
        "\r\n"
      ]
    },
    {
      "cell_type": "code",
      "metadata": {
        "colab": {
          "base_uri": "https://localhost:8080/"
        },
        "id": "TQk51w-FnRXj",
        "outputId": "30702aef-bd9d-43bf-a9e7-edff874b0f94"
      },
      "source": [
        "import numpy as np\r\n",
        "\r\n",
        "input_arr=np.array(fish_data)\r\n",
        "target_arr=np.array(fish_target)\r\n",
        "\r\n",
        "print(input_arr)\r\n",
        "print(input_arr.shape)"
      ],
      "execution_count": 12,
      "outputs": [
        {
          "output_type": "stream",
          "text": [
            "[[  25.4  242. ]\n",
            " [  26.3  290. ]\n",
            " [  26.5  340. ]\n",
            " [  29.   363. ]\n",
            " [  29.   430. ]\n",
            " [  29.7  450. ]\n",
            " [  29.7  500. ]\n",
            " [  30.   390. ]\n",
            " [  30.   450. ]\n",
            " [  30.7  500. ]\n",
            " [  31.   475. ]\n",
            " [  31.   500. ]\n",
            " [  31.5  500. ]\n",
            " [  32.   340. ]\n",
            " [  32.   600. ]\n",
            " [  32.   600. ]\n",
            " [  33.   700. ]\n",
            " [  33.   700. ]\n",
            " [  33.5  610. ]\n",
            " [  33.5  650. ]\n",
            " [  34.   575. ]\n",
            " [  34.   685. ]\n",
            " [  34.5  620. ]\n",
            " [  35.   680. ]\n",
            " [  35.   700. ]\n",
            " [  35.   725. ]\n",
            " [  35.   720. ]\n",
            " [  36.   714. ]\n",
            " [  36.   850. ]\n",
            " [  37.  1000. ]\n",
            " [  38.5  920. ]\n",
            " [  38.5  955. ]\n",
            " [  39.5  925. ]\n",
            " [  41.   975. ]\n",
            " [  41.   950. ]\n",
            " [   9.8    6.7]\n",
            " [  10.5    7.5]\n",
            " [  10.6    7. ]\n",
            " [  11.     9.7]\n",
            " [  11.2    9.8]\n",
            " [  11.3    8.7]\n",
            " [  11.8   10. ]\n",
            " [  11.8    9.9]\n",
            " [  12.     9.8]\n",
            " [  12.2   12.2]\n",
            " [  12.4   13.4]\n",
            " [  13.    12.2]\n",
            " [  14.3   19.7]\n",
            " [  15.    19.9]]\n",
            "(49, 2)\n"
          ],
          "name": "stdout"
        }
      ]
    },
    {
      "cell_type": "code",
      "metadata": {
        "colab": {
          "base_uri": "https://localhost:8080/"
        },
        "id": "2Frkjesx0492",
        "outputId": "d8df7782-3ef4-4c76-ed54-f3f85034093d"
      },
      "source": [
        "np.random.seed(42)\r\n",
        "index=np.arange(49)\r\n",
        "np.random.shuffle(index)\r\n",
        "\r\n",
        "print(index)"
      ],
      "execution_count": 13,
      "outputs": [
        {
          "output_type": "stream",
          "text": [
            "[13 45 47 44 17 27 26 25 31 19 12  4 34  8  3  6 40 41 46 15  9 16 24 33\n",
            " 30  0 43 32  5 29 11 36  1 21  2 37 35 23 39 10 22 18 48 20  7 42 14 28\n",
            " 38]\n"
          ],
          "name": "stdout"
        }
      ]
    },
    {
      "cell_type": "code",
      "metadata": {
        "id": "T9H8apww1HK1"
      },
      "source": [
        "train_input=input_arr[index[:35]]\r\n",
        "train_target=target_arr[index[:35]]\r\n",
        "test_input=input_arr[index[35:]]\r\n",
        "test_target=target_arr[index[35:]]"
      ],
      "execution_count": 14,
      "outputs": []
    },
    {
      "cell_type": "code",
      "metadata": {
        "colab": {
          "base_uri": "https://localhost:8080/",
          "height": 295
        },
        "id": "2-EzIzc62DHh",
        "outputId": "10849cf3-f84b-4b3e-d329-56cc1104b8bf"
      },
      "source": [
        "plt.scatter(train_input[:,0],train_input[:,1])\r\n",
        "plt.scatter(test_input[:,0],test_input[:,1])\r\n",
        "plt.xlabel('length')\r\n",
        "plt.ylabel('weight')\r\n",
        "plt.title('Shuffle with Numpy')\r\n",
        "plt.show()"
      ],
      "execution_count": 15,
      "outputs": [
        {
          "output_type": "display_data",
          "data": {
            "image/png": "[encoded data removed]",
            "text/plain": [
              "<Figure size 432x288 with 1 Axes>"
            ]
          },
          "metadata": {
            "tags": [],
            "needs_background": "light"
          }
        }
      ]
    },
    {
      "cell_type": "markdown",
      "metadata": {
        "id": "lGpJQaBsnSAs"
      },
      "source": [
        "### Modeling"
      ]
    },
    {
      "cell_type": "code",
      "metadata": {
        "colab": {
          "base_uri": "https://localhost:8080/"
        },
        "id": "skyZRdq2nXbC",
        "outputId": "273f5237-221c-4af0-e3f9-ea2cc9dbfa18"
      },
      "source": [
        "kn=kn.fit(train_input,train_target)\r\n",
        "print(kn.score(test_input,test_target))\r\n",
        "kn.predict(test_input)"
      ],
      "execution_count": 16,
      "outputs": [
        {
          "output_type": "stream",
          "text": [
            "1.0\n"
          ],
          "name": "stdout"
        },
        {
          "output_type": "execute_result",
          "data": {
            "text/plain": [
              "array([0, 0, 1, 0, 1, 1, 1, 0, 1, 1, 0, 1, 1, 0])"
            ]
          },
          "metadata": {
            "tags": []
          },
          "execution_count": 16
        }
      ]
    },
    {
      "cell_type": "code",
      "metadata": {
        "colab": {
          "base_uri": "https://localhost:8080/"
        },
        "id": "4TAd_cIT28Cg",
        "outputId": "412ad78c-1dbe-463c-bc15-5cd8885b6c4d"
      },
      "source": [
        "test_target"
      ],
      "execution_count": 17,
      "outputs": [
        {
          "output_type": "execute_result",
          "data": {
            "text/plain": [
              "array([0, 0, 1, 0, 1, 1, 1, 0, 1, 1, 0, 1, 1, 0])"
            ]
          },
          "metadata": {
            "tags": []
          },
          "execution_count": 17
        }
      ]
    }
  ]
}