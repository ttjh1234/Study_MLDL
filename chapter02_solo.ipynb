{
  "nbformat": 4,
  "nbformat_minor": 0,
  "metadata": {
    "colab": {
      "name": "chapter02_solo.ipynb",
      "provenance": [],
      "collapsed_sections": [],
      "authorship_tag": "ABX9TyN8Uo1WKdr/77QHNoU98vWU",
      "include_colab_link": true
    },
    "kernelspec": {
      "name": "python3",
      "display_name": "Python 3"
    }
  },
  "cells": [
    {
      "cell_type": "markdown",
      "metadata": {
        "id": "view-in-github",
        "colab_type": "text"
      },
      "source": [
        "<a href=\"https://colab.research.google.com/github/ttjh1234/Study_MLDL/blob/main/chapter02_solo.ipynb\" target=\"_parent\"><img src=\"https://colab.research.google.com/assets/colab-badge.svg\" alt=\"Open In Colab\"/></a>"
      ]
    },
    {
      "cell_type": "markdown",
      "metadata": {
        "id": "m1qjD-mKQDyc"
      },
      "source": [
        "#생선 분류 문제"
      ]
    },
    {
      "cell_type": "markdown",
      "metadata": {
        "id": "cSGzQe-SQJly"
      },
      "source": [
        "##혼자 해보기 ! "
      ]
    },
    {
      "cell_type": "markdown",
      "metadata": {
        "id": "hUXywfLeQPTh"
      },
      "source": [
        "책에서 나오는 직접 평균과 표준편차를 구해서 하는 표준화를 사용하지 않고,\r\n",
        "\r\n",
        "이전에 배웠었던 **sklearn**의 **preprocessing**을 사용하여 진행해보겠다.\r\n",
        "\r\n",
        "모델링 방법은 **K-최근접 이웃 방법**을 사용하고, 책과 동일하게 **시드값**으로 **42**를 사용하겠다.\r\n"
      ]
    },
    {
      "cell_type": "markdown",
      "metadata": {
        "id": "FnaThEA3QwG5"
      },
      "source": [
        "###데이터 준비"
      ]
    },
    {
      "cell_type": "code",
      "metadata": {
        "id": "qSLPkHM_QCa8"
      },
      "source": [
        "fish_length = [25.4, 26.3, 26.5, 29.0, 29.0, 29.7, 29.7, 30.0, 30.0, 30.7, 31.0, 31.0, \r\n",
        "                31.5, 32.0, 32.0, 32.0, 33.0, 33.0, 33.5, 33.5, 34.0, 34.0, 34.5, 35.0, \r\n",
        "                35.0, 35.0, 35.0, 36.0, 36.0, 37.0, 38.5, 38.5, 39.5, 41.0, 41.0, 9.8, \r\n",
        "                10.5, 10.6, 11.0, 11.2, 11.3, 11.8, 11.8, 12.0, 12.2, 12.4, 13.0, 14.3, 15.0]\r\n",
        "fish_weight = [242.0, 290.0, 340.0, 363.0, 430.0, 450.0, 500.0, 390.0, 450.0, 500.0, 475.0, 500.0, \r\n",
        "                500.0, 340.0, 600.0, 600.0, 700.0, 700.0, 610.0, 650.0, 575.0, 685.0, 620.0, 680.0, \r\n",
        "                700.0, 725.0, 720.0, 714.0, 850.0, 1000.0, 920.0, 955.0, 925.0, 975.0, 950.0, 6.7, \r\n",
        "                7.5, 7.0, 9.7, 9.8, 8.7, 10.0, 9.9, 9.8, 12.2, 13.4, 12.2, 19.7, 19.9]"
      ],
      "execution_count": 1,
      "outputs": []
    },
    {
      "cell_type": "code",
      "metadata": {
        "id": "rYCo2-i-Q_3C"
      },
      "source": [
        "import numpy as np"
      ],
      "execution_count": 2,
      "outputs": []
    },
    {
      "cell_type": "code",
      "metadata": {
        "colab": {
          "base_uri": "https://localhost:8080/"
        },
        "id": "kkLn7Y3IRFcO",
        "outputId": "384d1a11-ee8c-4875-bc32-1ae09516d817"
      },
      "source": [
        "fish_data=np.column_stack((fish_length,fish_weight))\r\n",
        "print(fish_data[:5])\r\n",
        "fish_target=np.concatenate((np.ones(35),np.zeros(14)))\r\n",
        "print(fish_target[:5])"
      ],
      "execution_count": 3,
      "outputs": [
        {
          "output_type": "stream",
          "text": [
            "[[ 25.4 242. ]\n",
            " [ 26.3 290. ]\n",
            " [ 26.5 340. ]\n",
            " [ 29.  363. ]\n",
            " [ 29.  430. ]]\n",
            "[1. 1. 1. 1. 1.]\n"
          ],
          "name": "stdout"
        }
      ]
    },
    {
      "cell_type": "markdown",
      "metadata": {
        "id": "uNyP_Wd4QzSf"
      },
      "source": [
        "###데이터 전처리"
      ]
    },
    {
      "cell_type": "code",
      "metadata": {
        "colab": {
          "base_uri": "https://localhost:8080/"
        },
        "id": "m4kQUariQ4ab",
        "outputId": "f72aaa03-93d6-40bf-ae2f-cfed166e15f2"
      },
      "source": [
        "from sklearn import preprocessing\r\n",
        "x=preprocessing.StandardScaler().fit(fish_data).transform(fish_data)\r\n",
        "print(x[:5])"
      ],
      "execution_count": 4,
      "outputs": [
        {
          "output_type": "stream",
          "text": [
            "[[-0.16326134 -0.62350364]\n",
            " [-0.07448421 -0.47571019]\n",
            " [-0.05475596 -0.32175867]\n",
            " [ 0.19184717 -0.25094097]\n",
            " [ 0.19184717 -0.04464594]]\n"
          ],
          "name": "stdout"
        }
      ]
    },
    {
      "cell_type": "code",
      "metadata": {
        "colab": {
          "base_uri": "https://localhost:8080/"
        },
        "id": "iPC_cDerSjCJ",
        "outputId": "a6216f5e-37d8-45af-e888-0d7342f764bd"
      },
      "source": [
        "from sklearn.model_selection import train_test_split\r\n",
        "x_train,x_test,y_train,y_test=train_test_split(x,fish_target,stratify=fish_target,random_state=42)\r\n",
        "print(x_train.shape,y_train.shape)\r\n",
        "print(np.unique(y_train,return_counts=True))"
      ],
      "execution_count": 5,
      "outputs": [
        {
          "output_type": "stream",
          "text": [
            "(36, 2) (36,)\n",
            "(array([0., 1.]), array([10, 26]))\n"
          ],
          "name": "stdout"
        }
      ]
    },
    {
      "cell_type": "code",
      "metadata": {
        "colab": {
          "base_uri": "https://localhost:8080/",
          "height": 279
        },
        "id": "Rw7CL4jDToNg",
        "outputId": "fdb41f5b-777b-451c-c018-0c9169fab684"
      },
      "source": [
        "new=([25,150]-fish_data.mean(axis=0))/fish_data.std(axis=0)\r\n",
        "\r\n",
        "import matplotlib.pyplot as plt\r\n",
        "\r\n",
        "plt.scatter(x_train[:,0],x_train[:,1])\r\n",
        "plt.scatter(new[0],new[1],marker='^')\r\n",
        "plt.xlabel('length')\r\n",
        "plt.ylabel('weight')\r\n",
        "plt.show()"
      ],
      "execution_count": 10,
      "outputs": [
        {
          "output_type": "display_data",
          "data": {
            "image/png": "[encoded data removed]",
            "text/plain": [
              "<Figure size 432x288 with 1 Axes>"
            ]
          },
          "metadata": {
            "tags": [],
            "needs_background": "light"
          }
        }
      ]
    },
    {
      "cell_type": "markdown",
      "metadata": {
        "id": "S13okJkWQ1GH"
      },
      "source": [
        "###데이터 모델링 및 평가"
      ]
    },
    {
      "cell_type": "code",
      "metadata": {
        "colab": {
          "base_uri": "https://localhost:8080/"
        },
        "id": "2tt6B4KMQ5Oc",
        "outputId": "a766bf13-4fbd-4577-9b57-340954c9807b"
      },
      "source": [
        "from sklearn.neighbors import KNeighborsClassifier\r\n",
        "kn=KNeighborsClassifier()\r\n",
        "kn.fit(x_train,y_train)\r\n",
        "kn.score(x_test,y_test)"
      ],
      "execution_count": 7,
      "outputs": [
        {
          "output_type": "execute_result",
          "data": {
            "text/plain": [
              "1.0"
            ]
          },
          "metadata": {
            "tags": []
          },
          "execution_count": 7
        }
      ]
    },
    {
      "cell_type": "code",
      "metadata": {
        "colab": {
          "base_uri": "https://localhost:8080/"
        },
        "id": "iDPzfRkxXbZ-",
        "outputId": "92d09b01-9800-407c-bcff-17b3f584463f"
      },
      "source": [
        "print(kn.predict([new]))"
      ],
      "execution_count": 8,
      "outputs": [
        {
          "output_type": "stream",
          "text": [
            "[1.]\n"
          ],
          "name": "stdout"
        }
      ]
    },
    {
      "cell_type": "code",
      "metadata": {
        "colab": {
          "base_uri": "https://localhost:8080/",
          "height": 295
        },
        "id": "oofDeXatXi7a",
        "outputId": "8a740efc-47f2-44af-9db2-97d44613e7cd"
      },
      "source": [
        "distances,indexes=kn.kneighbors([new])\r\n",
        "\r\n",
        "plt.scatter(x_train[:,0],x_train[:,1])\r\n",
        "plt.scatter(new[0],new[1],marker='^')\r\n",
        "plt.scatter(x_train[indexes,0],x_train[indexes,1],marker='D')\r\n",
        "plt.xlabel('length')\r\n",
        "plt.ylabel('weight')\r\n",
        "plt.title('After Normalization for Sklearn')\r\n",
        "plt.show()"
      ],
      "execution_count": 9,
      "outputs": [
        {
          "output_type": "display_data",
          "data": {
            "image/png": "[encoded data removed]",
            "text/plain": [
              "<Figure size 432x288 with 1 Axes>"
            ]
          },
          "metadata": {
            "tags": [],
            "needs_background": "light"
          }
        }
      ]
    }
  ]
}