{
  "nbformat": 4,
  "nbformat_minor": 0,
  "metadata": {
    "colab": {
      "name": "chapter03_01.ipynb",
      "provenance": [],
      "collapsed_sections": [],
      "authorship_tag": "ABX9TyOKS2jLKhenlno7go/VdSav",
      "include_colab_link": true
    },
    "kernelspec": {
      "name": "python3",
      "display_name": "Python 3"
    }
  },
  "cells": [
    {
      "cell_type": "markdown",
      "metadata": {
        "id": "view-in-github",
        "colab_type": "text"
      },
      "source": [
        "<a href=\"https://colab.research.google.com/github/ttjh1234/Study_MLDL/blob/main/chapter03_01.ipynb\" target=\"_parent\"><img src=\"https://colab.research.google.com/assets/colab-badge.svg\" alt=\"Open In Colab\"/></a>"
      ]
    },
    {
      "cell_type": "markdown",
      "metadata": {
        "id": "e45EnGGehEFC"
      },
      "source": [
        "#K-최근접 이웃 회귀"
      ]
    },
    {
      "cell_type": "markdown",
      "metadata": {
        "id": "XQHaB0KxmtQ4"
      },
      "source": [
        "농어의 무게 구하기 문제\r\n",
        "\r\n",
        "첫 번째 방법으로 K-최근접 이웃 회귀 방법을 사용한다.\r\n",
        "\r\n",
        "데이터는 https://bit.ly/perch_data 를 참조하여 사용하였다.\r\n"
      ]
    },
    {
      "cell_type": "markdown",
      "metadata": {
        "id": "pKMGJn9ZhKqc"
      },
      "source": [
        "## 데이터 준비"
      ]
    },
    {
      "cell_type": "markdown",
      "metadata": {
        "id": "gfWCXyKpnEOe"
      },
      "source": [
        "데이터를 위 사이트에서 가지고와서 numpy에서 제공하는 \r\n",
        "\r\n",
        "**np.array()**를 사용하여 데이터를 만들었다.\r\n",
        "\r\n",
        " 추후에 모델에 학습시킬 훈련데이터는 **2차원 배열**이여야 하므로 형변환을 한다."
      ]
    },
    {
      "cell_type": "code",
      "metadata": {
        "colab": {
          "base_uri": "https://localhost:8080/"
        },
        "id": "UMc241YOZwR6",
        "outputId": "fd494003-669a-4251-d249-981b1cc99695"
      },
      "source": [
        "import numpy as np\r\n",
        "perch_length = np.array([8.4, 13.7, 15.0, 16.2, 17.4, 18.0, 18.7, 19.0, 19.6, 20.0, 21.0,\r\n",
        "       21.0, 21.0, 21.3, 22.0, 22.0, 22.0, 22.0, 22.0, 22.5, 22.5, 22.7,\r\n",
        "       23.0, 23.5, 24.0, 24.0, 24.6, 25.0, 25.6, 26.5, 27.3, 27.5, 27.5,\r\n",
        "       27.5, 28.0, 28.7, 30.0, 32.8, 34.5, 35.0, 36.5, 36.0, 37.0, 37.0,\r\n",
        "       39.0, 39.0, 39.0, 40.0, 40.0, 40.0, 40.0, 42.0, 43.0, 43.0, 43.5,\r\n",
        "       44.0])\r\n",
        "perch_weight = np.array([5.9, 32.0, 40.0, 51.5, 70.0, 100.0, 78.0, 80.0, 85.0, 85.0, 110.0,\r\n",
        "       115.0, 125.0, 130.0, 120.0, 120.0, 130.0, 135.0, 110.0, 130.0,\r\n",
        "       150.0, 145.0, 150.0, 170.0, 225.0, 145.0, 188.0, 180.0, 197.0,\r\n",
        "       218.0, 300.0, 260.0, 265.0, 250.0, 250.0, 300.0, 320.0, 514.0,\r\n",
        "       556.0, 840.0, 685.0, 700.0, 700.0, 690.0, 900.0, 650.0, 820.0,\r\n",
        "       850.0, 900.0, 1015.0, 820.0, 1100.0, 1000.0, 1100.0, 1000.0,\r\n",
        "       1000.0])\r\n",
        "\r\n",
        "print(type(perch_length))\r\n",
        "print(perch_length.shape)\r\n"
      ],
      "execution_count": 1,
      "outputs": [
        {
          "output_type": "stream",
          "text": [
            "<class 'numpy.ndarray'>\n",
            "(56,)\n"
          ],
          "name": "stdout"
        }
      ]
    },
    {
      "cell_type": "code",
      "metadata": {
        "colab": {
          "base_uri": "https://localhost:8080/",
          "height": 279
        },
        "id": "rS2kkO5ph7-O",
        "outputId": "c555e796-0ec6-4f3a-bb7f-35f5b3d5db16"
      },
      "source": [
        "import matplotlib.pyplot as plt\r\n",
        "plt.scatter(perch_length,perch_weight)\r\n",
        "plt.xlabel('length')\r\n",
        "plt.ylabel('weight')\r\n",
        "plt.show()\r\n"
      ],
      "execution_count": 2,
      "outputs": [
        {
          "output_type": "display_data",
          "data": {
            "image/png": "[encoded data removed]",
            "text/plain": [
              "<Figure size 432x288 with 1 Axes>"
            ]
          },
          "metadata": {
            "tags": [],
            "needs_background": "light"
          }
        }
      ]
    },
    {
      "cell_type": "markdown",
      "metadata": {
        "id": "v26na9xAno-G"
      },
      "source": [
        "**Sklearn**의 **train_test_split**을 사용하여\r\n",
        "\r\n",
        "train_set과 test_set으로 분리해준다.\r\n",
        "\r\n",
        "그 후 학습을 위해 1차원 배열인 훈련데이터들을 2차원으로 바꾼다.\r\n",
        "\r\n",
        "**reshape(x,y)**:넘파이 배열을 x행,y열로 바꾸어준다. 특성이 1개인 배열을 2차원으로 바꿀 때, \r\n",
        "\r\n",
        "**reshape(-1,1)**을 사용하여 바꿀 수 있다. *원칙은 (행 개수,1)"
      ]
    },
    {
      "cell_type": "code",
      "metadata": {
        "id": "a5dT0uB1iIjz"
      },
      "source": [
        "from sklearn.model_selection import train_test_split\r\n",
        "x_train,x_test,y_train,y_test=train_test_split(perch_length,perch_weight,random_state=42)"
      ],
      "execution_count": 3,
      "outputs": []
    },
    {
      "cell_type": "code",
      "metadata": {
        "colab": {
          "base_uri": "https://localhost:8080/"
        },
        "id": "YyYZYXj0jwKZ",
        "outputId": "42b2080d-998e-4356-ae46-da6a3253c281"
      },
      "source": [
        "test_array=np.array([1,2,3,4,5,6])\r\n",
        "print(test_array.shape)"
      ],
      "execution_count": 4,
      "outputs": [
        {
          "output_type": "stream",
          "text": [
            "(6,)\n"
          ],
          "name": "stdout"
        }
      ]
    },
    {
      "cell_type": "code",
      "metadata": {
        "colab": {
          "base_uri": "https://localhost:8080/"
        },
        "id": "H3rN2Nl0j2sg",
        "outputId": "fee186a1-df8c-4f89-f4ce-a494397b4744"
      },
      "source": [
        "test_array=test_array.reshape(2,3)\r\n",
        "print(test_array.shape)\r\n",
        "print(test_array)"
      ],
      "execution_count": 5,
      "outputs": [
        {
          "output_type": "stream",
          "text": [
            "(2, 3)\n",
            "[[1 2 3]\n",
            " [4 5 6]]\n"
          ],
          "name": "stdout"
        }
      ]
    },
    {
      "cell_type": "code",
      "metadata": {
        "colab": {
          "base_uri": "https://localhost:8080/"
        },
        "id": "rxQCGYhhj_9_",
        "outputId": "23b0d49c-9594-482f-9b3a-bc55287b5bc7"
      },
      "source": [
        "x_train=x_train.reshape(-1,1)\r\n",
        "x_test=x_test.reshape(-1,1)\r\n",
        "print(x_train.shape)\r\n",
        "print(x_train[:5])"
      ],
      "execution_count": 6,
      "outputs": [
        {
          "output_type": "stream",
          "text": [
            "(42, 1)\n",
            "[[19.6]\n",
            " [22. ]\n",
            " [18.7]\n",
            " [17.4]\n",
            " [36. ]]\n"
          ],
          "name": "stdout"
        }
      ]
    },
    {
      "cell_type": "markdown",
      "metadata": {
        "id": "_dKvs1zXhNdT"
      },
      "source": [
        "## 결정계수(R^2)"
      ]
    },
    {
      "cell_type": "markdown",
      "metadata": {
        "id": "-q1KFsi2ouq_"
      },
      "source": [
        "회귀분석에서 자주 쓰이는 R^2 이지만, k-최근접 이웃 회귀 알고리즘의 결정계수는 조금 다르다.\r\n",
        "\r\n",
        "![rsquaredofKNR.PNG](data:image/png;base64,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)"
      ]
    },
    {
      "cell_type": "code",
      "metadata": {
        "colab": {
          "base_uri": "https://localhost:8080/"
        },
        "id": "K2CtiVk2hpmG",
        "outputId": "32319f1c-a8da-4091-d1af-d17ac6ce783e"
      },
      "source": [
        "from sklearn.neighbors import KNeighborsRegressor\r\n",
        "knr=KNeighborsRegressor()\r\n",
        "knr.fit(x_train,y_train)\r\n",
        "print(knr.score(x_test,y_test))"
      ],
      "execution_count": 7,
      "outputs": [
        {
          "output_type": "stream",
          "text": [
            "0.9928094061010639\n"
          ],
          "name": "stdout"
        }
      ]
    },
    {
      "cell_type": "markdown",
      "metadata": {
        "id": "rmuPHZzoqOxN"
      },
      "source": [
        "위 결과에서 보듯이 test_set을 적용한 결정계수 값이 매우 좋게 나왔다.\r\n",
        "\r\n",
        "이제 test_set의 실제값과 모형으로 적합한 예측값의 차이를 확인해보겠다.\r\n",
        "\r\n",
        "**sklearn.metrics** 의 **mean_absolute_error** 함수를 사용하겠다.\r\n"
      ]
    },
    {
      "cell_type": "code",
      "metadata": {
        "colab": {
          "base_uri": "https://localhost:8080/"
        },
        "id": "Fcu-bGKClChS",
        "outputId": "0d93dd19-a4a2-4774-a863-8de12890ffd1"
      },
      "source": [
        "from sklearn.metrics import mean_absolute_error\r\n",
        "y_predict=knr.predict(x_test)\r\n",
        "mae=mean_absolute_error(y_test,y_predict)\r\n",
        "print(mae)"
      ],
      "execution_count": 8,
      "outputs": [
        {
          "output_type": "stream",
          "text": [
            "19.157142857142862\n"
          ],
          "name": "stdout"
        }
      ]
    },
    {
      "cell_type": "markdown",
      "metadata": {
        "id": "SbrPxuv2hkN1"
      },
      "source": [
        "## 과대적합 과 과소적합"
      ]
    },
    {
      "cell_type": "code",
      "metadata": {
        "colab": {
          "base_uri": "https://localhost:8080/"
        },
        "id": "pGFYXvXXrEJY",
        "outputId": "62666a8e-ac0a-4125-dbdc-2d44bb82d4c6"
      },
      "source": [
        "print(knr.score(x_train,y_train))"
      ],
      "execution_count": 9,
      "outputs": [
        {
          "output_type": "stream",
          "text": [
            "0.9698823289099255\n"
          ],
          "name": "stdout"
        }
      ]
    },
    {
      "cell_type": "markdown",
      "metadata": {
        "id": "g9e5FFNCrMSb"
      },
      "source": [
        "앞에서 test_set과의 비교를 하면 train_set이 더 낮게 나왔다.\r\n",
        "\r\n",
        "보통 train_set의 점수가 조금 더 높게 나오지만, \r\n",
        "\r\n",
        "이 문제에서 train_set과 test_set의 크기가 작기 때문에 이러한 결과가 나왔다.\r\n",
        "\r\n",
        "**과대적합** : train_set에 너무 잘맞는 모델이라 test_set에서 점수가 굉장히 나쁜 상황\r\n",
        "\r\n",
        "**과소적합** : 과대적합의 반대로, train_set의 점수가 너무 높거나, \r\n",
        "\r\n",
        "train_set과 test_set 두 점수 모두 나쁜 상황 "
      ]
    },
    {
      "cell_type": "markdown",
      "metadata": {
        "id": "mFlOpGd9q-l6"
      },
      "source": [
        "위 문제에서는 과소적합이기 때문에 모델을 조금 더 복잡하게 만든다.\r\n",
        "\r\n",
        "k-최근접 이웃 회귀 모델에서 default n_neighbors는 **5**인데,\r\n",
        "\r\n",
        "**n을 줄여** 조금 더 이웃사이에 국지적으로 영향을 받게 만들면 더 복잡한 모형이 된다."
      ]
    },
    {
      "cell_type": "code",
      "metadata": {
        "colab": {
          "base_uri": "https://localhost:8080/"
        },
        "id": "HJtWwnBehow8",
        "outputId": "009057f1-b7eb-4a83-df74-360cb335c2b6"
      },
      "source": [
        "print(knr.score(x_train,y_train))\r\n",
        "knr.n_neighbors=3\r\n",
        "\r\n",
        "knr.fit(x_train,y_train)\r\n",
        "print('train_set의 R^2:',knr.score(x_train,y_train))\r\n",
        "print('test_set의 R^2:',knr.score(x_test,y_test))"
      ],
      "execution_count": 10,
      "outputs": [
        {
          "output_type": "stream",
          "text": [
            "0.9698823289099255\n",
            "train_set의 R^2: 0.9804899950518966\n",
            "test_set의 R^2: 0.974645996398761\n"
          ],
          "name": "stdout"
        }
      ]
    }
  ]
}