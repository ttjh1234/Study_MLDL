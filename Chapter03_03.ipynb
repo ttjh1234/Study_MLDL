{
  "nbformat": 4,
  "nbformat_minor": 0,
  "metadata": {
    "colab": {
      "name": "Chapter03_03.ipynb",
      "provenance": [],
      "authorship_tag": "ABX9TyM4YdIsf/HJfy05uw3wMHYf",
      "include_colab_link": true
    },
    "kernelspec": {
      "name": "python3",
      "display_name": "Python 3"
    }
  },
  "cells": [
    {
      "cell_type": "markdown",
      "metadata": {
        "id": "view-in-github",
        "colab_type": "text"
      },
      "source": [
        "<a href=\"https://colab.research.google.com/github/ttjh1234/Study_MLDL/blob/main/Chapter03_03.ipynb\" target=\"_parent\"><img src=\"https://colab.research.google.com/assets/colab-badge.svg\" alt=\"Open In Colab\"/></a>"
      ]
    },
    {
      "cell_type": "markdown",
      "metadata": {
        "id": "ApKK80KdJMkm"
      },
      "source": [
        "#특성 공학과 규제"
      ]
    },
    {
      "cell_type": "markdown",
      "metadata": {
        "id": "rsdc_EUrKbgW"
      },
      "source": [
        "농어의 무게 구하기 문제\r\n",
        "\r\n",
        "데이터 셋은 'https://bit.ly/perch_csv' 와 'https://bit.ly/perch_data'를 사용\r\n",
        "\r\n",
        "chapter03_02 까지 **K-최근접 이웃 회귀**, **선형 회귀**, **다항 회귀**를 사용했지만 \r\n",
        "\r\n",
        "과대적합과 과소적합 문제가 남아있었다. 이를 해결하기 위한 방법을 학습하겠다.\r\n",
        "*   여러가지 특성을 사용한 다중 회귀를 학습\r\n",
        "*   sklearn이 제공하는 여러 변환기 학습\r\n",
        "*   과대적합 해결 방법\r\n",
        "  *   Ridge Regression\r\n",
        "  *   Lasso Regression\r\n",
        "\r\n",
        "\r\n",
        "\r\n",
        "\r\n",
        "\r\n",
        "\r\n",
        "\r\n",
        "\r\n",
        "\r\n",
        "\r\n",
        "\r\n",
        "\r\n"
      ]
    },
    {
      "cell_type": "markdown",
      "metadata": {
        "id": "FFEHtxQ7JRd1"
      },
      "source": [
        "##데이터 준비"
      ]
    },
    {
      "cell_type": "code",
      "metadata": {
        "colab": {
          "base_uri": "https://localhost:8080/"
        },
        "id": "h_9QQ9Co7Sj0",
        "outputId": "a337448e-4b20-4895-b507-274e63e00744"
      },
      "source": [
        "import pandas as pd\r\n",
        "df=pd.read_csv('https://bit.ly/perch_csv')\r\n",
        "perch_data=df.to_numpy()\r\n",
        "print(perch_data[:5])"
      ],
      "execution_count": 1,
      "outputs": [
        {
          "output_type": "stream",
          "text": [
            "[[ 8.4   2.11  1.41]\n",
            " [13.7   3.53  2.  ]\n",
            " [15.    3.82  2.43]\n",
            " [16.2   4.59  2.63]\n",
            " [17.4   4.59  2.94]]\n"
          ],
          "name": "stdout"
        }
      ]
    },
    {
      "cell_type": "code",
      "metadata": {
        "id": "A1m5Rv-nJXyn"
      },
      "source": [
        "import numpy as np\r\n",
        "perch_weight = np.array([5.9, 32.0, 40.0, 51.5, 70.0, 100.0, 78.0, 80.0, 85.0, 85.0, 110.0,\r\n",
        "       115.0, 125.0, 130.0, 120.0, 120.0, 130.0, 135.0, 110.0, 130.0,\r\n",
        "       150.0, 145.0, 150.0, 170.0, 225.0, 145.0, 188.0, 180.0, 197.0,\r\n",
        "       218.0, 300.0, 260.0, 265.0, 250.0, 250.0, 300.0, 320.0, 514.0,\r\n",
        "       556.0, 840.0, 685.0, 700.0, 700.0, 690.0, 900.0, 650.0, 820.0,\r\n",
        "       850.0, 900.0, 1015.0, 820.0, 1100.0, 1000.0, 1100.0, 1000.0,\r\n",
        "       1000.0])"
      ],
      "execution_count": 2,
      "outputs": []
    },
    {
      "cell_type": "code",
      "metadata": {
        "id": "oiX0DO9sNtsR"
      },
      "source": [
        "from sklearn.model_selection import train_test_split\r\n",
        "x_train,x_test,y_train,y_test=train_test_split(perch_data,perch_weight,random_state=42)"
      ],
      "execution_count": 3,
      "outputs": []
    },
    {
      "cell_type": "code",
      "metadata": {
        "colab": {
          "base_uri": "https://localhost:8080/"
        },
        "id": "ppClvVIEN9_H",
        "outputId": "e947a196-56be-4511-9110-5a6dbceeb3bc"
      },
      "source": [
        "print(x_train[:5],'\\n',y_train[:5])"
      ],
      "execution_count": 4,
      "outputs": [
        {
          "output_type": "stream",
          "text": [
            "[[19.6   5.14  3.04]\n",
            " [22.    5.88  3.52]\n",
            " [18.7   5.2   3.12]\n",
            " [17.4   4.59  2.94]\n",
            " [36.   10.61  6.74]] \n",
            " [ 85. 135.  78.  70. 700.]\n"
          ],
          "name": "stdout"
        }
      ]
    },
    {
      "cell_type": "markdown",
      "metadata": {
        "id": "pMbH1ocSJYag"
      },
      "source": [
        "##Sklearn의 변환기"
      ]
    },
    {
      "cell_type": "markdown",
      "metadata": {
        "id": "xzBxH8NAONVt"
      },
      "source": [
        "sklearn의 변환기로 PolynomialFeatures와 StandardScalar를 사용하겠다.\r\n",
        "\r\n",
        "sklearn의 변환기 클래스는 모두 **fit()**, **transform()** 메소드를 제공한다.\r\n",
        "\r\n",
        "PolynomialFeatures의 옵션으로 **include_bias=False**를 하면 절편항이 나오지않는다.\r\n"
      ]
    },
    {
      "cell_type": "code",
      "metadata": {
        "colab": {
          "base_uri": "https://localhost:8080/"
        },
        "id": "CdJ0ZIZlKVfK",
        "outputId": "f084edf6-96cc-4f55-f3d0-ddccc9308063"
      },
      "source": [
        "from sklearn.preprocessing import PolynomialFeatures\r\n",
        "poly=PolynomialFeatures(include_bias=False)\r\n",
        "poly.fit(x_train)\r\n",
        "x_train_poly=poly.transform(x_train)\r\n",
        "x_test_poly=poly.transform(x_test)\r\n",
        "print(x_train_poly.shape)\r\n",
        "poly.get_feature_names()"
      ],
      "execution_count": 5,
      "outputs": [
        {
          "output_type": "stream",
          "text": [
            "(42, 9)\n"
          ],
          "name": "stdout"
        },
        {
          "output_type": "execute_result",
          "data": {
            "text/plain": [
              "['x0', 'x1', 'x2', 'x0^2', 'x0 x1', 'x0 x2', 'x1^2', 'x1 x2', 'x2^2']"
            ]
          },
          "metadata": {
            "tags": []
          },
          "execution_count": 5
        }
      ]
    },
    {
      "cell_type": "markdown",
      "metadata": {
        "id": "3LbDR4ocP5AY"
      },
      "source": [
        "x0: 첫번째 특성 \r\n",
        "\r\n",
        "x0^2: 첫번째 특성의 제곱항 \r\n",
        "\r\n",
        "x0x1: 첫번째 특성과 두번째특성의 곱셈항\r\n",
        "\r\n",
        "**항상 train_set을 기준으로 test_set를 변환하는 습관기르기.**"
      ]
    },
    {
      "cell_type": "markdown",
      "metadata": {
        "id": "WwYxAmUHJcl2"
      },
      "source": [
        "## Multiple Regression Model : 다중회귀"
      ]
    },
    {
      "cell_type": "markdown",
      "metadata": {
        "id": "lBHQZ5VPRkAc"
      },
      "source": [
        "sklearn의 **LinearRegression** 은 **선형회귀**, **다항회귀**, **다중회귀** 모두를 지원한다.\r\n",
        "\r\n",
        "PolynomialFeatures를 이용한 train_set을 가지고 모형을 학습한다.(**degree=2,default**)\r\n",
        "\r\n"
      ]
    },
    {
      "cell_type": "code",
      "metadata": {
        "colab": {
          "base_uri": "https://localhost:8080/"
        },
        "id": "5sMD8iJ7KWR9",
        "outputId": "1ca7a0a1-1005-458a-873b-fa3ff313f578"
      },
      "source": [
        "from sklearn.linear_model import LinearRegression\r\n",
        "lr=LinearRegression()\r\n",
        "lr.fit(x_train_poly,y_train)\r\n",
        "print('train_set의 R^2:',lr.score(x_train_poly,y_train))\r\n",
        "print('test_set의 R^2:',lr.score(x_test_poly,y_test))"
      ],
      "execution_count": 6,
      "outputs": [
        {
          "output_type": "stream",
          "text": [
            "train_set의 R^2: 0.9903183436982124\n",
            "test_set의 R^2: 0.9714559911594132\n"
          ],
          "name": "stdout"
        }
      ]
    },
    {
      "cell_type": "markdown",
      "metadata": {
        "id": "nJzuIPjdRjfG"
      },
      "source": [
        "이번에는 PolynomialFeatures의 **degree를 5**로 수정하여 변환 후 모형을 학습한다.\r\n"
      ]
    },
    {
      "cell_type": "code",
      "metadata": {
        "colab": {
          "base_uri": "https://localhost:8080/"
        },
        "id": "fmtzVuU0RGVD",
        "outputId": "ac98798c-a702-43e3-9e76-7c5b92ad252c"
      },
      "source": [
        "poly=PolynomialFeatures(degree=5,include_bias=False)\r\n",
        "poly.fit(x_train)\r\n",
        "x_train_poly=poly.transform(x_train)\r\n",
        "x_test_poly=poly.transform(x_test)\r\n",
        "print(x_train_poly.shape)\r\n",
        "\r\n"
      ],
      "execution_count": 7,
      "outputs": [
        {
          "output_type": "stream",
          "text": [
            "(42, 55)\n"
          ],
          "name": "stdout"
        }
      ]
    },
    {
      "cell_type": "code",
      "metadata": {
        "colab": {
          "base_uri": "https://localhost:8080/"
        },
        "id": "DtLPBXKITATb",
        "outputId": "c647b09c-fe76-40ff-cc5d-85c4645a1adb"
      },
      "source": [
        "lr.fit(x_train_poly,y_train)\r\n",
        "print('train_set의 R^2:',lr.score(x_train_poly,y_train))\r\n",
        "print('test_set의 R^2:',lr.score(x_test_poly,y_test))"
      ],
      "execution_count": 8,
      "outputs": [
        {
          "output_type": "stream",
          "text": [
            "train_set의 R^2: 0.9999999999991096\n",
            "test_set의 R^2: -144.40579242335605\n"
          ],
          "name": "stdout"
        }
      ]
    },
    {
      "cell_type": "markdown",
      "metadata": {
        "id": "5CHC6dtJTSLj"
      },
      "source": [
        "train_set의 점수를 보면 거의 완벽에 가까운 학습이지만,\r\n",
        "\r\n",
        "test_set의 점수를 보면 음수가 나왔다.\r\n",
        "\r\n",
        "특성의 개수를 크게 늘리면 train_set에 대해서 너무 과대적합되어서 \r\n",
        "\r\n",
        "test_set에서 유의미한 결과를 얻을 수 없다."
      ]
    },
    {
      "cell_type": "markdown",
      "metadata": {
        "id": "hEbRAvzkJjqS"
      },
      "source": [
        "## Regularization"
      ]
    },
    {
      "cell_type": "markdown",
      "metadata": {
        "id": "pRbzjaUmTxTB"
      },
      "source": [
        "**규제는 ML모델이 train_set을 과대적합되지 않도록 만든다.**\r\n",
        "\r\n",
        "선형 회귀 모델의 경우 **특성에 곱해지는 계수의 크기를 작게 만드는 일**.\r\n",
        "\r\n",
        "계수의 크기를 작게하기 전에 scale을 조정하여 진행한다.\r\n",
        "\r\n",
        "이때 sklearn의 **StandardScalar** 변환기를 이용하여 scale 조정을 한다."
      ]
    },
    {
      "cell_type": "code",
      "metadata": {
        "colab": {
          "base_uri": "https://localhost:8080/"
        },
        "id": "VfX4_7rFTws_",
        "outputId": "d1761a3e-85a7-4368-ac71-64955df60fb4"
      },
      "source": [
        "from sklearn.preprocessing import StandardScaler\r\n",
        "ss=StandardScaler()\r\n",
        "ss.fit(x_train_poly)\r\n",
        "x_train_scaled=ss.transform(x_train_poly)\r\n",
        "x_test_scaled=ss.transform(x_test_poly)\r\n",
        "print(x_train_scaled[:5])"
      ],
      "execution_count": 9,
      "outputs": [
        {
          "output_type": "stream",
          "text": [
            "[[-1.01339619 -1.01007487 -1.01952321 -0.9549757  -0.9496784  -0.95745849\n",
            "  -0.93942079 -0.94342509 -0.94100107 -0.88757122 -0.88399964 -0.89100599\n",
            "  -0.87785292 -0.88311456 -0.88430909 -0.8691891  -0.87259422 -0.87147928\n",
            "  -0.86603533 -0.82233944 -0.82171953 -0.8280588  -0.81928269 -0.82512549\n",
            "  -0.8278857  -0.81486775 -0.82006923 -0.82177279 -0.82010716 -0.80835934\n",
            "  -0.81274154 -0.81321125 -0.8098514  -0.80275974 -0.7637909  -0.76597773\n",
            "  -0.77150714 -0.76668667 -0.77246614 -0.77577893 -0.76571689 -0.77162398\n",
            "  -0.77472752 -0.77517751 -0.76290623 -0.76877311 -0.77148634 -0.77113383\n",
            "  -0.767785   -0.75814062 -0.76376113 -0.76586966 -0.76449499 -0.75967179\n",
            "  -0.75143746]\n",
            " [-0.73842893 -0.75254307 -0.74466913 -0.76472563 -0.7717585  -0.77238267\n",
            "  -0.7747325  -0.77298293 -0.76716811 -0.76291014 -0.76770896 -0.77117372\n",
            "  -0.7701438  -0.77242144 -0.77168016 -0.7701077  -0.7710676  -0.76852551\n",
            "  -0.76268353 -0.74414953 -0.74888304 -0.75336339 -0.75182759 -0.75602974\n",
            "  -0.75767358 -0.75276277 -0.75654505 -0.75734709 -0.75530344 -0.75151822\n",
            "  -0.75470284 -0.7544831  -0.75094965 -0.74419754 -0.71646953 -0.72192479\n",
            "  -0.72646818 -0.72588462 -0.73075731 -0.73343457 -0.72812394 -0.73321011\n",
            "  -0.73576127 -0.73592752 -0.72845668 -0.73359433 -0.73584309 -0.73529384\n",
            "  -0.73201564 -0.72674557 -0.73173294 -0.73346797 -0.73198449 -0.72731765\n",
            "  -0.71950111]\n",
            " [-1.11650891 -0.98919391 -0.97371419 -1.02065999 -0.9714645  -0.97031097\n",
            "  -0.92689165 -0.92331614 -0.91379551 -0.92715994 -0.90484569 -0.90818436\n",
            "  -0.88325413 -0.88524768 -0.88320326 -0.86212687 -0.8626609  -0.85882187\n",
            "  -0.85087284 -0.84515835 -0.83603176 -0.84079274 -0.82638952 -0.83079371\n",
            "  -0.83208203 -0.81597363 -0.81987137 -0.82028273 -0.81736635 -0.80456916\n",
            "  -0.80778177 -0.8071358  -0.80274122 -0.79471984 -0.77647055 -0.7747107\n",
            "  -0.77954793 -0.77201712 -0.77715994 -0.77980618 -0.76815525 -0.77347623\n",
            "  -0.77598118 -0.77583274 -0.76292803 -0.76825674 -0.77043638 -0.76956644\n",
            "  -0.76572715 -0.75618509 -0.76131482 -0.76295353 -0.76114089 -0.75592147\n",
            "  -0.74734146]\n",
            " [-1.26544951 -1.20148364 -1.07678447 -1.11008743 -1.0794873  -1.04481394\n",
            "  -1.04749571 -1.01503633 -0.97401432 -0.97797552 -0.96206357 -0.95311717\n",
            "  -0.94494104 -0.93616908 -0.92216271 -0.92657374 -0.91767167 -0.90326519\n",
            "  -0.88389764 -0.87277966 -0.86595922 -0.86595024 -0.85791159 -0.85811849\n",
            "  -0.85466876 -0.84844182 -0.84865284 -0.84485699 -0.83730095 -0.83740083\n",
            "  -0.83737596 -0.83299282 -0.82444653 -0.81195514 -0.79094785 -0.79002471\n",
            "  -0.79296975 -0.78789053 -0.79137034 -0.79211294 -0.78433109 -0.78819625\n",
            "  -0.78901097 -0.78696782 -0.77917142 -0.78322886 -0.78390951 -0.78134156\n",
            "  -0.77563796 -0.772285   -0.77630519 -0.77661386 -0.77327799 -0.76637441\n",
            "  -0.75598575]\n",
            " [ 0.86554673  0.89357239  1.09914363  0.78258063  0.79878122  0.93990033\n",
            "   0.80045116  0.93459078  1.05668676  0.67651527  0.68764875  0.8012992\n",
            "   0.69013427  0.8009429   0.90667389  0.68467425  0.79166951  0.89283215\n",
            "   0.98585419  0.55968474  0.5684443   0.66456056  0.57131856  0.66655179\n",
            "   0.75972558  0.56845191  0.66202726  0.75298615  0.83966967  0.56005916\n",
            "   0.65121087  0.73912961  0.82199596  0.89806256  0.44114502  0.44855713\n",
            "   0.53098988  0.45173534  0.53431582  0.61642373  0.45063976  0.53277501\n",
            "   0.61411072  0.69346369  0.44529494  0.526359    0.60623382  0.6835692\n",
            "   0.75701341  0.43580198  0.51515579  0.5928749   0.66744993  0.73737814\n",
            "   0.80118751]]\n"
          ],
          "name": "stdout"
        }
      ]
    },
    {
      "cell_type": "markdown",
      "metadata": {
        "id": "V8U1NdTRKCRg"
      },
      "source": [
        "###Ridge Regression"
      ]
    },
    {
      "cell_type": "markdown",
      "metadata": {
        "id": "Kb5guh9wVHyP"
      },
      "source": [
        "계수를 제곱한 값을 기준으로 규제를 적용\r\n",
        "\r\n",
        "alpha 매개변수로 **규제의 강도**를 조절. alpha 값이 **클**수록 **규제가 세지며**, **default=1**\r\n"
      ]
    },
    {
      "cell_type": "code",
      "metadata": {
        "colab": {
          "base_uri": "https://localhost:8080/"
        },
        "id": "b18D3QPkKSER",
        "outputId": "43282180-4cc5-4305-b529-f4736a962fdb"
      },
      "source": [
        "from sklearn.linear_model import Ridge\r\n",
        "ridge=Ridge()\r\n",
        "ridge.fit(x_train_scaled,y_train)\r\n",
        "print('train_set의 R^2 : ',ridge.score(x_train_scaled,y_train))\r\n",
        "print('test_set의 R^2 : ',ridge.score(x_test_scaled,y_test))"
      ],
      "execution_count": 10,
      "outputs": [
        {
          "output_type": "stream",
          "text": [
            "train_set의 R^2 :  0.9896101671037343\n",
            "test_set의 R^2 :  0.9790693977615398\n"
          ],
          "name": "stdout"
        }
      ]
    },
    {
      "cell_type": "markdown",
      "metadata": {
        "id": "NgLekVlmW-9h"
      },
      "source": [
        "alpha 값이 **크면** 규제 강도가 세지므로 **계수 값을 줄여 과소적합되도록 유도**.\r\n",
        "\r\n",
        "alpha 값이 **작으면** 계수를 줄이는 역할이 줄어들고 **과대적합될 가능성이 큼**.\r\n",
        "\r\n",
        "적절한 alpha를 찾기 위해 alpha 값에 대한 R^2 그래프 그려보기."
      ]
    },
    {
      "cell_type": "code",
      "metadata": {
        "id": "kg-eK4TWW1o0"
      },
      "source": [
        "import matplotlib.pyplot as plt\r\n",
        "train_score=[]\r\n",
        "test_score=[]\r\n",
        "\r\n",
        "alpha=[0.001,0.01,0.1,1,10,100]\r\n",
        "for a in alpha:\r\n",
        "  ridge=Ridge(alpha=a)\r\n",
        "  ridge.fit(x_train_scaled,y_train)\r\n",
        "  train_score.append(ridge.score(x_train_scaled,y_train))\r\n",
        "  test_score.append(ridge.score(x_test_scaled,y_test))"
      ],
      "execution_count": 11,
      "outputs": []
    },
    {
      "cell_type": "code",
      "metadata": {
        "colab": {
          "base_uri": "https://localhost:8080/",
          "height": 295
        },
        "id": "i-cDmaqOXzWA",
        "outputId": "76c22a7d-e68b-4188-8a3d-17474144d9ce"
      },
      "source": [
        "plt.plot(np.log10(alpha),train_score,label='train')\r\n",
        "plt.plot(np.log10(alpha),test_score,label='test')\r\n",
        "plt.xlabel('log10(alpha)')\r\n",
        "plt.ylabel('score')\r\n",
        "plt.legend(loc='best')\r\n",
        "plt.title('Select Alpha with Ridge Using Graph')\r\n",
        "plt.show()"
      ],
      "execution_count": 12,
      "outputs": [
        {
          "output_type": "display_data",
          "data": {
            "image/png": "[encoded data removed]",
            "text/plain": [
              "<Figure size 432x288 with 1 Axes>"
            ]
          },
          "metadata": {
            "tags": [],
            "needs_background": "light"
          }
        }
      ]
    },
    {
      "cell_type": "markdown",
      "metadata": {
        "id": "ioKvfhNBYhnc"
      },
      "source": [
        "반복문을 통해 여러가지 alpha를 통한 점수를 리스트에 저장하고, 그래프를 통해 표현한다.\r\n",
        "\r\n",
        "그래프의 **왼쪽을 보면 과대적합**을 보이고, 그래프의 **오른쪽을 보면 과소적합으로 가는 추세**를 보인다.\r\n",
        "\r\n",
        "**적절한 alpha는 두 그래프가 가장 가깝고 test_set 점수가 가장 높은 -1즉 0.1이다.**\r\n",
        "\r\n"
      ]
    },
    {
      "cell_type": "code",
      "metadata": {
        "colab": {
          "base_uri": "https://localhost:8080/"
        },
        "id": "UARhTzBXYVFn",
        "outputId": "ddf32bcb-c494-41a5-e987-0fced466f249"
      },
      "source": [
        "ridge=Ridge(alpha=0.1)\r\n",
        "ridge.fit(x_train_scaled,y_train)\r\n",
        "print('train_set의 R^2 with Ridge  : ',ridge.score(x_train_scaled,y_train))\r\n",
        "print('test_set의 R^2 with Ridge  : ',ridge.score(x_test_scaled,y_test))"
      ],
      "execution_count": 13,
      "outputs": [
        {
          "output_type": "stream",
          "text": [
            "train_set의 R^2 with Ridge  :  0.9903815817570366\n",
            "test_set의 R^2 with Ridge  :  0.9827976465386927\n"
          ],
          "name": "stdout"
        }
      ]
    },
    {
      "cell_type": "markdown",
      "metadata": {
        "id": "z9OxJiaVKK8p"
      },
      "source": [
        "###Lasso Regression"
      ]
    },
    {
      "cell_type": "markdown",
      "metadata": {
        "id": "q0aGC9pOZiYt"
      },
      "source": [
        "계수의 절댓값을 기준으로 규제를 적용\r\n",
        "\r\n",
        "일반적으로 **Ridge를 더 선호**하고 두 알고리즘 모두 계수의 크기를 줄이지만,\r\n",
        "\r\n",
        "**Lasso는 계수를 0으로 만들 수 도 있다.**\r\n",
        "\r\n",
        "\r\n",
        "Lasso는 최적의 모델을 찾기 위해 좌표축을 따라 최적화를 수행해가는 **좌표하강법**을 사용\r\n",
        "\r\n",
        "**alpha**와 **random_state** 매개변수는 Ridge와 동일\r\n",
        "\r\n",
        "**max_iter**는 알고리즘의 수행 반복 횟수 지정, **default=1000**"
      ]
    },
    {
      "cell_type": "code",
      "metadata": {
        "colab": {
          "base_uri": "https://localhost:8080/"
        },
        "id": "47lsxahmKQLg",
        "outputId": "6ec3c91a-b22c-480c-c8b7-96d3f0cc4ee8"
      },
      "source": [
        "from sklearn.linear_model import Lasso\r\n",
        "lasso=Lasso()\r\n",
        "lasso.fit(x_train_scaled,y_train)\r\n",
        "print('train_set의 R^2 with Lasso: ',lasso.score(x_train_scaled,y_train))\r\n",
        "print('test_set의 R^2 with Lasso : ',lasso.score(x_test_scaled,y_test))\r\n"
      ],
      "execution_count": 14,
      "outputs": [
        {
          "output_type": "stream",
          "text": [
            "train_set의 R^2 with Lasso:  0.9897898972080961\n",
            "test_set의 R^2 with Lasso :  0.9800593698421883\n"
          ],
          "name": "stdout"
        }
      ]
    },
    {
      "cell_type": "code",
      "metadata": {
        "colab": {
          "base_uri": "https://localhost:8080/"
        },
        "id": "iIeCaWXdbQrf",
        "outputId": "810ca3cb-2960-4765-8ea3-fa06ff7094cc"
      },
      "source": [
        "train_score=[]\r\n",
        "test_score=[]\r\n",
        "\r\n",
        "alpha=[0.001,0.01,0.1,1,10,100]\r\n",
        "for a in alpha:\r\n",
        "  lasso=Lasso(alpha=a,max_iter=10000)\r\n",
        "  lasso.fit(x_train_scaled,y_train)\r\n",
        "  train_score.append(lasso.score(x_train_scaled,y_train))\r\n",
        "  test_score.append(lasso.score(x_test_scaled,y_test))"
      ],
      "execution_count": 15,
      "outputs": [
        {
          "output_type": "stream",
          "text": [
            "/usr/local/lib/python3.6/dist-packages/sklearn/linear_model/_coordinate_descent.py:476: ConvergenceWarning: Objective did not converge. You might want to increase the number of iterations. Duality gap: 18778.697957792876, tolerance: 518.2793833333334\n",
            "  positive)\n",
            "/usr/local/lib/python3.6/dist-packages/sklearn/linear_model/_coordinate_descent.py:476: ConvergenceWarning: Objective did not converge. You might want to increase the number of iterations. Duality gap: 12972.821345404844, tolerance: 518.2793833333334\n",
            "  positive)\n"
          ],
          "name": "stderr"
        }
      ]
    },
    {
      "cell_type": "code",
      "metadata": {
        "colab": {
          "base_uri": "https://localhost:8080/",
          "height": 295
        },
        "id": "Gh5c5Xg-boAl",
        "outputId": "3b39dde9-decf-41e4-dbd0-894420e88b84"
      },
      "source": [
        "plt.plot(np.log10(alpha),train_score,label='train')\r\n",
        "plt.plot(np.log10(alpha),test_score,label='test')\r\n",
        "plt.xlabel('log10(alpha)')\r\n",
        "plt.ylabel('score')\r\n",
        "plt.legend(loc='best')\r\n",
        "plt.title('Select Alpha with Lasso Using Graph')\r\n",
        "plt.show()"
      ],
      "execution_count": 16,
      "outputs": [
        {
          "output_type": "display_data",
          "data": {
            "image/png": "[encoded data removed]",
            "text/plain": [
              "<Figure size 432x288 with 1 Axes>"
            ]
          },
          "metadata": {
            "tags": [],
            "needs_background": "light"
          }
        }
      ]
    },
    {
      "cell_type": "markdown",
      "metadata": {
        "id": "eTWHWcL1cFrt"
      },
      "source": [
        "Lasso 그래프도 Ridge 그래프와 비슷하게 **왼쪽에서는 과대적합**을 보여준다.\r\n",
        "\r\n",
        "**오른쪽으로 갈수록 train_set과 test_set의 격차가 줄어들고**\r\n",
        "\r\n",
        "**가장 오른쪽**은 두 점수 모두 떨어지면 **과소적합**을 보인다.\r\n",
        "\r\n",
        "적절한 alpha로 1, 즉 10을 선택하여 모델링을 하겠다."
      ]
    },
    {
      "cell_type": "code",
      "metadata": {
        "colab": {
          "base_uri": "https://localhost:8080/"
        },
        "id": "sJ1_JTegb-az",
        "outputId": "3d8b12fa-fa5a-4200-c6ea-8b62103db998"
      },
      "source": [
        "lasso=Lasso(alpha=10)\r\n",
        "lasso.fit(x_train_scaled,y_train)\r\n",
        "print('train_set의 R^2 with Lasso: ',lasso.score(x_train_scaled,y_train))\r\n",
        "print('test_set의 R^2 with Lasso : ',lasso.score(x_test_scaled,y_test))\r\n"
      ],
      "execution_count": 17,
      "outputs": [
        {
          "output_type": "stream",
          "text": [
            "train_set의 R^2 with Lasso:  0.9888067471131867\n",
            "test_set의 R^2 with Lasso :  0.9824470598706695\n"
          ],
          "name": "stdout"
        }
      ]
    },
    {
      "cell_type": "markdown",
      "metadata": {
        "id": "qw5UTLoEdbEL"
      },
      "source": [
        "Lasso 모형의 계수는 coef_에 저장되어있다.\r\n",
        "\r\n",
        "위 모형에서 0이된 계수의 개수를 찾아보자."
      ]
    },
    {
      "cell_type": "code",
      "metadata": {
        "colab": {
          "base_uri": "https://localhost:8080/"
        },
        "id": "HUNUY1l2dXNI",
        "outputId": "c2ab8baf-9331-45dd-c563-981774faa54c"
      },
      "source": [
        "print(np.sum(lasso.coef_==0))"
      ],
      "execution_count": 18,
      "outputs": [
        {
          "output_type": "stream",
          "text": [
            "40\n"
          ],
          "name": "stdout"
        }
      ]
    },
    {
      "cell_type": "markdown",
      "metadata": {
        "id": "Yuumd7bzd59D"
      },
      "source": [
        "Lasso모형 계수가 **0**인 것의 합이 **40**이므로 총 **55**개의 polynomial 특성중\r\n",
        "\r\n",
        "모형에 사용한 특성은 **15**개가 된다.\r\n",
        "\r\n",
        "이런 특징으로 **Lasso 모델은 유용한 특성을 고르는 용도로 사용이 가능하다**."
      ]
    }
  ]
}