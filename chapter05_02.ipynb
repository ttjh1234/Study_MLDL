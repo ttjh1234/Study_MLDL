{
  "nbformat": 4,
  "nbformat_minor": 0,
  "metadata": {
    "colab": {
      "name": "chapter05_02.ipynb",
      "provenance": [],
      "collapsed_sections": [],
      "authorship_tag": "ABX9TyPrUgT/12nmn4QSQcir/JTu",
      "include_colab_link": true
    },
    "kernelspec": {
      "name": "python3",
      "display_name": "Python 3"
    }
  },
  "cells": [
    {
      "cell_type": "markdown",
      "metadata": {
        "id": "view-in-github",
        "colab_type": "text"
      },
      "source": [
        "<a href=\"https://colab.research.google.com/github/ttjh1234/Study_MLDL/blob/main/chapter05_02.ipynb\" target=\"_parent\"><img src=\"https://colab.research.google.com/assets/colab-badge.svg\" alt=\"Open In Colab\"/></a>"
      ]
    },
    {
      "cell_type": "markdown",
      "metadata": {
        "id": "Igl0evEfryR7"
      },
      "source": [
        "#교차 검증과 그리드 서치"
      ]
    },
    {
      "cell_type": "markdown",
      "metadata": {
        "id": "mrn5W6-PtZuV"
      },
      "source": [
        "이제껏 한 모델평가와 모델링 방법에서는 train_set으로 모델을 훈련시키고,\r\n",
        "\r\n",
        "test_set으로 평가하는 방법을 사용하였다.\r\n",
        "\r\n",
        "하지만 이러한 방법으로 최적의 점수를 맞추도록 모델을 조정한다면, 이 방법 또한 test_set에 맞추는 셈이 된다.\r\n",
        "\r\n",
        "이것은 일반화 성능을 올릴 수 있다고 단언할 수 없다.\r\n",
        "\r\n",
        "가능한 test_set은 모델을 만들고 나서 마지막에 딱 한 번 사용하는 것이 좋다.\r\n",
        "\r\n",
        "따라서 train_set ,test_set을 나눈 후 **train_set의 20%를 valid_set으로 나눈다.**\r\n",
        "\r\n",
        "**과정**\r\n",
        "\r\n",
        "1. train_set으로 모델 훈련\r\n",
        "2. valid_set으로 모델 평가 -> 최적의 parameter를 찾기\r\n",
        "3. train_set과 valid_set으로 모델 재훈련\r\n",
        "4. test_set으로 평가\r\n",
        "\r\n",
        "\r\n",
        "\r\n"
      ]
    },
    {
      "cell_type": "markdown",
      "metadata": {
        "id": "eCYexplauWNX"
      },
      "source": [
        "##검증 세트\r\n",
        "\r\n",
        "데이터는 chapter05_01에서 사용했던 와인데이터를 가지고 사용한다.\r\n",
        "\r\n",
        "데이터는 'https://bit.ly/wine-date' 를 가져와 사용한다.\r\n"
      ]
    },
    {
      "cell_type": "code",
      "metadata": {
        "id": "KtupJF_PrvQy"
      },
      "source": [
        "import pandas as pd\r\n",
        "wine_data=pd.read_csv('https://bit.ly/wine-date')"
      ],
      "execution_count": 1,
      "outputs": []
    },
    {
      "cell_type": "code",
      "metadata": {
        "colab": {
          "base_uri": "https://localhost:8080/"
        },
        "id": "SZ4NZT6Buq5h",
        "outputId": "a9749a9d-0c04-47b5-ce41-05dce80f7eff"
      },
      "source": [
        "x=wine_data[['alcohol','sugar','pH']].to_numpy()\r\n",
        "y=wine_data['class'].to_numpy()\r\n",
        "print(x[:5])"
      ],
      "execution_count": 3,
      "outputs": [
        {
          "output_type": "stream",
          "text": [
            "[[9.4  1.9  3.51]\n",
            " [9.8  2.6  3.2 ]\n",
            " [9.8  2.3  3.26]\n",
            " [9.8  1.9  3.16]\n",
            " [9.4  1.9  3.51]]\n"
          ],
          "name": "stdout"
        }
      ]
    },
    {
      "cell_type": "markdown",
      "metadata": {
        "id": "EVrbfkjZwHkD"
      },
      "source": [
        "먼저 전체 dataset을 train_set과 test_set을 8:2 비율로 나눠준다."
      ]
    },
    {
      "cell_type": "code",
      "metadata": {
        "colab": {
          "base_uri": "https://localhost:8080/"
        },
        "id": "KRp8meZ7u5OQ",
        "outputId": "f707f039-39d2-443d-da57-b7a27054aea6"
      },
      "source": [
        "from sklearn.model_selection import train_test_split\r\n",
        "x_train,x_test,y_train,y_test = train_test_split(x,y,test_size=0.2,random_state=42)\r\n",
        "\r\n",
        "print(x_train.shape)"
      ],
      "execution_count": 4,
      "outputs": [
        {
          "output_type": "stream",
          "text": [
            "(5197, 3)\n"
          ],
          "name": "stdout"
        }
      ]
    },
    {
      "cell_type": "markdown",
      "metadata": {
        "id": "tLo_IH2ZwN6o"
      },
      "source": [
        "그 후 train_set을 다시 8:2의 비율로 train_sub_set과 valid_set으로 나눠준다.\r\n",
        "\r\n",
        "원래 train_set은 5197개의 데이터가 존재했지만, 분할 후 80%인 4157개의 데이터셋이 되었다."
      ]
    },
    {
      "cell_type": "code",
      "metadata": {
        "colab": {
          "base_uri": "https://localhost:8080/"
        },
        "id": "dWzLiXn9vO6X",
        "outputId": "5a9e3cdf-1aaa-4937-e202-1c6500f04407"
      },
      "source": [
        "x_train_sub,x_valid,y_train_sub,y_valid=train_test_split(x_train,y_train,test_size=0.2,random_state=42)\r\n",
        "\r\n",
        "print(x_train_sub.shape,x_valid.shape)"
      ],
      "execution_count": 5,
      "outputs": [
        {
          "output_type": "stream",
          "text": [
            "(4157, 3) (1040, 3)\n"
          ],
          "name": "stdout"
        }
      ]
    },
    {
      "cell_type": "code",
      "metadata": {
        "colab": {
          "base_uri": "https://localhost:8080/"
        },
        "id": "UPkObf7TvfxR",
        "outputId": "b99322d6-1cc4-4282-e427-b553a0b0163a"
      },
      "source": [
        "from sklearn.tree import DecisionTreeClassifier\r\n",
        "dt=DecisionTreeClassifier(random_state=42)\r\n",
        "dt.fit(x_train_sub,y_train_sub)\r\n",
        "print('train_set의 점수 : ',dt.score(x_train_sub,y_train_sub))\r\n",
        "print('valid_set의 점수 : ',dt.score(x_valid,y_valid))"
      ],
      "execution_count": 7,
      "outputs": [
        {
          "output_type": "stream",
          "text": [
            "train_set의 점수 :  0.9971133028626413\n",
            "valid_set의 점수 :  0.864423076923077\n"
          ],
          "name": "stdout"
        }
      ]
    },
    {
      "cell_type": "markdown",
      "metadata": {
        "id": "E2l9PkNqwl5q"
      },
      "source": [
        "확실히 아직도 train_set에 대해 **과대적합**이 이루어졌다. \r\n",
        "\r\n",
        "모형의 매개변수를 조정하여 더 좋은 모델을 찾아야하지만, 검증세트에대해 더 알아보겠다."
      ]
    },
    {
      "cell_type": "markdown",
      "metadata": {
        "id": "NhhALbuYw0A6"
      },
      "source": [
        "##교차 검증"
      ]
    },
    {
      "cell_type": "markdown",
      "metadata": {
        "id": "pgtKTfCDw4V2"
      },
      "source": [
        "valid_set을 만드느라 train_set의 데이터 수가 줄었다.\r\n",
        "\r\n",
        "보토 많은 데이터를 훈련에 사용할 수록 좋은 모델이 만들어지는데, 그렇다고 검증세트를 너무 조금쓰게 되면 검증 점수가 불안정해진다.\r\n",
        "\r\n",
        "따라서 **교차 검증**을 사용하여 모델을 훈련 및 평가를 진행한다.\r\n",
        "\r\n",
        "교차검증은 검증 세트를 떼어 내어 평가하는 과정을 여러 번 반복한 후, \r\n",
        "\r\n",
        "이 점수를 평균하여 최종 검증 점수를 얻는다.\r\n",
        "\r\n",
        "![k_fold_cross_validation.PNG](data:image/png;base64,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)\r\n",
        "\r\n",
        "교차 검증은 sklearn.model_selection 의 **cross_validate**를 사용"
      ]
    },
    {
      "cell_type": "code",
      "metadata": {
        "colab": {
          "base_uri": "https://localhost:8080/"
        },
        "id": "CSg572XY0Yca",
        "outputId": "a5a9eadb-a84b-4e69-9ee1-b80272d75440"
      },
      "source": [
        "from sklearn.model_selection import cross_validate\r\n",
        "scores=cross_validate(dt,x_train,y_train)\r\n",
        "print(scores)"
      ],
      "execution_count": 8,
      "outputs": [
        {
          "output_type": "stream",
          "text": [
            "{'fit_time': array([0.00830507, 0.0071466 , 0.00736594, 0.00732923, 0.00698137]), 'score_time': array([0.00080657, 0.00065637, 0.00065565, 0.00068855, 0.00067687]), 'test_score': array([0.86923077, 0.84615385, 0.87680462, 0.84889317, 0.83541867])}\n"
          ],
          "name": "stdout"
        }
      ]
    },
    {
      "cell_type": "markdown",
      "metadata": {
        "id": "ZaIUa_GT0kwS"
      },
      "source": [
        "cross_validate 는 fit_time,score_time,test_score 키를 가진 딕셔너리를 반환.\r\n",
        "\r\n",
        "fit_time은 모델을 훈련하는 시간\r\n",
        "\r\n",
        "score_time은 모델을 검증하는 시간\r\n",
        "\r\n",
        "test_score은 검증 폴드의 점수\r\n",
        "\r\n",
        "cross_validate() 함수는 기본적으로 5-fold 교차 검증을 수행한다.\r\n",
        "\r\n",
        "cv매개변수에서 폴드 수를 변경할 수 있다.\r\n",
        "\r\n",
        "교차검증의 최종 점수는 test_score에 들어있는 **각 폴드들의 검증 점수들을 평균**하여 얻는다.\r\n"
      ]
    },
    {
      "cell_type": "code",
      "metadata": {
        "colab": {
          "base_uri": "https://localhost:8080/"
        },
        "id": "_klMbEjg0jxI",
        "outputId": "8f02be5d-56d4-4af3-c848-b3c9b854fdca"
      },
      "source": [
        "import numpy as np\r\n",
        "print(np.mean(scores['test_score']))"
      ],
      "execution_count": 9,
      "outputs": [
        {
          "output_type": "stream",
          "text": [
            "0.855300214703487\n"
          ],
          "name": "stdout"
        }
      ]
    },
    {
      "cell_type": "markdown",
      "metadata": {
        "id": "bLB2p5Qk1Uyg"
      },
      "source": [
        "주의할 점은 cross_validate()는 train_set을 섞어서 폴드를 나누지않는다.\r\n",
        "\r\n",
        "앞서 우리는 train_test_split을 통해 전체 dataset을 섞은 후 나누었다.\r\n",
        "\r\n",
        "이미 섞어, 섞을 필요가 없지만, 훈련세트를 섞으려면 **분할기(splitter)**를 지정해야한다.\r\n",
        "\r\n",
        "sklearn의 분할기는 교차 검증에서 폴드를 어떻게 나눌지 결정.\r\n",
        "\r\n",
        "cross_validate 함수는 기본적으로 회귀 모형일 경우, KFold 분할기를 사용,\r\n",
        "\r\n",
        "분류 모형일 경우, 타깃 클래스를 골고루 나누기 위해 StratifiedKFold를 사용."
      ]
    },
    {
      "cell_type": "code",
      "metadata": {
        "colab": {
          "base_uri": "https://localhost:8080/"
        },
        "id": "imHT6Il51SlO",
        "outputId": "c295bbde-22df-468d-f7eb-f4e04a6988f7"
      },
      "source": [
        "from sklearn.model_selection import StratifiedKFold\r\n",
        "scores=cross_validate(dt,x_train,y_train,cv=StratifiedKFold())\r\n",
        "print(np.mean(scores['test_score']))"
      ],
      "execution_count": 10,
      "outputs": [
        {
          "output_type": "stream",
          "text": [
            "0.855300214703487\n"
          ],
          "name": "stdout"
        }
      ]
    },
    {
      "cell_type": "markdown",
      "metadata": {
        "id": "aDpd_JPX2_kX"
      },
      "source": [
        "만약 train_set을 섞고, 10-fold 교차 검증을 진행하려면 매개변수를 지정한다.\r\n",
        "\r\n",
        "n_splits는 몇 구간으로 나눌 것인지 지정. (아래에서는 10-fold)\r\n",
        "\r\n",
        "shuffle은 train_set을 섞을 것인지 지정."
      ]
    },
    {
      "cell_type": "code",
      "metadata": {
        "colab": {
          "base_uri": "https://localhost:8080/"
        },
        "id": "DUW0SJWw2s8R",
        "outputId": "7fa0a56e-f64e-46d6-f0c5-4d77319c9317"
      },
      "source": [
        "spliter=StratifiedKFold(n_splits=10,shuffle=True,random_state=42)\r\n",
        "scores=cross_validate(dt,x_train,y_train,cv=spliter)\r\n",
        "print(np.mean(scores['test_score']))"
      ],
      "execution_count": 11,
      "outputs": [
        {
          "output_type": "stream",
          "text": [
            "0.8574181117533719\n"
          ],
          "name": "stdout"
        }
      ]
    },
    {
      "cell_type": "markdown",
      "metadata": {
        "id": "gw2Q0tjn3dnI"
      },
      "source": [
        "##하이퍼 파라미터 튜닝"
      ]
    },
    {
      "cell_type": "markdown",
      "metadata": {
        "id": "2gO9x_FB6-MM"
      },
      "source": [
        "이제 모델의 파라미터들을 조정하면서 가장 좋은 파라미터들을 찾아야한다.\r\n",
        "\r\n",
        "가령 모델의 파라미터가 1개라면 1개의 python의 반복문을 통해서 해도 되지만,\r\n",
        "\r\n",
        "모델의 파라미터는 대게 2개 이상인 것들이 있다.\r\n",
        "\r\n",
        "각 파라미터들이 서로 독립이면 상관이없겠지만, 독립이 아닌 경우가 대부분이라,\r\n",
        "\r\n",
        "1번 파라미터가 최적인 상태로 2번 파라미터의 최적인 값을 구하는 것은 모델 전체적인 최적값을 구하는게 아니게 된다.\r\n",
        "\r\n",
        "따라서 동시에 바꿔가며 최적의 값을 찾아야한다.\r\n",
        "\r\n",
        "sklearn에서는 **Grid Search**를 제공한다.\r\n",
        "\r\n",
        "sklearn의 **GridSearchCV** 클래스는 하이퍼파라미터 탐색과 교차검증을 동시에 수행한다. "
      ]
    },
    {
      "cell_type": "markdown",
      "metadata": {
        "id": "a3fiAI0E8etZ"
      },
      "source": [
        "GridSearchCV의 cv매개변수 기본값은 5이다.\r\n",
        "\r\n",
        "따라서 min_impurity_decrease 값마다 5-fold 교차 검증을 진행하며 총 25개의 모델을 훈련한다.\r\n",
        "\r\n",
        "n_jobs 매개변수는 병렬 실행에 사용할 CPU 코어 수를 지정하는데 기본값은 1이다.\r\n",
        "\r\n",
        "모두 사용하려면 -1을 지정하면 된다.\r\n",
        "\r\n",
        "교차 검증에서 최적의 하이퍼파라미터를 찾으면 전체 훈련세트로 모델을 다시 만들어야한다.\r\n",
        "\r\n",
        "sklearn의 그리드서치는 훈련이 끝나면, 25개의 모델 중에서 검증 점수가 가장 높은 모델의 매개변수 조합으로 전체 훈련 세트에서 자동으로 다시 모델을 훈련한다.\r\n",
        "\r\n",
        "이 모델은 gs 객체의 best_estimator_  속성에 저장되어있다.\r\n",
        "\r\n"
      ]
    },
    {
      "cell_type": "code",
      "metadata": {
        "id": "4cdqNGEM3hjJ"
      },
      "source": [
        "from sklearn.model_selection import GridSearchCV\r\n",
        "params={'min_impurity_decrease':[0.0001,0.0002,0.0003,0.0004,0.0005]}"
      ],
      "execution_count": 12,
      "outputs": []
    },
    {
      "cell_type": "code",
      "metadata": {
        "id": "VP4FqQc48FXb"
      },
      "source": [
        "gs=GridSearchCV(DecisionTreeClassifier(random_state=42),params,n_jobs=-1)"
      ],
      "execution_count": 13,
      "outputs": []
    },
    {
      "cell_type": "code",
      "metadata": {
        "colab": {
          "base_uri": "https://localhost:8080/"
        },
        "id": "ZzBwsSL-8OgJ",
        "outputId": "f52119a0-7848-4478-8163-7350125d86eb"
      },
      "source": [
        "gs.fit(x_train,y_train)"
      ],
      "execution_count": 14,
      "outputs": [
        {
          "output_type": "execute_result",
          "data": {
            "text/plain": [
              "GridSearchCV(cv=None, error_score=nan,\n",
              "             estimator=DecisionTreeClassifier(ccp_alpha=0.0, class_weight=None,\n",
              "                                              criterion='gini', max_depth=None,\n",
              "                                              max_features=None,\n",
              "                                              max_leaf_nodes=None,\n",
              "                                              min_impurity_decrease=0.0,\n",
              "                                              min_impurity_split=None,\n",
              "                                              min_samples_leaf=1,\n",
              "                                              min_samples_split=2,\n",
              "                                              min_weight_fraction_leaf=0.0,\n",
              "                                              presort='deprecated',\n",
              "                                              random_state=42,\n",
              "                                              splitter='best'),\n",
              "             iid='deprecated', n_jobs=-1,\n",
              "             param_grid={'min_impurity_decrease': [0.0001, 0.0002, 0.0003,\n",
              "                                                   0.0004, 0.0005]},\n",
              "             pre_dispatch='2*n_jobs', refit=True, return_train_score=False,\n",
              "             scoring=None, verbose=0)"
            ]
          },
          "metadata": {
            "tags": []
          },
          "execution_count": 14
        }
      ]
    },
    {
      "cell_type": "code",
      "metadata": {
        "colab": {
          "base_uri": "https://localhost:8080/"
        },
        "id": "GyqvduLU8S-1",
        "outputId": "88cf15af-03b3-419b-a143-6b5ddff26feb"
      },
      "source": [
        "dt=gs.best_estimator_\r\n",
        "print(dt.score(x_train,y_train))"
      ],
      "execution_count": 15,
      "outputs": [
        {
          "output_type": "stream",
          "text": [
            "0.9615162593804117\n"
          ],
          "name": "stdout"
        }
      ]
    },
    {
      "cell_type": "markdown",
      "metadata": {
        "id": "fUXHnxoI9quY"
      },
      "source": [
        "그리드 서치로 찾은 최적의 매개변수는 **best_params_** 속성에 저장되어있다.\r\n",
        "\r\n",
        "또한 각 매개변수에서 수행한 교차 검증의 평균 점수는 **cv_results_**속성의 **mean_test_score**키에 저장되어있다."
      ]
    },
    {
      "cell_type": "code",
      "metadata": {
        "colab": {
          "base_uri": "https://localhost:8080/"
        },
        "id": "8S1UBVv49_Ij",
        "outputId": "e205b715-6c0c-40eb-9020-631febba6785"
      },
      "source": [
        "print(gs.best_params_)\r\n",
        "print(gs.cv_results_['mean_test_score'])"
      ],
      "execution_count": 16,
      "outputs": [
        {
          "output_type": "stream",
          "text": [
            "{'min_impurity_decrease': 0.0001}\n",
            "[0.86819297 0.86453617 0.86492226 0.86780891 0.86761605]\n"
          ],
          "name": "stdout"
        }
      ]
    },
    {
      "cell_type": "code",
      "metadata": {
        "colab": {
          "base_uri": "https://localhost:8080/"
        },
        "id": "0kdhwFTp-GFc",
        "outputId": "ab43363a-ec85-4f40-d0aa-31bedf4191cb"
      },
      "source": [
        "best_index=np.argmax(gs.cv_results_['mean_test_score'])\r\n",
        "print(gs.cv_results_['params'][best_index])"
      ],
      "execution_count": 18,
      "outputs": [
        {
          "output_type": "stream",
          "text": [
            "{'min_impurity_decrease': 0.0001}\n"
          ],
          "name": "stdout"
        }
      ]
    },
    {
      "cell_type": "markdown",
      "metadata": {
        "id": "Igd9-UiB-aDz"
      },
      "source": [
        "정리하면,\r\n",
        "\r\n",
        "1. 탐색할 매개변수를 지정\r\n",
        "2. train_set에서 gridsearch를 수행하여 최상의 평균점수가 나오는 매개변수 조합을 찾는다.\r\n",
        "3. gridsearch의 최상의 매개변수 조합에서 전체 훈련세트를 사용하여 최종 모델을 훈련한다.\r\n",
        "\r\n",
        "이를 통해 결정트리에서 min_impurity_decrease와 max_depth와 min_samples_split의 매개변수를 탐색하겠다."
      ]
    },
    {
      "cell_type": "code",
      "metadata": {
        "id": "TKTQiWQ4-Rio"
      },
      "source": [
        "params={'min_impurity_decrease':np.arange(0.0001,0.001,0.0001),\r\n",
        "        'max_depth':range(5,20,1),\r\n",
        "        'min_samples_split':range(2,100,5)\r\n",
        "        }\r\n"
      ],
      "execution_count": 19,
      "outputs": []
    },
    {
      "cell_type": "code",
      "metadata": {
        "colab": {
          "base_uri": "https://localhost:8080/"
        },
        "id": "pMwZ4J3n_hkm",
        "outputId": "726ed20d-b0a8-4313-d617-4bd03c6bf3ca"
      },
      "source": [
        "gs=GridSearchCV(DecisionTreeClassifier(random_state=42),params,n_jobs=-1)\r\n",
        "gs.fit(x_train,y_train)"
      ],
      "execution_count": 20,
      "outputs": [
        {
          "output_type": "execute_result",
          "data": {
            "text/plain": [
              "GridSearchCV(cv=None, error_score=nan,\n",
              "             estimator=DecisionTreeClassifier(ccp_alpha=0.0, class_weight=None,\n",
              "                                              criterion='gini', max_depth=None,\n",
              "                                              max_features=None,\n",
              "                                              max_leaf_nodes=None,\n",
              "                                              min_impurity_decrease=0.0,\n",
              "                                              min_impurity_split=None,\n",
              "                                              min_samples_leaf=1,\n",
              "                                              min_samples_split=2,\n",
              "                                              min_weight_fraction_leaf=0.0,\n",
              "                                              presort='deprecated',\n",
              "                                              random_state=42,\n",
              "                                              splitter='best'),\n",
              "             iid='deprecated', n_jobs=-1,\n",
              "             param_grid={'max_depth': range(5, 20),\n",
              "                         'min_impurity_decrease': array([0.0001, 0.0002, 0.0003, 0.0004, 0.0005, 0.0006, 0.0007, 0.0008,\n",
              "       0.0009]),\n",
              "                         'min_samples_split': range(2, 100, 5)},\n",
              "             pre_dispatch='2*n_jobs', refit=True, return_train_score=False,\n",
              "             scoring=None, verbose=0)"
            ]
          },
          "metadata": {
            "tags": []
          },
          "execution_count": 20
        }
      ]
    },
    {
      "cell_type": "code",
      "metadata": {
        "colab": {
          "base_uri": "https://localhost:8080/"
        },
        "id": "d7pFL0eO_qzi",
        "outputId": "5ea61dfe-c511-4292-dd6d-2c552d1e5d33"
      },
      "source": [
        "print(gs.best_params_)"
      ],
      "execution_count": 21,
      "outputs": [
        {
          "output_type": "stream",
          "text": [
            "{'max_depth': 14, 'min_impurity_decrease': 0.0004, 'min_samples_split': 7}\n"
          ],
          "name": "stdout"
        }
      ]
    },
    {
      "cell_type": "code",
      "metadata": {
        "colab": {
          "base_uri": "https://localhost:8080/"
        },
        "id": "vmQKbSFpABd-",
        "outputId": "1a1f737b-2805-4584-f655-987ce84f0dba"
      },
      "source": [
        "dt=gs.best_estimator_\r\n",
        "print(dt.score(x_train,y_train))"
      ],
      "execution_count": 22,
      "outputs": [
        {
          "output_type": "stream",
          "text": [
            "0.8930152010775447\n"
          ],
          "name": "stdout"
        }
      ]
    },
    {
      "cell_type": "code",
      "metadata": {
        "colab": {
          "base_uri": "https://localhost:8080/"
        },
        "id": "px7eT2-zAKQm",
        "outputId": "b004f546-5c90-44d1-b75c-82672219c82e"
      },
      "source": [
        "print(np.max(gs.cv_results_['mean_test_score']))"
      ],
      "execution_count": 23,
      "outputs": [
        {
          "output_type": "stream",
          "text": [
            "0.8687708225364625\n"
          ],
          "name": "stdout"
        }
      ]
    },
    {
      "cell_type": "markdown",
      "metadata": {
        "id": "RnANECIoASwH"
      },
      "source": [
        "## 랜덤 서치"
      ]
    },
    {
      "cell_type": "markdown",
      "metadata": {
        "id": "Krv2HPW3AZCK"
      },
      "source": [
        "사실 매개변수의 값이 수치일 때 값의 범위나 간격을 둔 것에 근거가없다.\r\n",
        "\r\n",
        "즉, 설정한 범위보다 더 좋은 최적의 parameter가 있을 수 있는 것이다.\r\n",
        "\r\n",
        "위 조건에서 매개변수 조건이 너무 많아 총 9\\*15\\*20\\*5로 총 13500개의 모델을 만들었다.\r\n",
        "\r\n",
        "수행 시간이 굉장히 오래걸렸는데, 이런 경우 **랜덤 서치(Random Search)**를 사용하면 좋다.\r\n",
        "\r\n",
        "랜덤 서치에서는 **매개변수 값의 배열(목록)을 전달하는 것이 아니라, 확률 분포 객체를 전달한다.**"
      ]
    },
    {
      "cell_type": "code",
      "metadata": {
        "id": "sR8au65LBaLU"
      },
      "source": [
        "from scipy.stats import uniform,randint"
      ],
      "execution_count": 25,
      "outputs": []
    },
    {
      "cell_type": "markdown",
      "metadata": {
        "id": "zNozwjlqCFjJ"
      },
      "source": [
        "확률 분포 객체로서 scipy.stats에 있는 uniform, randint 클래스를 가져온다.\r\n",
        "\r\n",
        "randint(a,b) : a\\~b까지의 정수를 뽑는다.\r\n",
        "\r\n",
        "uniform(a,b) : a\\~b까지의 실수를 뽑는다."
      ]
    },
    {
      "cell_type": "code",
      "metadata": {
        "colab": {
          "base_uri": "https://localhost:8080/"
        },
        "id": "NqcugGF4Bo1R",
        "outputId": "3a1fa4f7-92da-4028-f59b-40c449d215e0"
      },
      "source": [
        "rgen=randint(0,10)\r\n",
        "rgen.rvs(10)"
      ],
      "execution_count": 26,
      "outputs": [
        {
          "output_type": "execute_result",
          "data": {
            "text/plain": [
              "array([7, 9, 6, 4, 6, 1, 0, 5, 1, 5])"
            ]
          },
          "metadata": {
            "tags": []
          },
          "execution_count": 26
        }
      ]
    },
    {
      "cell_type": "code",
      "metadata": {
        "colab": {
          "base_uri": "https://localhost:8080/"
        },
        "id": "88wNBSR7B2su",
        "outputId": "2abd895a-0771-4861-9b24-e5d51f938f41"
      },
      "source": [
        "np.unique(rgen.rvs(1000),return_counts=True)"
      ],
      "execution_count": 27,
      "outputs": [
        {
          "output_type": "execute_result",
          "data": {
            "text/plain": [
              "(array([0, 1, 2, 3, 4, 5, 6, 7, 8, 9]),\n",
              " array([101, 102, 107, 106, 109, 102,  89,  92,  91, 101]))"
            ]
          },
          "metadata": {
            "tags": []
          },
          "execution_count": 27
        }
      ]
    },
    {
      "cell_type": "code",
      "metadata": {
        "colab": {
          "base_uri": "https://localhost:8080/"
        },
        "id": "JWW4hyNfB8tX",
        "outputId": "c70859f8-f04d-4e68-d452-dfc46c27b3a0"
      },
      "source": [
        "ugen=uniform(0,1)\r\n",
        "ugen.rvs(10)"
      ],
      "execution_count": 28,
      "outputs": [
        {
          "output_type": "execute_result",
          "data": {
            "text/plain": [
              "array([0.11973145, 0.21110764, 0.66077538, 0.47072075, 0.4370037 ,\n",
              "       0.33588767, 0.32743592, 0.84048506, 0.6932206 , 0.31537179])"
            ]
          },
          "metadata": {
            "tags": []
          },
          "execution_count": 28
        }
      ]
    },
    {
      "cell_type": "markdown",
      "metadata": {
        "id": "ArkOYdg6Dh71"
      },
      "source": [
        "앞서 했었던 결정트리의 세가지 변수에 min_samples_leaf를 추가하여 \r\n",
        "\r\n",
        "하이퍼파라미터 튜닝을 해보겠다.\r\n",
        "\r\n",
        "RandomSearch는 sklearn.model_selection의 **RandomizedSearchCV**클래스를 이용한다."
      ]
    },
    {
      "cell_type": "code",
      "metadata": {
        "id": "ps9SvuwyCEiu"
      },
      "source": [
        "params={'min_impurity_decrease':uniform(0.0001,0.001),\r\n",
        "        'max_depth':randint(20,50),\r\n",
        "        'min_samples_split':randint(2,25),\r\n",
        "        'min_samples_leaf':randint(1,25)\r\n",
        "        }"
      ],
      "execution_count": 29,
      "outputs": []
    },
    {
      "cell_type": "code",
      "metadata": {
        "colab": {
          "base_uri": "https://localhost:8080/"
        },
        "id": "tJDfa8muEcac",
        "outputId": "5412e5c9-c5d3-4674-e328-f577cdb18807"
      },
      "source": [
        "from sklearn.model_selection import RandomizedSearchCV\r\n",
        "rs=RandomizedSearchCV(DecisionTreeClassifier(random_state=42),params,n_iter=100,n_jobs=-1,random_state=42)\r\n",
        "rs.fit(x_train,y_train)"
      ],
      "execution_count": 30,
      "outputs": [
        {
          "output_type": "execute_result",
          "data": {
            "text/plain": [
              "RandomizedSearchCV(cv=None, error_score=nan,\n",
              "                   estimator=DecisionTreeClassifier(ccp_alpha=0.0,\n",
              "                                                    class_weight=None,\n",
              "                                                    criterion='gini',\n",
              "                                                    max_depth=None,\n",
              "                                                    max_features=None,\n",
              "                                                    max_leaf_nodes=None,\n",
              "                                                    min_impurity_decrease=0.0,\n",
              "                                                    min_impurity_split=None,\n",
              "                                                    min_samples_leaf=1,\n",
              "                                                    min_samples_split=2,\n",
              "                                                    min_weight_fraction_leaf=0.0,\n",
              "                                                    presort='deprecated',\n",
              "                                                    random_state=42,\n",
              "                                                    splitter='best'),...\n",
              "                                        'min_impurity_decrease': <scipy.stats._distn_infrastructure.rv_frozen object at 0x7fe715396438>,\n",
              "                                        'min_samples_leaf': <scipy.stats._distn_infrastructure.rv_frozen object at 0x7fe7155fc2e8>,\n",
              "                                        'min_samples_split': <scipy.stats._distn_infrastructure.rv_frozen object at 0x7fe715396a90>},\n",
              "                   pre_dispatch='2*n_jobs', random_state=42, refit=True,\n",
              "                   return_train_score=False, scoring=None, verbose=0)"
            ]
          },
          "metadata": {
            "tags": []
          },
          "execution_count": 30
        }
      ]
    },
    {
      "cell_type": "code",
      "metadata": {
        "colab": {
          "base_uri": "https://localhost:8080/"
        },
        "id": "qRnhebKDEup9",
        "outputId": "80d140b5-eb0b-4a6f-afc5-ca8bbe557ece"
      },
      "source": [
        "print(rs.best_params_)"
      ],
      "execution_count": 31,
      "outputs": [
        {
          "output_type": "stream",
          "text": [
            "{'max_depth': 39, 'min_impurity_decrease': 0.00034102546602601173, 'min_samples_leaf': 7, 'min_samples_split': 13}\n"
          ],
          "name": "stdout"
        }
      ]
    },
    {
      "cell_type": "code",
      "metadata": {
        "colab": {
          "base_uri": "https://localhost:8080/"
        },
        "id": "TeHXbgDvEx-c",
        "outputId": "9fe809a9-5235-4ea7-8df3-d3fe0f9bba7e"
      },
      "source": [
        "print(np.max(rs.cv_results_['mean_test_score']))"
      ],
      "execution_count": 33,
      "outputs": [
        {
          "output_type": "stream",
          "text": [
            "0.8695428296438884\n"
          ],
          "name": "stdout"
        }
      ]
    },
    {
      "cell_type": "code",
      "metadata": {
        "colab": {
          "base_uri": "https://localhost:8080/"
        },
        "id": "XkIDAzxXFQnA",
        "outputId": "aa3dbafd-31dd-48f7-c40e-699314f01b5b"
      },
      "source": [
        "dt=rs.best_estimator_\r\n",
        "print(rs.score(x_test,y_test))"
      ],
      "execution_count": 34,
      "outputs": [
        {
          "output_type": "stream",
          "text": [
            "0.86\n"
          ],
          "name": "stdout"
        }
      ]
    }
  ]
}