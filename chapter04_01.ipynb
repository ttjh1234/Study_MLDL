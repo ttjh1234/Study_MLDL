{
  "nbformat": 4,
  "nbformat_minor": 0,
  "metadata": {
    "colab": {
      "name": "chapter04_01.ipynb",
      "provenance": [],
      "collapsed_sections": [
        "r1YhuDdQVEny",
        "kWbEKhQEYdOo",
        "X3O30VltethL"
      ],
      "authorship_tag": "ABX9TyN9MCsYHqN7A9t6sqYI1meq",
      "include_colab_link": true
    },
    "kernelspec": {
      "name": "python3",
      "display_name": "Python 3"
    }
  },
  "cells": [
    {
      "cell_type": "markdown",
      "metadata": {
        "id": "view-in-github",
        "colab_type": "text"
      },
      "source": [
        "<a href=\"https://colab.research.google.com/github/ttjh1234/Study_MLDL/blob/main/chapter04_01.ipynb\" target=\"_parent\"><img src=\"https://colab.research.google.com/assets/colab-badge.svg\" alt=\"Open In Colab\"/></a>"
      ]
    },
    {
      "cell_type": "markdown",
      "metadata": {
        "id": "he700u2KUjbn"
      },
      "source": [
        "#로지스틱 회귀"
      ]
    },
    {
      "cell_type": "markdown",
      "metadata": {
        "id": "Q3nWoT_BUoOr"
      },
      "source": [
        "이번 장에서는 다중 분류에서의 로지스틱 회귀 방법을 공부한다.\r\n",
        "\r\n",
        "처음에 K-최근접 이웃 분류 방법을 사용하여 개별 확률을 알아보고,\r\n",
        "\r\n",
        "이진 분류, 다중 분류에서의 로지스틱 회귀 방법을 공부하겠다.\r\n"
      ]
    },
    {
      "cell_type": "markdown",
      "metadata": {
        "id": "r1YhuDdQVEny"
      },
      "source": [
        "## 데이터 준비"
      ]
    },
    {
      "cell_type": "markdown",
      "metadata": {
        "id": "flwCW85dVM1r"
      },
      "source": [
        "Species,Weight,Length,Diagonal,Height,Width **6가지 특성**을 가지는 \r\n",
        "\r\n",
        "fish 데이터를 사용하며 첫 번째 특성인 **Species**를 **target_data**로 사용하여 분류를 진행한다.\r\n",
        "\r\n",
        "**데이터 준비** 단계에서 **train_set**과 **test_set**을 나누고 **정규화**시켜 \r\n",
        "\r\n",
        "모델링에 사용가능한 데이터를 만들어준다.\r\n",
        "\r\n",
        "데이터는 'https://bit.ly/fish_csv'를 가져와서 사용하겠다."
      ]
    },
    {
      "cell_type": "code",
      "metadata": {
        "colab": {
          "base_uri": "https://localhost:8080/",
          "height": 0
        },
        "id": "T_1QXzbBMUnf",
        "outputId": "72d3ca9a-4651-4f9e-ac56-c0f4faaca5fa"
      },
      "source": [
        "import pandas as pd\r\n",
        "fish=pd.read_csv('https://bit.ly/fish_csv')\r\n",
        "fish.head()"
      ],
      "execution_count": 1,
      "outputs": [
        {
          "output_type": "execute_result",
          "data": {
            "text/html": [
              "<div>\n",
              "<style scoped>\n",
              "    .dataframe tbody tr th:only-of-type {\n",
              "        vertical-align: middle;\n",
              "    }\n",
              "\n",
              "    .dataframe tbody tr th {\n",
              "        vertical-align: top;\n",
              "    }\n",
              "\n",
              "    .dataframe thead th {\n",
              "        text-align: right;\n",
              "    }\n",
              "</style>\n",
              "<table border=\"1\" class=\"dataframe\">\n",
              "  <thead>\n",
              "    <tr style=\"text-align: right;\">\n",
              "      <th></th>\n",
              "      <th>Species</th>\n",
              "      <th>Weight</th>\n",
              "      <th>Length</th>\n",
              "      <th>Diagonal</th>\n",
              "      <th>Height</th>\n",
              "      <th>Width</th>\n",
              "    </tr>\n",
              "  </thead>\n",
              "  <tbody>\n",
              "    <tr>\n",
              "      <th>0</th>\n",
              "      <td>Bream</td>\n",
              "      <td>242.0</td>\n",
              "      <td>25.4</td>\n",
              "      <td>30.0</td>\n",
              "      <td>11.5200</td>\n",
              "      <td>4.0200</td>\n",
              "    </tr>\n",
              "    <tr>\n",
              "      <th>1</th>\n",
              "      <td>Bream</td>\n",
              "      <td>290.0</td>\n",
              "      <td>26.3</td>\n",
              "      <td>31.2</td>\n",
              "      <td>12.4800</td>\n",
              "      <td>4.3056</td>\n",
              "    </tr>\n",
              "    <tr>\n",
              "      <th>2</th>\n",
              "      <td>Bream</td>\n",
              "      <td>340.0</td>\n",
              "      <td>26.5</td>\n",
              "      <td>31.1</td>\n",
              "      <td>12.3778</td>\n",
              "      <td>4.6961</td>\n",
              "    </tr>\n",
              "    <tr>\n",
              "      <th>3</th>\n",
              "      <td>Bream</td>\n",
              "      <td>363.0</td>\n",
              "      <td>29.0</td>\n",
              "      <td>33.5</td>\n",
              "      <td>12.7300</td>\n",
              "      <td>4.4555</td>\n",
              "    </tr>\n",
              "    <tr>\n",
              "      <th>4</th>\n",
              "      <td>Bream</td>\n",
              "      <td>430.0</td>\n",
              "      <td>29.0</td>\n",
              "      <td>34.0</td>\n",
              "      <td>12.4440</td>\n",
              "      <td>5.1340</td>\n",
              "    </tr>\n",
              "  </tbody>\n",
              "</table>\n",
              "</div>"
            ],
            "text/plain": [
              "  Species  Weight  Length  Diagonal   Height   Width\n",
              "0   Bream   242.0    25.4      30.0  11.5200  4.0200\n",
              "1   Bream   290.0    26.3      31.2  12.4800  4.3056\n",
              "2   Bream   340.0    26.5      31.1  12.3778  4.6961\n",
              "3   Bream   363.0    29.0      33.5  12.7300  4.4555\n",
              "4   Bream   430.0    29.0      34.0  12.4440  5.1340"
            ]
          },
          "metadata": {
            "tags": []
          },
          "execution_count": 1
        }
      ]
    },
    {
      "cell_type": "code",
      "metadata": {
        "colab": {
          "base_uri": "https://localhost:8080/"
        },
        "id": "PsBvXddZWj7t",
        "outputId": "554a9dc4-2360-46d5-e947-53e90108aa75"
      },
      "source": [
        "print(fish.Species.unique())"
      ],
      "execution_count": 2,
      "outputs": [
        {
          "output_type": "stream",
          "text": [
            "['Bream' 'Roach' 'Whitefish' 'Parkki' 'Perch' 'Pike' 'Smelt']\n"
          ],
          "name": "stdout"
        }
      ]
    },
    {
      "cell_type": "code",
      "metadata": {
        "colab": {
          "base_uri": "https://localhost:8080/"
        },
        "id": "83bUDYnRWqtN",
        "outputId": "dbc373af-c8e3-442a-e434-e02d19647fdc"
      },
      "source": [
        "print(fish.info())"
      ],
      "execution_count": 3,
      "outputs": [
        {
          "output_type": "stream",
          "text": [
            "<class 'pandas.core.frame.DataFrame'>\n",
            "RangeIndex: 159 entries, 0 to 158\n",
            "Data columns (total 6 columns):\n",
            " #   Column    Non-Null Count  Dtype  \n",
            "---  ------    --------------  -----  \n",
            " 0   Species   159 non-null    object \n",
            " 1   Weight    159 non-null    float64\n",
            " 2   Length    159 non-null    float64\n",
            " 3   Diagonal  159 non-null    float64\n",
            " 4   Height    159 non-null    float64\n",
            " 5   Width     159 non-null    float64\n",
            "dtypes: float64(5), object(1)\n",
            "memory usage: 7.6+ KB\n",
            "None\n"
          ],
          "name": "stdout"
        }
      ]
    },
    {
      "cell_type": "code",
      "metadata": {
        "colab": {
          "base_uri": "https://localhost:8080/"
        },
        "id": "uNb-RMQVW0nz",
        "outputId": "ba1aeb10-24f9-4429-88e7-4b62c6d80722"
      },
      "source": [
        "x=fish[['Weight','Length','Diagonal','Height','Width']].to_numpy()\r\n",
        "print(x[:5])"
      ],
      "execution_count": 4,
      "outputs": [
        {
          "output_type": "stream",
          "text": [
            "[[242.      25.4     30.      11.52     4.02  ]\n",
            " [290.      26.3     31.2     12.48     4.3056]\n",
            " [340.      26.5     31.1     12.3778   4.6961]\n",
            " [363.      29.      33.5     12.73     4.4555]\n",
            " [430.      29.      34.      12.444    5.134 ]]\n"
          ],
          "name": "stdout"
        }
      ]
    },
    {
      "cell_type": "code",
      "metadata": {
        "colab": {
          "base_uri": "https://localhost:8080/"
        },
        "id": "X1-cRDvpXClc",
        "outputId": "91f41d19-67a9-4a6b-869f-eecae0d168e7"
      },
      "source": [
        "y=fish['Species'].to_numpy()\r\n",
        "print(y[:5])"
      ],
      "execution_count": 5,
      "outputs": [
        {
          "output_type": "stream",
          "text": [
            "['Bream' 'Bream' 'Bream' 'Bream' 'Bream']\n"
          ],
          "name": "stdout"
        }
      ]
    },
    {
      "cell_type": "markdown",
      "metadata": {
        "id": "ZoVROUTuX_Hb"
      },
      "source": [
        "설명변수와 목적변수로 나눈 후 train_set과 test_set으로 나눠준다.\r\n",
        "\r\n",
        "**sklearn.model_selection**에 있는 **train_test_split**을 사용한다.\r\n",
        "\r\n",
        "나눈 후 **sklearn.preprocessing**의 **StandardScaler**로 **정규화**를 진행한다. "
      ]
    },
    {
      "cell_type": "code",
      "metadata": {
        "colab": {
          "base_uri": "https://localhost:8080/"
        },
        "id": "pB-xcaeNXUes",
        "outputId": "09dc7fc3-040f-4a78-eb09-df86ca5afe74"
      },
      "source": [
        "from sklearn.model_selection import train_test_split\r\n",
        "x_train,x_test,y_train,y_test=train_test_split(x,y,random_state=42)\r\n",
        "\r\n",
        "print(x_train.shape,x_test.shape)"
      ],
      "execution_count": 6,
      "outputs": [
        {
          "output_type": "stream",
          "text": [
            "(119, 5) (40, 5)\n"
          ],
          "name": "stdout"
        }
      ]
    },
    {
      "cell_type": "code",
      "metadata": {
        "id": "gr5jg1hiXktp"
      },
      "source": [
        "from sklearn.preprocessing import StandardScaler\r\n",
        "ss=StandardScaler()\r\n",
        "ss.fit(x_train)\r\n",
        "x_train=ss.transform(x_train)\r\n",
        "x_test=ss.transform(x_test)"
      ],
      "execution_count": 7,
      "outputs": []
    },
    {
      "cell_type": "markdown",
      "metadata": {
        "id": "kWbEKhQEYdOo"
      },
      "source": [
        "## K-최근접 이웃 분류를 사용한 확률 예측"
      ]
    },
    {
      "cell_type": "markdown",
      "metadata": {
        "id": "ZoTqHPSjYxcU"
      },
      "source": [
        "**로지스틱 회귀**를 쓰기 전 이전에 배웠던 **K-최근접 이웃 분류**를 사용하여 \r\n",
        "확률을 계산해본다. \r\n",
        "\r\n",
        "**K-최근접 이웃 분류**에서의 확률은 거리기반으로 가장 가까운 이웃그룹간의 확률이기 때문에 \r\n",
        "\r\n",
        "초기 **n-neighbors**로 설정한 값에 따라 **확률값이 고정**되어있다. "
      ]
    },
    {
      "cell_type": "code",
      "metadata": {
        "colab": {
          "base_uri": "https://localhost:8080/"
        },
        "id": "A1PpJa8tX7Mw",
        "outputId": "2391b743-d526-4d1e-853e-ad04412e202a"
      },
      "source": [
        "from sklearn.neighbors import KNeighborsClassifier\r\n",
        "kn=KNeighborsClassifier(n_neighbors=3)\r\n",
        "kn.fit(x_train,y_train)\r\n",
        "print('train_set의 점수 : ',kn.score(x_train,y_train))\r\n",
        "print('test_set의 점수 : ',kn.score(x_test,y_test))"
      ],
      "execution_count": 8,
      "outputs": [
        {
          "output_type": "stream",
          "text": [
            "train_set의 점수 :  0.8907563025210085\n",
            "test_set의 점수 :  0.85\n"
          ],
          "name": "stdout"
        }
      ]
    },
    {
      "cell_type": "markdown",
      "metadata": {
        "id": "Fdj2PUO-ap3Y"
      },
      "source": [
        "다중분류에서 타깃값을 숫자로 바꾸어 입력이 가능하지만, sklearn은 **문자열로 된** 타깃값 사용이 가능.\r\n",
        "\r\n",
        "**kn.classes_** : 모델에 사용된 목적변수의 값을 알려주는 속성, \r\n",
        "\r\n",
        "sklearn의 모델에 전달되면 순서가 자동으로 **Alphabet 순**으로 매겨진다.\r\n",
        "\r\n"
      ]
    },
    {
      "cell_type": "code",
      "metadata": {
        "colab": {
          "base_uri": "https://localhost:8080/"
        },
        "id": "aeUBIDwCaU_I",
        "outputId": "f3e52349-0f44-407b-e0d3-c86f131a7365"
      },
      "source": [
        "print(kn.classes_)\r\n",
        "print('\\n')\r\n",
        "print(kn.predict(x_test[:5]))"
      ],
      "execution_count": 9,
      "outputs": [
        {
          "output_type": "stream",
          "text": [
            "['Bream' 'Parkki' 'Perch' 'Pike' 'Roach' 'Smelt' 'Whitefish']\n",
            "\n",
            "\n",
            "['Perch' 'Smelt' 'Pike' 'Perch' 'Perch']\n"
          ],
          "name": "stdout"
        }
      ]
    },
    {
      "cell_type": "markdown",
      "metadata": {
        "id": "Edm2C8NqcRIY"
      },
      "source": [
        "출력시 반올림을 하기 위해 **numpy**의 **round함수**를 사용하였다.\r\n",
        "\r\n",
        "옵션으로 **'decimals=n'**은 소수점 n자리까지 표기를 하며 **n+1자리에서 반올림**을 한다."
      ]
    },
    {
      "cell_type": "code",
      "metadata": {
        "colab": {
          "base_uri": "https://localhost:8080/"
        },
        "id": "nXqgsy06aj90",
        "outputId": "070fc77f-9f22-4975-e242-cd1085a87493"
      },
      "source": [
        "import numpy as np\r\n",
        "prob=kn.predict_proba(x_test[:5])\r\n",
        "print(np.round(prob,decimals=3))"
      ],
      "execution_count": 10,
      "outputs": [
        {
          "output_type": "stream",
          "text": [
            "[[0.    0.    1.    0.    0.    0.    0.   ]\n",
            " [0.    0.    0.    0.    0.    1.    0.   ]\n",
            " [0.    0.    0.    1.    0.    0.    0.   ]\n",
            " [0.    0.    0.667 0.    0.333 0.    0.   ]\n",
            " [0.    0.    0.667 0.    0.333 0.    0.   ]]\n"
          ],
          "name": "stdout"
        }
      ]
    },
    {
      "cell_type": "markdown",
      "metadata": {
        "id": "ZIE21ygWcqja"
      },
      "source": [
        "위의 데이터를 보면 첫번째 열부터 각각 Bream,Parkki,Perch,Pike,Roach,Smelt,Whitefish에 \r\n",
        "\r\n",
        "해당할 확률이며, 이는 **각 데이터가 이웃한 점들의 target 데이터 비율**이다."
      ]
    },
    {
      "cell_type": "code",
      "metadata": {
        "colab": {
          "base_uri": "https://localhost:8080/"
        },
        "id": "VyEoWkFOb2ar",
        "outputId": "c7230c74-3b98-4c5a-a18f-fc316a9108f6"
      },
      "source": [
        "distances,indexes=kn.kneighbors(x_test[:5])\r\n",
        "print(y_train[indexes])"
      ],
      "execution_count": 11,
      "outputs": [
        {
          "output_type": "stream",
          "text": [
            "[['Perch' 'Perch' 'Perch']\n",
            " ['Smelt' 'Smelt' 'Smelt']\n",
            " ['Pike' 'Pike' 'Pike']\n",
            " ['Roach' 'Perch' 'Perch']\n",
            " ['Perch' 'Perch' 'Roach']]\n"
          ],
          "name": "stdout"
        }
      ]
    },
    {
      "cell_type": "markdown",
      "metadata": {
        "id": "35aBXnLhdQFz"
      },
      "source": [
        "예를들어 첫번째 행을 보면 Perch 확률이 1인데 이웃한 점들의 target을 보면 모두 Perch에 해당한다.\r\n",
        "\r\n",
        "따라서 확률은 1로 주어지고, 네번째 행을 보면 Roach가 1개, Perch가 2개 이기때문에 \r\n",
        "\r\n",
        "확률이 각각 0.333과 0.667로 주어진다.\r\n",
        "\r\n",
        "이를 보아 확률은 n_neigbors의 값에따라 확률값의 공간이 고정된다.\r\n",
        "\r\n",
        "![image.png](data:image/png;base64,iVBORw0KGgoAAAANSUhEUgAAAKgAAAAsCAYAAADxavN6AAAEgUlEQVR4Ae2bi5GEIAxA7Yd66Id6qId+chNAZSGe+ElE5GZu1nVd83sbEsAJxt/wQMMemBrWbag2PAAD0AFB0x54FFBnLRitQFseHzmrQU0TTP5fgTYWHI+obu7KHZOjjnoGUGfBRjgRHg5ArVag9AqksybAyiHsqNdbvF4gJmfMfgbQRVMLmgNQF2DMWbQas6kGpoS9WPXuA6aYnHRKn4BCcPKUEeqMgmlSYMY4/w8uA9DEObLO8BlUmVfUocWPaa6n2fWXjUkCA3nYaQYlbPXD/kuGd2vAOAdYR/ts7wxoX08jPLkNDoyaG8GK113AB6AJPULOcBa00mDfMLQ7A8YXyagzZnvr4fROsxrysiVx5k2HQjGp1PYDGTTCWemQZi6LMFqzZkwsUbKymkHdAWjiVG5nODD6HTVn4hQACMO2NnM2xVMG1O7w/HuXc++4Y3JMq40MasGItLq8zrB6zT6LW3x9t7xr88DDiAsLa02CTZMKBSlY1lqFNya5w50x/077EYAKZp04X5lOqOcGnH3vjC6nk7DZEMlCZ7UO3ytnGxAabJgcWMM8IjDGhPbK/7wVgJKBpe98+myYQqE6TiLjnZISskBY4szk8BdxpzRev4Q1s4qN0nw22oON3nzq5lf+mPyjMCaOZLRIr8wAnTvH9JJ47DvhGOwXZCHCgnHqAQ/Ure1jzU3/+H4AxV8RnWBC0R5qIKzXFUwD0gfC/SKRR9f2cSGCyKIJoAghvQxYAhm7TK7x5kVxGKrueaCy6dqYpUgAxRtRaTbAmE8Ql4X8nqLj8296oBJQv3+i5G8FdINgiBsv8vQbiuryht8MwrB62wO1gNIj+D6g87RDXh/gSsfYGbQdl/FJ9EDzgAYFySmfZbd7NhW0nK/N0BIy0N+x3CkaxKPnU3qv6L7lN67ztfEo7aOb7/S6vQy6UQP4JbZpKjusT2bQoyBuXZ8Gpvfj2gyK15U/gHWI99mB6uKDgP0a1PnHONbFOQ7H9yKDwzdP3LMmHpWAbvRACaBhfrNMxTELZB/kU0++q8ehObvuTrf1IuNOnzx5r7p4VAK6Pw8ad8wQgFEdOyr3k1X9plrFCiiWG1p3IONJqu6UXROPuclOHmCkVFg2Z2cf/mRQ/IzcARSbgwVIL7SsF8DqjZWoTOqVt73IuOKDlr67EY+Q1KhmjeDGg06v+hSA+nlPIovieVxp8t24onYKWTCs28Aww3cioyXAruhyUzzopBgUIwDFNJpslL1iwPju8MCeB3ZYowHFmzrefnxP7/H5Nzywh9k2oN/wz7CycQ88AmgooJM5V6ZnvqXktBTj3myWB/TQM98XQi8l54KKt3+1Q5tlAZV65ltKzu2EXbhhpzbLAjr7X+qZbyk5s10tvHZm8wOAhqVT/me+peS0QOWsQ382ywPqNwUIPPMtJWdmo4XXDm0WB9RvMPjZT4mbCe5/5ltKTgtczjr0aLMwoFLPfEvJmdFo4bVPm4UBbSGQQ4c3eWAA+qZofVDXAegHg/4mkwegb4rWB3UdgH4w6G8y+Q97Wqw5hkf+kAAAAABJRU5ErkJggg==) 을 가지게된다."
      ]
    },
    {
      "cell_type": "markdown",
      "metadata": {
        "id": "X3O30VltethL"
      },
      "source": [
        "##로지스틱 회귀 (이진분류)"
      ]
    },
    {
      "cell_type": "markdown",
      "metadata": {
        "id": "6rxuvDyye4-1"
      },
      "source": [
        "**로지스틱 회귀**는 회귀분석으로 생각하여 예측 모델이라고 생각할 수 있지만, **분류모델**이다.\r\n",
        "\r\n",
        "위 모델에서 선형회귀와 동일하게 \r\n",
        "\r\n",
        "**Z=a\\*(Weight)+b\\*(Length)+c\\*(Diagonal)+\r\n",
        "d\\*(Height)+e\\*(Width)+f** \r\n",
        "\r\n",
        "표현될 수 있고(a,b,c,d,e는 가중치,f는 절편), Z는 어떠한 값도 가능하다.\r\n",
        "\r\n",
        "하지만 이를 확률로써 표현하기 위해 \r\n",
        "\r\n",
        "이진분류에서는 **Sigmoid 함수**를 사용하여 변환하고,\r\n",
        "\r\n",
        "\r\n",
        "다중분류에서는 **Softmax 함수**를 사용하여 변환한다.\r\n",
        "\r\n",
        "\r\n"
      ]
    },
    {
      "cell_type": "code",
      "metadata": {
        "colab": {
          "base_uri": "https://localhost:8080/",
          "height": 281
        },
        "id": "JPKvdCAbezw2",
        "outputId": "c1777184-0247-4882-e67f-2f845133e7c5"
      },
      "source": [
        "import numpy as np\r\n",
        "import matplotlib.pyplot as plt\r\n",
        "z=np.arange(-10,10,0.01)\r\n",
        "fz=1/(1+np.exp(-z))\r\n",
        "plt.plot(z,fz)\r\n",
        "plt.title('Sigmoid Function')\r\n",
        "plt.show()"
      ],
      "execution_count": 12,
      "outputs": [
        {
          "output_type": "display_data",
          "data": {
            "image/png": "[encoded data removed]",
            "text/plain": [
              "<Figure size 432x288 with 1 Axes>"
            ]
          },
          "metadata": {
            "tags": [],
            "needs_background": "light"
          }
        }
      ]
    },
    {
      "cell_type": "markdown",
      "metadata": {
        "id": "gN3wCgLvi5Ra"
      },
      "source": [
        "먼저 로지스틱 회귀로 이진분류를 하기위해 **Boolean Indexing**을 활용하여\r\n",
        "\r\n",
        "도미와 빙어 데이터만 사용하겠다.\r\n"
      ]
    },
    {
      "cell_type": "code",
      "metadata": {
        "colab": {
          "base_uri": "https://localhost:8080/"
        },
        "id": "DyXluusDiUh0",
        "outputId": "58187df5-8f99-428e-81fa-3c0818f68db2"
      },
      "source": [
        "bream_smelt=(y_train=='Bream')|(y_train=='Smelt')\r\n",
        "x_train2=x_train[bream_smelt]\r\n",
        "y_train2=y_train[bream_smelt]\r\n",
        "\r\n",
        "print(y_train2[:5],np.unique(y_train2))"
      ],
      "execution_count": 13,
      "outputs": [
        {
          "output_type": "stream",
          "text": [
            "['Bream' 'Smelt' 'Bream' 'Bream' 'Bream'] ['Bream' 'Smelt']\n"
          ],
          "name": "stdout"
        }
      ]
    },
    {
      "cell_type": "markdown",
      "metadata": {
        "id": "bAi3kkRXkjbm"
      },
      "source": [
        "로지스틱 회귀는 sklearn.linear_model의 **LogisticRegression**을 사용한다.\r\n",
        "\r\n",
        "**predict_proba**를 사용하면 클래스 0(Bream)에 속할 확률과 클래스 1(Smelt)에 속할 확률을 보여준다."
      ]
    },
    {
      "cell_type": "code",
      "metadata": {
        "colab": {
          "base_uri": "https://localhost:8080/"
        },
        "id": "vwwIeZkxj8wW",
        "outputId": "fa8000b0-b0e0-4b9f-92ea-2f50857c7b4c"
      },
      "source": [
        "from sklearn.linear_model import LogisticRegression\r\n",
        "lr=LogisticRegression()\r\n",
        "lr.fit(x_train2,y_train2)\r\n",
        "\r\n",
        "print(lr.predict(x_train2[:5]))\r\n",
        "print(lr.predict_proba(x_train2[:5]))"
      ],
      "execution_count": 14,
      "outputs": [
        {
          "output_type": "stream",
          "text": [
            "['Bream' 'Smelt' 'Bream' 'Bream' 'Bream']\n",
            "[[0.99759855 0.00240145]\n",
            " [0.02735183 0.97264817]\n",
            " [0.99486072 0.00513928]\n",
            " [0.98584202 0.01415798]\n",
            " [0.99767269 0.00232731]]\n"
          ],
          "name": "stdout"
        }
      ]
    },
    {
      "cell_type": "code",
      "metadata": {
        "colab": {
          "base_uri": "https://localhost:8080/"
        },
        "id": "j4xMV8wdkYsk",
        "outputId": "c7180b56-3680-4b6e-a959-0404fdce9dc5"
      },
      "source": [
        "print(lr.classes_)"
      ],
      "execution_count": 15,
      "outputs": [
        {
          "output_type": "stream",
          "text": [
            "['Bream' 'Smelt']\n"
          ],
          "name": "stdout"
        }
      ]
    },
    {
      "cell_type": "code",
      "metadata": {
        "colab": {
          "base_uri": "https://localhost:8080/"
        },
        "id": "BMSQWr8UkczI",
        "outputId": "3a234f5a-e918-4210-92ac-7fb093304a27"
      },
      "source": [
        "print(lr.coef_,lr.intercept_)"
      ],
      "execution_count": 16,
      "outputs": [
        {
          "output_type": "stream",
          "text": [
            "[[-0.4037798  -0.57620209 -0.66280298 -1.01290277 -0.73168947]] [-2.16155132]\n"
          ],
          "name": "stdout"
        }
      ]
    },
    {
      "cell_type": "markdown",
      "metadata": {
        "id": "wfOJdz1dlAdA"
      },
      "source": [
        "이 로지스틱 회귀 모델이 학습한 식은 \r\n",
        "\r\n",
        "Z=-0.404\\*(Weight)-0.576\\*(Length)-0.663\\*(Diagonal)-1.013\\*(Height)-0.732\\*(Width)-2.162 \r\n",
        "와 같다.\r\n",
        "\r\n"
      ]
    },
    {
      "cell_type": "markdown",
      "metadata": {
        "id": "xXqF6FBsl0_e"
      },
      "source": [
        "LogisticRegression 클래스에서는 z값을 계산해주는 함수가 있다.\r\n",
        "\r\n",
        "**decision_function()** 함수를 이용하면 z값을 계산해준다.\r\n",
        "\r\n",
        "decision_function()함수를 사용하여 z값을 알아내고, \r\n",
        "\r\n",
        "z값을 Scipy에서 제공하는 시그모이드 함수 **expit()**를 사용하여 확률값을 계산하겠다."
      ]
    },
    {
      "cell_type": "code",
      "metadata": {
        "colab": {
          "base_uri": "https://localhost:8080/"
        },
        "id": "35HdiwrEkhHz",
        "outputId": "a0139e45-bc73-40ed-edb7-8ca7d4845dfb"
      },
      "source": [
        "z=lr.decision_function(x_train2[:5])\r\n",
        "print(z)"
      ],
      "execution_count": 17,
      "outputs": [
        {
          "output_type": "stream",
          "text": [
            "[-6.02927744  3.57123907 -5.26568906 -4.24321775 -6.0607117 ]\n"
          ],
          "name": "stdout"
        }
      ]
    },
    {
      "cell_type": "code",
      "metadata": {
        "colab": {
          "base_uri": "https://localhost:8080/"
        },
        "id": "m2licq4vmoQ0",
        "outputId": "5d759ec7-9889-426b-a0cc-787c790e1eca"
      },
      "source": [
        "from scipy.special import expit\r\n",
        "print(expit(z))"
      ],
      "execution_count": 18,
      "outputs": [
        {
          "output_type": "stream",
          "text": [
            "[0.00240145 0.97264817 0.00513928 0.01415798 0.00232731]\n"
          ],
          "name": "stdout"
        }
      ]
    },
    {
      "cell_type": "markdown",
      "metadata": {
        "id": "Bct3UlRfmx5q"
      },
      "source": [
        "결과값을 보면 predict_proba의 클래스 1 (Smelt)의 확률과 같다는 것을 보여준다.\r\n",
        "\r\n",
        "이는 곧, LogisticRegression의 decision_funtion()함수는 \r\n",
        "\r\n",
        "**양성 클래스(Class=1)에 대한 z값을 반환**함을 알 수 있다."
      ]
    },
    {
      "cell_type": "markdown",
      "metadata": {
        "id": "CoyW1WzcfPus"
      },
      "source": [
        "##로지스틱 회귀 (다중분류)"
      ]
    },
    {
      "cell_type": "markdown",
      "metadata": {
        "id": "O8VGBqPNfWBJ"
      },
      "source": [
        "LogisticRegression 클래스는 기본적으로 반복 알고리즘을 사용한다.\r\n",
        "\r\n",
        "회귀계수를 찾기위해 **MLE(최대우도법)** 을 사용하여 결과값을 최대로하는 값을 찾기 위함이다.\r\n",
        "\r\n",
        "이에따라 LogisticRegression은 **max_iter**라는 매개변수를 제공하는데 기본값은 **100**이다.\r\n",
        "\r\n",
        "또한 Ridge회귀, Lasso회귀와 마찬가지로 규제가 존재하는데, 기본적으로 Ridge회귀와 동일하게 \r\n",
        "\r\n",
        "계수의 제곱을 규제한다. 이를 **L2 규제**라 한다.\r\n",
        "\r\n",
        "매개변수로 **C**를 사용하며 기본값은 **1**이며 \r\n",
        "\r\n",
        "**C값이 커지면 규제가 완화되고**, **C값이 작아짐에 따라 규제가 강화된다**."
      ]
    },
    {
      "cell_type": "code",
      "metadata": {
        "colab": {
          "base_uri": "https://localhost:8080/"
        },
        "id": "OtAX3Usg1pyP",
        "outputId": "49e7f346-a83d-459b-e0ac-c4826fab02a3"
      },
      "source": [
        "lr=LogisticRegression(C=20,max_iter=1000)\r\n",
        "lr.fit(x_train,y_train)\r\n",
        "print('train_set의 점수 : ',lr.score(x_train,y_train))\r\n",
        "print('test_set의 점수 : ',lr.score(x_test,y_test))"
      ],
      "execution_count": 19,
      "outputs": [
        {
          "output_type": "stream",
          "text": [
            "train_set의 점수 :  0.9327731092436975\n",
            "test_set의 점수 :  0.925\n"
          ],
          "name": "stdout"
        }
      ]
    },
    {
      "cell_type": "code",
      "metadata": {
        "colab": {
          "base_uri": "https://localhost:8080/"
        },
        "id": "bOC2C32W19hJ",
        "outputId": "48653763-e768-4909-85f7-b511d45190d1"
      },
      "source": [
        "print(lr.predict(x_test[:5]))"
      ],
      "execution_count": 20,
      "outputs": [
        {
          "output_type": "stream",
          "text": [
            "['Perch' 'Smelt' 'Pike' 'Roach' 'Perch']\n"
          ],
          "name": "stdout"
        }
      ]
    },
    {
      "cell_type": "code",
      "metadata": {
        "colab": {
          "base_uri": "https://localhost:8080/"
        },
        "id": "1UEYUxeT2Cvw",
        "outputId": "40ee8ac6-eb96-4fde-a4bb-8da3be51d8b0"
      },
      "source": [
        "prob=lr.predict_proba(x_test[:5])\r\n",
        "print(np.round(prob,decimals=3))"
      ],
      "execution_count": 21,
      "outputs": [
        {
          "output_type": "stream",
          "text": [
            "[[0.    0.014 0.841 0.    0.136 0.007 0.003]\n",
            " [0.    0.003 0.044 0.    0.007 0.946 0.   ]\n",
            " [0.    0.    0.034 0.935 0.015 0.016 0.   ]\n",
            " [0.011 0.034 0.306 0.007 0.567 0.    0.076]\n",
            " [0.    0.    0.904 0.002 0.089 0.002 0.001]]\n"
          ],
          "name": "stdout"
        }
      ]
    },
    {
      "cell_type": "markdown",
      "metadata": {
        "id": "tb0pnMyb2g1C"
      },
      "source": [
        "앞에서 학습한 것과 마찬가지로 lr.classes_는 각 클래스(target 데이터)들을 \r\n",
        "\r\n",
        "알파벳 순으로 정렬해서 학습을 진행한다.\r\n",
        "\r\n"
      ]
    },
    {
      "cell_type": "code",
      "metadata": {
        "colab": {
          "base_uri": "https://localhost:8080/"
        },
        "id": "jb2ajBaO2NER",
        "outputId": "510bf1e1-cbb7-41de-d48a-bf3e26c3a69b"
      },
      "source": [
        "print(lr.classes_)"
      ],
      "execution_count": 22,
      "outputs": [
        {
          "output_type": "stream",
          "text": [
            "['Bream' 'Parkki' 'Perch' 'Pike' 'Roach' 'Smelt' 'Whitefish']\n"
          ],
          "name": "stdout"
        }
      ]
    },
    {
      "cell_type": "markdown",
      "metadata": {
        "id": "2nvnAzS12wvo"
      },
      "source": [
        "이진분류와는 다르게 lr.coef_에는 각 클래스마다 z값을 계산하는 계수와 절편이 다르다.\r\n",
        "\r\n",
        "따라서 총 7개의 클래스를 구해주는 계수,절편을 통해 7\\*5,7\\*1의 모양을 가진다.\r\n",
        "\r\n"
      ]
    },
    {
      "cell_type": "code",
      "metadata": {
        "colab": {
          "base_uri": "https://localhost:8080/"
        },
        "id": "fxshY3q92UMs",
        "outputId": "ba0aeb46-ce78-4e42-ff92-9fe0047ad66a"
      },
      "source": [
        "print(lr.coef_,lr.intercept_,'\\n',lr.coef_.shape)"
      ],
      "execution_count": 23,
      "outputs": [
        {
          "output_type": "stream",
          "text": [
            "[[-1.49002911 -1.02919221  2.59351113  7.70354318 -1.20068079]\n",
            " [ 0.19619256 -2.0106062  -3.77982687  6.50490143 -1.99486463]\n",
            " [ 3.56278472  6.34361428 -8.48973364 -5.75756295  3.79309039]\n",
            " [-0.10458533  3.60316654  3.93067417 -3.61731229 -1.75070607]\n",
            " [-1.40059104 -6.07505264  5.25967743 -0.87222909  1.86043657]\n",
            " [-1.38528628  1.49217379  1.3922839  -5.67732641 -4.40095877]\n",
            " [ 0.62151448 -2.32410356 -0.90658611  1.71598614  3.69368329]] [-0.09204845 -0.26290731  3.25101057 -0.14742485  2.65496057 -6.78780765\n",
            "  1.38421712] \n",
            " (7, 5)\n"
          ],
          "name": "stdout"
        }
      ]
    },
    {
      "cell_type": "markdown",
      "metadata": {
        "id": "c5FelyNT3NVt"
      },
      "source": [
        "z값을 알아내고 이를 확률로 계산하기 위해 이진분류에서는 **Sigmoid 함수**를 사용했다.\r\n",
        "\r\n",
        "다중분류에서는 z값을 계산하기위해 **Softmax 함수**를 사용해서 확률로 변환시킨다.\r\n",
        "\r\n",
        "**Softmax 함수**는 클래스가 위의 모형과 같이 7개가 있다고하면,\r\n",
        "\r\n",
        "![image.png](data:image/png;base64,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)\r\n",
        "(단, 각 zn은 클래스를 의미) 로 나타낼 수 있으며, \r\n",
        "\r\n",
        "확률은 아래와 같이 나타낼 수 있다. \r\n",
        "\r\n",
        "![image.png](data:image/png;base64,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)\r\n",
        "(단, 각 pn은 zn의 확률)"
      ]
    },
    {
      "cell_type": "markdown",
      "metadata": {
        "id": "yNQPbEsO5rfX"
      },
      "source": [
        "이진분류에서도 마찬가지로 LogisticRegression의 **decision_function**을 사용하여\r\n",
        "\r\n",
        "z값을 구하여 scipy에서 제공하는 **softmax**함수를 사용하여 확률을 구해보겠다."
      ]
    },
    {
      "cell_type": "code",
      "metadata": {
        "colab": {
          "base_uri": "https://localhost:8080/"
        },
        "id": "L0YbaOM22do1",
        "outputId": "c1f1f159-d4d4-43c7-e0f9-a15e31df46a1"
      },
      "source": [
        "z=lr.decision_function(x_test[:5])\r\n",
        "print(np.round(z,decimals=3))"
      ],
      "execution_count": 24,
      "outputs": [
        {
          "output_type": "stream",
          "text": [
            "[[ -6.498   1.032   5.164  -2.729   3.339   0.326  -0.634]\n",
            " [-10.859   1.927   4.771  -2.398   2.978   7.841  -4.26 ]\n",
            " [ -4.335  -6.233   3.174   6.487   2.358   2.421  -3.872]\n",
            " [ -0.683   0.453   2.647  -1.187   3.265  -5.753   1.259]\n",
            " [ -6.397  -1.993   5.816  -0.11    3.503  -0.112  -0.707]]\n"
          ],
          "name": "stdout"
        }
      ]
    },
    {
      "cell_type": "code",
      "metadata": {
        "colab": {
          "base_uri": "https://localhost:8080/"
        },
        "id": "171pfP916Rt4",
        "outputId": "d1a528ab-ea3b-499a-82bc-e4d78860cd6b"
      },
      "source": [
        "from scipy.special import softmax\r\n",
        "prob=softmax(z,axis=1)\r\n",
        "print(np.round(prob,decimals=3))"
      ],
      "execution_count": 25,
      "outputs": [
        {
          "output_type": "stream",
          "text": [
            "[[0.    0.014 0.841 0.    0.136 0.007 0.003]\n",
            " [0.    0.003 0.044 0.    0.007 0.946 0.   ]\n",
            " [0.    0.    0.034 0.935 0.015 0.016 0.   ]\n",
            " [0.011 0.034 0.306 0.007 0.567 0.    0.076]\n",
            " [0.    0.    0.904 0.002 0.089 0.002 0.001]]\n"
          ],
          "name": "stdout"
        }
      ]
    }
  ]
}