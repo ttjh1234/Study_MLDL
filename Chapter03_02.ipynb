{
  "nbformat": 4,
  "nbformat_minor": 0,
  "metadata": {
    "colab": {
      "name": "chapter03_02.ipynb",
      "provenance": [],
      "collapsed_sections": [],
      "authorship_tag": "ABX9TyMNYJJ7QbmMtg37/qHBzvLe",
      "include_colab_link": true
    },
    "kernelspec": {
      "name": "python3",
      "display_name": "Python 3"
    }
  },
  "cells": [
    {
      "cell_type": "markdown",
      "metadata": {
        "id": "view-in-github",
        "colab_type": "text"
      },
      "source": [
        "<a href=\"https://colab.research.google.com/github/ttjh1234/Study_MLDL/blob/main/Chapter03_02.ipynb\" target=\"_parent\"><img src=\"https://colab.research.google.com/assets/colab-badge.svg\" alt=\"Open In Colab\"/></a>"
      ]
    },
    {
      "cell_type": "markdown",
      "metadata": {
        "id": "fWurlnfatyjM"
      },
      "source": [
        "#선형회귀"
      ]
    },
    {
      "cell_type": "markdown",
      "metadata": {
        "id": "EuKC1i13t2lD"
      },
      "source": [
        "농어의 무게 구하기 문제\r\n",
        "\r\n",
        "첫 번째 방법으로 **K-최근접 이웃 회귀** 방법을 사용했지만, \r\n",
        "\r\n",
        "단점이 들어나며 이를 보완하기 위해\r\n",
        "\r\n",
        "두 번째 방법으로 **선형회귀** 방법을 사용한다.\r\n",
        "\r\n",
        "데이터는 https://bit.ly/perch_data 를 참조하여 사용하였다."
      ]
    },
    {
      "cell_type": "markdown",
      "metadata": {
        "id": "1h5hwPSduZ1X"
      },
      "source": [
        "##데이터 준비"
      ]
    },
    {
      "cell_type": "markdown",
      "metadata": {
        "id": "_ysG6xVOuhBi"
      },
      "source": [
        "Chapter03_01과 같은 데이터를 사용하며, **K-최근접 이웃 회귀**의 **단점**을 알아본다."
      ]
    },
    {
      "cell_type": "code",
      "metadata": {
        "colab": {
          "base_uri": "https://localhost:8080/"
        },
        "id": "vXcV2CFor2EF",
        "outputId": "42f32101-9cf2-434a-8a3f-ccdffdd14cf8"
      },
      "source": [
        "import numpy as np\r\n",
        "perch_length = np.array([8.4, 13.7, 15.0, 16.2, 17.4, 18.0, 18.7, 19.0, 19.6, 20.0, 21.0,\r\n",
        "       21.0, 21.0, 21.3, 22.0, 22.0, 22.0, 22.0, 22.0, 22.5, 22.5, 22.7,\r\n",
        "       23.0, 23.5, 24.0, 24.0, 24.6, 25.0, 25.6, 26.5, 27.3, 27.5, 27.5,\r\n",
        "       27.5, 28.0, 28.7, 30.0, 32.8, 34.5, 35.0, 36.5, 36.0, 37.0, 37.0,\r\n",
        "       39.0, 39.0, 39.0, 40.0, 40.0, 40.0, 40.0, 42.0, 43.0, 43.0, 43.5,\r\n",
        "       44.0])\r\n",
        "perch_weight = np.array([5.9, 32.0, 40.0, 51.5, 70.0, 100.0, 78.0, 80.0, 85.0, 85.0, 110.0,\r\n",
        "       115.0, 125.0, 130.0, 120.0, 120.0, 130.0, 135.0, 110.0, 130.0,\r\n",
        "       150.0, 145.0, 150.0, 170.0, 225.0, 145.0, 188.0, 180.0, 197.0,\r\n",
        "       218.0, 300.0, 260.0, 265.0, 250.0, 250.0, 300.0, 320.0, 514.0,\r\n",
        "       556.0, 840.0, 685.0, 700.0, 700.0, 690.0, 900.0, 650.0, 820.0,\r\n",
        "       850.0, 900.0, 1015.0, 820.0, 1100.0, 1000.0, 1100.0, 1000.0,\r\n",
        "       1000.0])\r\n",
        "\r\n",
        "print(type(perch_length))\r\n",
        "print(perch_length.shape)\r\n"
      ],
      "execution_count": 1,
      "outputs": [
        {
          "output_type": "stream",
          "text": [
            "<class 'numpy.ndarray'>\n",
            "(56,)\n"
          ],
          "name": "stdout"
        }
      ]
    },
    {
      "cell_type": "markdown",
      "metadata": {
        "id": "-IY4IScwwNdH"
      },
      "source": [
        "sklearn의 **train_test_split**을 사용하여 train_set과 test_set을 나누고,\r\n",
        "\r\n",
        "모형에 적합시키기 위해 **reshape()**을 사용하여 2차원 배열을 만들어준다."
      ]
    },
    {
      "cell_type": "code",
      "metadata": {
        "id": "_Yx7nzkDux5B"
      },
      "source": [
        "from sklearn.model_selection import train_test_split\r\n",
        "x_train,x_test,y_train,y_test=train_test_split(perch_length,perch_weight,random_state=42)"
      ],
      "execution_count": 2,
      "outputs": []
    },
    {
      "cell_type": "code",
      "metadata": {
        "colab": {
          "base_uri": "https://localhost:8080/"
        },
        "id": "Mjndmqjou5lC",
        "outputId": "5a44d500-7629-47df-d41d-3d0e94871772"
      },
      "source": [
        "x_train=x_train.reshape(-1,1)\r\n",
        "x_test=x_test.reshape(-1,1)\r\n",
        "print(x_train.shape)\r\n",
        "print(x_train[:5])"
      ],
      "execution_count": 3,
      "outputs": [
        {
          "output_type": "stream",
          "text": [
            "(42, 1)\n",
            "[[19.6]\n",
            " [22. ]\n",
            " [18.7]\n",
            " [17.4]\n",
            " [36. ]]\n"
          ],
          "name": "stdout"
        }
      ]
    },
    {
      "cell_type": "markdown",
      "metadata": {
        "id": "ql7fLPfBwkw5"
      },
      "source": [
        "sklearn의 **KNeighborsRegressor**를 이용하여 K-최근접 이웃회귀 모형을 준비한다.\r\n",
        "\r\n",
        "학습시킨 모형을 기반으로 길이가 50인 test_data를 넣고 예측했을 경우 \r\n",
        "\r\n",
        "1033.33g 이라는 결과를 보여준다."
      ]
    },
    {
      "cell_type": "code",
      "metadata": {
        "colab": {
          "base_uri": "https://localhost:8080/"
        },
        "id": "6Oy4fAntu9Wx",
        "outputId": "6616ba56-e8f4-4d16-9a94-e80f8670ac6d"
      },
      "source": [
        "from sklearn.neighbors import KNeighborsRegressor\r\n",
        "knr=KNeighborsRegressor(n_neighbors=3)\r\n",
        "knr.fit(x_train,y_train)\r\n",
        "print(knr.predict([[50]]))"
      ],
      "execution_count": 4,
      "outputs": [
        {
          "output_type": "stream",
          "text": [
            "[1033.33333333]\n"
          ],
          "name": "stdout"
        }
      ]
    },
    {
      "cell_type": "markdown",
      "metadata": {
        "id": "I7i2_hhcxGrS"
      },
      "source": [
        "matplotlib를 사용하여 test_data와 이웃하는 train_set의 데이터의 인덱스를 \r\n",
        "\r\n",
        "활용하여 산점도를 찍어본다."
      ]
    },
    {
      "cell_type": "code",
      "metadata": {
        "colab": {
          "base_uri": "https://localhost:8080/",
          "height": 295
        },
        "id": "uDZYiwRuvSzM",
        "outputId": "85a5c531-8063-4ee4-cc1d-ff7153f60583"
      },
      "source": [
        "import matplotlib.pyplot as plt\r\n",
        "distances, indexes = knr.kneighbors([[50]])\r\n",
        "plt.scatter(x_train,y_train)\r\n",
        "plt.scatter(x_train[indexes],y_train[indexes],marker='D')\r\n",
        "plt.scatter(50,1033.3,marker='^')\r\n",
        "plt.xlabel('length')\r\n",
        "plt.ylabel('weight')\r\n",
        "plt.title('K-Neighbors Regression with 50')\r\n",
        "plt.show()"
      ],
      "execution_count": 5,
      "outputs": [
        {
          "output_type": "display_data",
          "data": {
            "image/png": "[encoded data removed]",
            "text/plain": [
              "<Figure size 432x288 with 1 Axes>"
            ]
          },
          "metadata": {
            "tags": [],
            "needs_background": "light"
          }
        }
      ]
    },
    {
      "cell_type": "markdown",
      "metadata": {
        "id": "TQUdmGKGxnCM"
      },
      "source": [
        "이번엔 길이가 **100** 인 농어가 있다고 가정하고, 다시 모형에 넣으면,\r\n",
        "\r\n",
        "\r\n",
        "길이가 50인 농어의 결과와 **같은** 결과를 나타낸다.\r\n",
        "\r\n",
        "길이가 100인 농어와 이웃한 train_set 데이터를 확인하고 산점도를 그리면\r\n",
        "\r\n",
        "아래와 같다."
      ]
    },
    {
      "cell_type": "code",
      "metadata": {
        "colab": {
          "base_uri": "https://localhost:8080/"
        },
        "id": "jW6cYO97vr-M",
        "outputId": "5195db52-369b-41d0-d7ee-b4153af375c0"
      },
      "source": [
        "print(np.mean(y_train[indexes]))\r\n",
        "print(knr.predict([[100]]))"
      ],
      "execution_count": 6,
      "outputs": [
        {
          "output_type": "stream",
          "text": [
            "1033.3333333333333\n",
            "[1033.33333333]\n"
          ],
          "name": "stdout"
        }
      ]
    },
    {
      "cell_type": "code",
      "metadata": {
        "colab": {
          "base_uri": "https://localhost:8080/",
          "height": 295
        },
        "id": "QMoLOHXJv8t_",
        "outputId": "e3026442-c8e9-41a4-b4d6-5ab4e466aaeb"
      },
      "source": [
        "distances, indexes = knr.kneighbors([[100]])\r\n",
        "plt.scatter(x_train,y_train)\r\n",
        "plt.scatter(x_train[indexes],y_train[indexes],marker='D')\r\n",
        "plt.scatter(100,1033.3,marker='^')\r\n",
        "plt.xlabel('length')\r\n",
        "plt.ylabel('weight')\r\n",
        "plt.title('K-Neighbors Regression with 100')\r\n",
        "plt.show()"
      ],
      "execution_count": 7,
      "outputs": [
        {
          "output_type": "display_data",
          "data": {
            "image/png": "[encoded data removed]",
            "text/plain": [
              "<Figure size 432x288 with 1 Axes>"
            ]
          },
          "metadata": {
            "tags": [],
            "needs_background": "light"
          }
        }
      ]
    },
    {
      "cell_type": "markdown",
      "metadata": {
        "id": "Aeh5UcHxyBdx"
      },
      "source": [
        "##선형 회귀"
      ]
    },
    {
      "cell_type": "markdown",
      "metadata": {
        "id": "Dq0n8ZrKyJrz"
      },
      "source": [
        "위에서 살펴보았던 K-최근접 이웃 회귀의 가장 큰 단점은\r\n",
        "\r\n",
        "학습한 모형 범위(train_set의 범위) 보다 **더 큰 데이터**가 들어왔을 때, \r\n",
        "\r\n",
        "**정확한 예측이 불가**하다는 점이다.\r\n",
        "\r\n",
        "(왜냐하면 train_set에 위치한 **가장 가까운 데이**터들의 평균을 가지고 예측하기 때문.)\r\n",
        "\r\n",
        "이를 해결하기 위해 **선형회귀**를 먼저 사용하겠다."
      ]
    },
    {
      "cell_type": "markdown",
      "metadata": {
        "id": "Jf3jnN_2zREe"
      },
      "source": [
        "sklearn의 **LinearRegression** 를 통해 선형회귀를 진행해본다.\r\n",
        "\r\n",
        "선형회귀는 **y=a*x+b** 를 토대로 직선의 방정식에서 계수와 절편을 찾는 문제가 된다.\r\n",
        "\r\n",
        "위의 계수와 절편을 **ML 알고리즘**에서 **model parameter**라고 하며,\r\n",
        "\r\n",
        "ML알고리즘의 훈련과정 중 최적의 model parameter를 찾는 것을 \r\n",
        "\r\n",
        "**모델 기반 학습** 이라고 불린다.\r\n",
        "\r\n"
      ]
    },
    {
      "cell_type": "code",
      "metadata": {
        "colab": {
          "base_uri": "https://localhost:8080/"
        },
        "id": "9bgMiSYgyFgE",
        "outputId": "f846a90e-9921-44df-9b60-9ba514c6e862"
      },
      "source": [
        "from sklearn.linear_model import LinearRegression\r\n",
        "lr=LinearRegression()\r\n",
        "\r\n",
        "lr.fit(x_train,y_train)\r\n",
        "print(lr.predict([[50]]))\r\n",
        "print(lr.coef_,lr.intercept_)"
      ],
      "execution_count": 8,
      "outputs": [
        {
          "output_type": "stream",
          "text": [
            "[1241.83860323]\n",
            "[39.01714496] -709.0186449535477\n"
          ],
          "name": "stdout"
        }
      ]
    },
    {
      "cell_type": "code",
      "metadata": {
        "colab": {
          "base_uri": "https://localhost:8080/",
          "height": 295
        },
        "id": "BU1JI7NpzOme",
        "outputId": "92015ef5-8aea-473e-b897-4a05c3e07c7a"
      },
      "source": [
        "plt.scatter(x_train,y_train)\r\n",
        "plt.plot([15,50],[15*lr.coef_+lr.intercept_,50*lr.coef_+lr.intercept_])\r\n",
        "plt.scatter(50,1241.8,marker='^')\r\n",
        "plt.xlabel('length')\r\n",
        "plt.ylabel('weight')\r\n",
        "plt.title('Linear Regression with 50')\r\n",
        "plt.show()"
      ],
      "execution_count": 9,
      "outputs": [
        {
          "output_type": "display_data",
          "data": {
            "image/png": "[encoded data removed]",
            "text/plain": [
              "<Figure size 432x288 with 1 Axes>"
            ]
          },
          "metadata": {
            "tags": [],
            "needs_background": "light"
          }
        }
      ]
    },
    {
      "cell_type": "markdown",
      "metadata": {
        "id": "vaAe09ub1Gjq"
      },
      "source": [
        "선형회귀를 사용한 모델에서 train_set과 test_set의 **R^2**을 보면\r\n",
        "\r\n",
        "train_set과 test_set 두 점수 **모두 높지 않으며**, \r\n",
        "\r\n",
        "회귀 직선을 보면, length가 **줄어듦**에 따라 weight가 **음수**가 될 수 있음을 알 수 있다."
      ]
    },
    {
      "cell_type": "code",
      "metadata": {
        "colab": {
          "base_uri": "https://localhost:8080/"
        },
        "id": "UKPt2gmI0wh3",
        "outputId": "0b1f7f19-bcd4-4a29-fda2-cf59cceb37da"
      },
      "source": [
        "print(lr.score(x_train,y_train))\r\n",
        "print(lr.score(x_test,y_test))"
      ],
      "execution_count": 10,
      "outputs": [
        {
          "output_type": "stream",
          "text": [
            "0.9398463339976039\n",
            "0.8247503123313558\n"
          ],
          "name": "stdout"
        }
      ]
    },
    {
      "cell_type": "markdown",
      "metadata": {
        "id": "oj0pKcE71wRH"
      },
      "source": [
        "##다항 회귀"
      ]
    },
    {
      "cell_type": "markdown",
      "metadata": {
        "id": "C2OYAZl_2y4_"
      },
      "source": [
        "선형 회귀에서 나타난 단점을 해결하기 위해 **다항 회귀**를 사용한다.\r\n",
        "\r\n",
        "다항회귀를 사용하기 위해 **특성^2**이라는 새로운 특성을 만들어 사용한다."
      ]
    },
    {
      "cell_type": "code",
      "metadata": {
        "colab": {
          "base_uri": "https://localhost:8080/"
        },
        "id": "T6f1nP2j1z_l",
        "outputId": "52762965-a8ef-4616-c8a9-3866b8a89dc4"
      },
      "source": [
        "x_train_poly=np.column_stack((x_train**2,x_train))\r\n",
        "x_test_poly=np.column_stack((x_test**2,x_test))\r\n",
        "\r\n",
        "print(x_train_poly[:5])\r\n",
        "print(x_train_poly.shape,x_test_poly.shape)"
      ],
      "execution_count": 11,
      "outputs": [
        {
          "output_type": "stream",
          "text": [
            "[[ 384.16   19.6 ]\n",
            " [ 484.     22.  ]\n",
            " [ 349.69   18.7 ]\n",
            " [ 302.76   17.4 ]\n",
            " [1296.     36.  ]]\n",
            "(42, 2) (14, 2)\n"
          ],
          "name": "stdout"
        }
      ]
    },
    {
      "cell_type": "markdown",
      "metadata": {
        "id": "mZw_FE0I42AT"
      },
      "source": [
        "마찬가지로 선형회귀와 같은 함수를 사용하지만,\r\n",
        "\r\n",
        "데이터를 모형을 이용하여 예측할 때 같은 **형변환**을 해서 사용한다.\r\n",
        "\r\n",
        "선형 회귀와는 다르게 계수를 보면 제곱항의 계수가 추가되며 나타난다."
      ]
    },
    {
      "cell_type": "code",
      "metadata": {
        "colab": {
          "base_uri": "https://localhost:8080/"
        },
        "id": "-c--56sQ3kfS",
        "outputId": "235e0bce-ec84-46ed-c317-67063388ea59"
      },
      "source": [
        "lr=LinearRegression()\r\n",
        "lr.fit(x_train_poly,y_train)\r\n",
        "print(lr.predict([[50**2,50]]))\r\n",
        "print(lr.coef_,lr.intercept_)"
      ],
      "execution_count": 12,
      "outputs": [
        {
          "output_type": "stream",
          "text": [
            "[1573.98423528]\n",
            "[  1.01433211 -21.55792498] 116.05021078278276\n"
          ],
          "name": "stdout"
        }
      ]
    },
    {
      "cell_type": "code",
      "metadata": {
        "colab": {
          "base_uri": "https://localhost:8080/",
          "height": 295
        },
        "id": "Pcb1jlkp30c4",
        "outputId": "c783c325-e86c-446c-9846-4facbe505b6d"
      },
      "source": [
        "point=np.arange(15,50)\r\n",
        "plt.scatter(x_train,y_train)\r\n",
        "plt.plot(point,1.01*point**2-21.55*point+116.05)\r\n",
        "plt.scatter(50,1574,marker='^')\r\n",
        "plt.xlabel('length')\r\n",
        "plt.ylabel('weight')\r\n",
        "plt.title('Polynomial Regression with 50')\r\n",
        "plt.show()"
      ],
      "execution_count": 13,
      "outputs": [
        {
          "output_type": "display_data",
          "data": {
            "image/png": "[encoded data removed]",
            "text/plain": [
              "<Figure size 432x288 with 1 Axes>"
            ]
          },
          "metadata": {
            "tags": [],
            "needs_background": "light"
          }
        }
      ]
    },
    {
      "cell_type": "markdown",
      "metadata": {
        "id": "-jRh4Pv-5Voo"
      },
      "source": [
        "결과를 보면 **train_set과 test_set의 점수가 높아졌지만**,\r\n",
        "\r\n",
        "**test_set의 점수가 더 높은 것으로 보아 아직까지 과소적합**이 남아있는 것을 확인할 수 있다.\r\n",
        "\r\n",
        "이를 해결하기위해 조금 더 **복잡한** 모형이 필요할 것 같다."
      ]
    },
    {
      "cell_type": "code",
      "metadata": {
        "colab": {
          "base_uri": "https://localhost:8080/"
        },
        "id": "CK8VP8M54ZAx",
        "outputId": "0db6f8e4-7c34-4930-85ac-380758a00447"
      },
      "source": [
        "print(lr.score(x_train_poly,y_train))\r\n",
        "print(lr.score(x_test_poly,y_test))"
      ],
      "execution_count": 14,
      "outputs": [
        {
          "output_type": "stream",
          "text": [
            "0.9706807451768623\n",
            "0.9775935108325122\n"
          ],
          "name": "stdout"
        }
      ]
    }
  ]
}
